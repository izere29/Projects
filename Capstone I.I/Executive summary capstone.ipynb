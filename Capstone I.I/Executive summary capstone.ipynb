{
 "cells": [
  {
   "cell_type": "markdown",
   "id": "a2e8db22",
   "metadata": {},
   "source": [
    "# Prediction of airbnb listing price \n",
    "\n",
    "## Overview \n",
    "\n",
    "This project aims to build a regression model that predict the listing price of an airbnb and also identifier the features that are needed to maximize the price.\n",
    "The airbnb is a booming business in the hospitality industry right now . Many people are buying house or renting house to make them airbnbs and increase their income. The aim of this project is to build a regression machine learning model that can help in predicting the price of the airbnb and helping the owner maximize the profits.\n",
    "\n",
    "## Data Collection\n",
    "\n",
    "I got this dataset from Kaggle.com but it is a combination of different dataset from inside Airbnb.com.It is collection of some listing of houses in different city of United States.https://www.kaggle.com/kritikseth/us-airbnb-open-data\n",
    "\n",
    "This dataset has one file- AB_US_2020.csv which has columns describing features such as host id, hostname, listing id, listing name, latitude and longitude of listing, the neighbourhood, price, room type, minimum number of nights, number of reviews, last review date, reviews per month, availability, host listings and city.\n",
    "\n",
    "## Exploratory Data Analysis\n",
    "\n",
    " This part is divided into two sub part : the numerical and categorical features and The description for NLP(Nature Language Processing).\n",
    "\n",
    "Analysed the distribution and relationship between features using visualization .\n",
    "\n",
    "Analysed the description of the airbnb to understand how words are used \n",
    "\n",
    "\n",
    "## Modeling\n",
    "\n",
    "Based on our problem statement to build a regression machine learning model that can help in predicting the listing price of the airbnb and helping the owner understand the important features, We used regression model that can help us with inference.\n",
    "\n",
    "We built and compare  4  regression models using a linear regression as a baseline .\n",
    "Linear regression,Decision tree , Random Forest  and XGboost models.\n",
    "\n",
    "## Evaluation\n",
    "\n",
    "This are the evaluation metrics used :the RMSE (root mean squared error) measures the quality of the fit of our model. if the predicted value are close to the true value, the RMSE will be small and RMSE will be large if the predicted value and true value are substantially different.\n",
    "R² is also another way to evaluate our model. The R², also called coefficient of determination, measures variance explained by the model over total variances. higher R² values represent smaller differences between the observed data and the fitted values.\n",
    "\n",
    "\n",
    "|          Model           | Training RMSE | Testing RMSE |\n",
    "|:------------------------:|:-------------:|:------------:|\n",
    "|     Linear Regression    |    287.6      |     290.5    |\n",
    "|       Decision Tree      |     5.1       |     320.6    |\n",
    "|       Random Forest      |     129.6     |     234.2    |\n",
    "|         XGBoost          |    211.13     |    236.07    |\n",
    "\n",
    "|           Model          | Training score| Testing score|\n",
    "|:------------------------:|:-------------:|:------------:|\n",
    "|     Linear Regression    |     0.292     |     0.291    |\n",
    "|       Decision Tree      |     0.99      |     0.17     |\n",
    "|       Random Forest      |     0.94      |     0.57     |\n",
    "|         XGBoost          |    0.69       |    0.58      |\n",
    "\n",
    "## conclusion \n",
    "\n",
    "Looking at this score we are going to use the XGBOOST model because it has the lowest variance between the trainning and the test if even if it is overfit but it is 40% increase in accuray with the base line of the linear regression.\n",
    "In terms of features importances , the Type of accommodation and location  are the important features necessary to predict the price. \n",
    "The city with the highest numbers of airbnbs are the touristic sities, entertairnment and vacation , considering having an airbnb there can be an extra source of income."
   ]
  }
 ],
 "metadata": {
  "kernelspec": {
   "display_name": "Python 3",
   "language": "python",
   "name": "python3"
  },
  "language_info": {
   "codemirror_mode": {
    "name": "ipython",
    "version": 3
   },
   "file_extension": ".py",
   "mimetype": "text/x-python",
   "name": "python",
   "nbconvert_exporter": "python",
   "pygments_lexer": "ipython3",
   "version": "3.8.8"
  }
 },
 "nbformat": 4,
 "nbformat_minor": 5
}
