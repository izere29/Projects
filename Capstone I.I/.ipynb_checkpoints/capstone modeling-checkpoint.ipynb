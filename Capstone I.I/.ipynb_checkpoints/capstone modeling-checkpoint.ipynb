{
 "cells": [
  {
   "cell_type": "markdown",
   "id": "d80a5a4a",
   "metadata": {},
   "source": [
    "# CAPSTONE PROJECT : PREDICTING AIRBNB LISTING PRICE "
   ]
  },
  {
   "cell_type": "markdown",
   "id": "83ade23d",
   "metadata": {},
   "source": [
    "## Overview"
   ]
  },
  {
   "cell_type": "markdown",
   "id": "e13095ef",
   "metadata": {},
   "source": [
    "the aim of this project is to build a regression model that will help predict "
   ]
  },
  {
   "cell_type": "markdown",
   "id": "5450e7e5",
   "metadata": {},
   "source": [
    "The airbnb is a booming business in the hospitality industry right now . Many people are buying house or renting house to make them airbnbs and increase their income. The aim of this project is to build a regression machine learning model that can help in predicting the price of the airbnb and helping the owner maximize the profits.\n",
    "\n",
    "In this project, I will work on building a regression model that predict the listing price of an airbnb and also identifier the features that are needed to maximize the price."
   ]
  },
  {
   "cell_type": "markdown",
   "id": "585852fe",
   "metadata": {},
   "source": [
    "### Contents:\n",
    "- [Background](#Background)\n",
    "- [Data Import & Cleaning](#Data-Import-and-Cleaning)\n",
    "- [Exploratory Data Analysis](#Exploratory-Data-Analysis)\n",
    "- [Data Visualization](#Visualize-the-Data)\n",
    "- [Pre-Processing](#Pre--proocessing)\n",
    "- [Modeling](#Modeling)\n",
    "- [Conclusions and Recommendations](#Conclusions-and-Recommendations)"
   ]
  },
  {
   "cell_type": "markdown",
   "id": "c461f0c0",
   "metadata": {},
   "source": [
    "## Data collection & Data dictionary"
   ]
  },
  {
   "cell_type": "markdown",
   "id": "55e8d980",
   "metadata": {},
   "source": [
    "I got this dataset from Kaggle.com but it is a combination of different dataset from inside Airbnb.com.It is collection of some listing of houses in different city of United States.https://www.kaggle.com/kritikseth/us-airbnb-open-data\n",
    "\n",
    "This dataset has one file- AB_US_2020.csv which has columns describing features such as host id, hostname, listing id, listing name, latitude and longitude of listing, the neighbourhood, price, room type, minimum number of nights, number of reviews, last review date, reviews per month, availability, host listings and city.\n",
    "\n",
    "The dataset is made of 226030 rows and 17 features ."
   ]
  },
  {
   "cell_type": "markdown",
   "id": "e9d7f3d4",
   "metadata": {},
   "source": [
    "| Column | Type  | Description | \n",
    "| ----------- | ----------- | ----------- |\n",
    "| id | integer | Airbnb's unique identifier for the listing |\n",
    "|  name | object | Description of the airbnb |\n",
    "| host_id | integer | Airbnb's unique identifier for the host/user  |\n",
    "| host_name | object | Name of the host. Usually just the first name(s). |\n",
    "| neighbourhood_group | object |The neighbourhood group as geocoded using the latitude and longitude against neighborhoods as defined by open or public digital shapefiles. |\n",
    "| neighbourhood | object |The neighbourhood group as geocoded using the latitude and longitude against neighborhoods as defined by open or public digital shapefiles. |\n",
    "| latitude | integer | Uses the World Geodetic System (WGS84) projection for latitude and longitude. |\n",
    "|  longitude | integer | Uses the World Geodetic System (WGS84) projection for latitude and longitude. |\n",
    "| room_type | object | Types of places to stay |\n",
    "|  price | integer | daily price in local currency. Note, $ sign may be used despite locale |\n",
    "| minimum_nights | integer | minimum number of night stay for the listing (calendar rules may be different)  |\n",
    "| number_of_reviews | integer | The number of reviews the listing has |\n",
    "| last_review | object | The date of the last/newest review |\n",
    "| reviews_per_month | integer | The number of reviews the listing has per month |\n",
    "| calculated_host_listings_count | integer | The number of listings the host has in the current scrape, in the city/region geography.|\n",
    "|  availability_365 | integer | avaliability_x. The availability of the listing x days in the future as determined by the calendar. Note a listing may be available because it has been booked by a guest or blocked by the host. |\n",
    "|  City | object | the city in which the airbnb is located |"
   ]
  },
  {
   "cell_type": "markdown",
   "id": "b2b3ea82",
   "metadata": {},
   "source": [
    "## Data Import and  Data Cleaning"
   ]
  },
  {
   "cell_type": "markdown",
   "id": "e6643a92",
   "metadata": {},
   "source": [
    "In this part ,we are going to import different libraries  that will be used throughout this project."
   ]
  },
  {
   "cell_type": "code",
   "execution_count": 100,
   "id": "d1ad811b",
   "metadata": {},
   "outputs": [],
   "source": [
    "#importing libraries\n",
    "import pandas as pd\n",
    "import numpy as np\n",
    "import statistics\n",
    "import matplotlib.pyplot as plt\n",
    "from scipy.stats import ttest_ind\n",
    "import seaborn as sns\n",
    "\n",
    "\n",
    "# for nlp\n",
    "import nltk\n",
    "from sklearn.feature_extraction.text import CountVectorizer, TfidfVectorizer\n",
    "from nltk.tokenize import sent_tokenize, word_tokenize, RegexpTokenizer\n",
    "from nltk.stem import WordNetLemmatizer\n",
    "from nltk.corpus import stopwords\n",
    "from nltk.sentiment.vader import SentimentIntensityAnalyzer\n",
    "\n",
    "from sklearn.impute import SimpleImputer\n",
    "from sklearn.preprocessing import StandardScaler, PolynomialFeatures\n",
    "\n",
    "\n",
    "#for modelling \n",
    "from sklearn.linear_model import LinearRegression\n",
    "from sklearn.neighbors import KNeighborsRegressor\n",
    "from sklearn.tree import DecisionTreeRegressor\n",
    "from sklearn.model_selection import train_test_split, cross_val_score, cross_val_predict,GridSearchCV\n",
    "from sklearn.metrics import mean_squared_error\n",
    "from sklearn.ensemble import BaggingRegressor,RandomForestRegressor,AdaBoostRegressor"
   ]
  },
  {
   "cell_type": "code",
   "execution_count": null,
   "id": "3000b9b4",
   "metadata": {},
   "outputs": [],
   "source": []
  },
  {
   "cell_type": "code",
   "execution_count": 2,
   "id": "9ea2b696",
   "metadata": {},
   "outputs": [
    {
     "name": "stderr",
     "output_type": "stream",
     "text": [
      "C:\\Users\\irene\\anaconda3\\envs\\dsirfx_py38\\lib\\site-packages\\IPython\\core\\interactiveshell.py:3165: DtypeWarning: Columns (4) have mixed types.Specify dtype option on import or set low_memory=False.\n",
      "  has_raised = await self.run_ast_nodes(code_ast.body, cell_name,\n"
     ]
    },
    {
     "data": {
      "text/html": [
       "<div>\n",
       "<style scoped>\n",
       "    .dataframe tbody tr th:only-of-type {\n",
       "        vertical-align: middle;\n",
       "    }\n",
       "\n",
       "    .dataframe tbody tr th {\n",
       "        vertical-align: top;\n",
       "    }\n",
       "\n",
       "    .dataframe thead th {\n",
       "        text-align: right;\n",
       "    }\n",
       "</style>\n",
       "<table border=\"1\" class=\"dataframe\">\n",
       "  <thead>\n",
       "    <tr style=\"text-align: right;\">\n",
       "      <th></th>\n",
       "      <th>id</th>\n",
       "      <th>name</th>\n",
       "      <th>host_id</th>\n",
       "      <th>host_name</th>\n",
       "      <th>neighbourhood_group</th>\n",
       "      <th>neighbourhood</th>\n",
       "      <th>latitude</th>\n",
       "      <th>longitude</th>\n",
       "      <th>room_type</th>\n",
       "      <th>price</th>\n",
       "      <th>minimum_nights</th>\n",
       "      <th>number_of_reviews</th>\n",
       "      <th>last_review</th>\n",
       "      <th>reviews_per_month</th>\n",
       "      <th>calculated_host_listings_count</th>\n",
       "      <th>availability_365</th>\n",
       "      <th>city</th>\n",
       "    </tr>\n",
       "  </thead>\n",
       "  <tbody>\n",
       "    <tr>\n",
       "      <th>0</th>\n",
       "      <td>38585</td>\n",
       "      <td>Charming Victorian home - twin beds + breakfast</td>\n",
       "      <td>165529</td>\n",
       "      <td>Evelyne</td>\n",
       "      <td>NaN</td>\n",
       "      <td>28804</td>\n",
       "      <td>35.65146</td>\n",
       "      <td>-82.62792</td>\n",
       "      <td>Private room</td>\n",
       "      <td>60</td>\n",
       "      <td>1</td>\n",
       "      <td>138</td>\n",
       "      <td>16/02/20</td>\n",
       "      <td>1.14</td>\n",
       "      <td>1</td>\n",
       "      <td>0</td>\n",
       "      <td>Asheville</td>\n",
       "    </tr>\n",
       "    <tr>\n",
       "      <th>1</th>\n",
       "      <td>80905</td>\n",
       "      <td>French Chic Loft</td>\n",
       "      <td>427027</td>\n",
       "      <td>Celeste</td>\n",
       "      <td>NaN</td>\n",
       "      <td>28801</td>\n",
       "      <td>35.59779</td>\n",
       "      <td>-82.55540</td>\n",
       "      <td>Entire home/apt</td>\n",
       "      <td>470</td>\n",
       "      <td>1</td>\n",
       "      <td>114</td>\n",
       "      <td>07/09/20</td>\n",
       "      <td>1.03</td>\n",
       "      <td>11</td>\n",
       "      <td>288</td>\n",
       "      <td>Asheville</td>\n",
       "    </tr>\n",
       "    <tr>\n",
       "      <th>2</th>\n",
       "      <td>108061</td>\n",
       "      <td>Walk to stores/parks/downtown. Fenced yard/Pet...</td>\n",
       "      <td>320564</td>\n",
       "      <td>Lisa</td>\n",
       "      <td>NaN</td>\n",
       "      <td>28801</td>\n",
       "      <td>35.60670</td>\n",
       "      <td>-82.55563</td>\n",
       "      <td>Entire home/apt</td>\n",
       "      <td>75</td>\n",
       "      <td>30</td>\n",
       "      <td>89</td>\n",
       "      <td>30/11/19</td>\n",
       "      <td>0.81</td>\n",
       "      <td>2</td>\n",
       "      <td>298</td>\n",
       "      <td>Asheville</td>\n",
       "    </tr>\n",
       "    <tr>\n",
       "      <th>3</th>\n",
       "      <td>155305</td>\n",
       "      <td>Cottage! BonPaul + Sharky's Hostel</td>\n",
       "      <td>746673</td>\n",
       "      <td>BonPaul</td>\n",
       "      <td>NaN</td>\n",
       "      <td>28806</td>\n",
       "      <td>35.57864</td>\n",
       "      <td>-82.59578</td>\n",
       "      <td>Entire home/apt</td>\n",
       "      <td>90</td>\n",
       "      <td>1</td>\n",
       "      <td>267</td>\n",
       "      <td>22/09/20</td>\n",
       "      <td>2.39</td>\n",
       "      <td>5</td>\n",
       "      <td>0</td>\n",
       "      <td>Asheville</td>\n",
       "    </tr>\n",
       "    <tr>\n",
       "      <th>4</th>\n",
       "      <td>160594</td>\n",
       "      <td>Historic Grove Park</td>\n",
       "      <td>769252</td>\n",
       "      <td>Elizabeth</td>\n",
       "      <td>NaN</td>\n",
       "      <td>28801</td>\n",
       "      <td>35.61442</td>\n",
       "      <td>-82.54127</td>\n",
       "      <td>Private room</td>\n",
       "      <td>125</td>\n",
       "      <td>30</td>\n",
       "      <td>58</td>\n",
       "      <td>19/10/15</td>\n",
       "      <td>0.52</td>\n",
       "      <td>1</td>\n",
       "      <td>0</td>\n",
       "      <td>Asheville</td>\n",
       "    </tr>\n",
       "  </tbody>\n",
       "</table>\n",
       "</div>"
      ],
      "text/plain": [
       "       id                                               name  host_id  \\\n",
       "0   38585    Charming Victorian home - twin beds + breakfast   165529   \n",
       "1   80905                                   French Chic Loft   427027   \n",
       "2  108061  Walk to stores/parks/downtown. Fenced yard/Pet...   320564   \n",
       "3  155305                 Cottage! BonPaul + Sharky's Hostel   746673   \n",
       "4  160594                                Historic Grove Park   769252   \n",
       "\n",
       "   host_name neighbourhood_group neighbourhood  latitude  longitude  \\\n",
       "0    Evelyne                 NaN         28804  35.65146  -82.62792   \n",
       "1    Celeste                 NaN         28801  35.59779  -82.55540   \n",
       "2       Lisa                 NaN         28801  35.60670  -82.55563   \n",
       "3    BonPaul                 NaN         28806  35.57864  -82.59578   \n",
       "4  Elizabeth                 NaN         28801  35.61442  -82.54127   \n",
       "\n",
       "         room_type  price  minimum_nights  number_of_reviews last_review  \\\n",
       "0     Private room     60               1                138    16/02/20   \n",
       "1  Entire home/apt    470               1                114    07/09/20   \n",
       "2  Entire home/apt     75              30                 89    30/11/19   \n",
       "3  Entire home/apt     90               1                267    22/09/20   \n",
       "4     Private room    125              30                 58    19/10/15   \n",
       "\n",
       "   reviews_per_month  calculated_host_listings_count  availability_365  \\\n",
       "0               1.14                               1                 0   \n",
       "1               1.03                              11               288   \n",
       "2               0.81                               2               298   \n",
       "3               2.39                               5                 0   \n",
       "4               0.52                               1                 0   \n",
       "\n",
       "        city  \n",
       "0  Asheville  \n",
       "1  Asheville  \n",
       "2  Asheville  \n",
       "3  Asheville  \n",
       "4  Asheville  "
      ]
     },
     "execution_count": 2,
     "metadata": {},
     "output_type": "execute_result"
    }
   ],
   "source": [
    "#import the data\n",
    "data_airbnb = pd.read_csv(r\"C:\\Users\\irene\\OneDrive\\Desktop\\GA_DSI\\dsi-flex-817\\Capstone I.I\\Data\\AB_US_2020.csv\")\n",
    "data_airbnb.head()"
   ]
  },
  {
   "cell_type": "code",
   "execution_count": 3,
   "id": "eef99b66",
   "metadata": {},
   "outputs": [
    {
     "data": {
      "text/plain": [
       "id                                     0\n",
       "name                                  28\n",
       "host_id                                0\n",
       "host_name                             33\n",
       "neighbourhood_group               115845\n",
       "neighbourhood                          0\n",
       "latitude                               0\n",
       "longitude                              0\n",
       "room_type                              0\n",
       "price                                  0\n",
       "minimum_nights                         0\n",
       "number_of_reviews                      0\n",
       "last_review                        48602\n",
       "reviews_per_month                  48602\n",
       "calculated_host_listings_count         0\n",
       "availability_365                       0\n",
       "city                                   0\n",
       "dtype: int64"
      ]
     },
     "execution_count": 3,
     "metadata": {},
     "output_type": "execute_result"
    }
   ],
   "source": [
    "#looking at the missing values \n",
    "data_airbnb.isnull().sum()"
   ]
  },
  {
   "cell_type": "code",
   "execution_count": 4,
   "id": "961e78cd",
   "metadata": {},
   "outputs": [],
   "source": [
    "#writing a function to see the percentage of missing value for every column in the airbnb dataset.\n",
    "# code from a collegue Jay Li\n",
    "\n",
    "def missing_values(data): # function to check missing value \n",
    "        mis_total = data.isnull().sum()\n",
    "        mis_pct = 100 * data.isnull().sum() / len(data)\n",
    "        mis_value_table = pd.concat([mis_total, mis_pct], axis = 1)\n",
    "        mis_value_table_columns = mis_value_table.rename(columns = {0 : 'No. of Missing Value', 1 : '% of Total Missing Value'})\n",
    "        \n",
    "        mis_value_table_columns = mis_value_table_columns[mis_value_table_columns.iloc[:,1] != 0].sort_values('% of Total Missing Value', ascending = False).round(2)\n",
    "        return mis_value_table_columns"
   ]
  },
  {
   "cell_type": "code",
   "execution_count": 5,
   "id": "314300f0",
   "metadata": {},
   "outputs": [
    {
     "data": {
      "text/html": [
       "<div>\n",
       "<style scoped>\n",
       "    .dataframe tbody tr th:only-of-type {\n",
       "        vertical-align: middle;\n",
       "    }\n",
       "\n",
       "    .dataframe tbody tr th {\n",
       "        vertical-align: top;\n",
       "    }\n",
       "\n",
       "    .dataframe thead th {\n",
       "        text-align: right;\n",
       "    }\n",
       "</style>\n",
       "<table border=\"1\" class=\"dataframe\">\n",
       "  <thead>\n",
       "    <tr style=\"text-align: right;\">\n",
       "      <th></th>\n",
       "      <th>No. of Missing Value</th>\n",
       "      <th>% of Total Missing Value</th>\n",
       "    </tr>\n",
       "  </thead>\n",
       "  <tbody>\n",
       "    <tr>\n",
       "      <th>neighbourhood_group</th>\n",
       "      <td>115845</td>\n",
       "      <td>51.25</td>\n",
       "    </tr>\n",
       "    <tr>\n",
       "      <th>last_review</th>\n",
       "      <td>48602</td>\n",
       "      <td>21.50</td>\n",
       "    </tr>\n",
       "    <tr>\n",
       "      <th>reviews_per_month</th>\n",
       "      <td>48602</td>\n",
       "      <td>21.50</td>\n",
       "    </tr>\n",
       "    <tr>\n",
       "      <th>host_name</th>\n",
       "      <td>33</td>\n",
       "      <td>0.01</td>\n",
       "    </tr>\n",
       "    <tr>\n",
       "      <th>name</th>\n",
       "      <td>28</td>\n",
       "      <td>0.01</td>\n",
       "    </tr>\n",
       "  </tbody>\n",
       "</table>\n",
       "</div>"
      ],
      "text/plain": [
       "                     No. of Missing Value  % of Total Missing Value\n",
       "neighbourhood_group                115845                     51.25\n",
       "last_review                         48602                     21.50\n",
       "reviews_per_month                   48602                     21.50\n",
       "host_name                              33                      0.01\n",
       "name                                   28                      0.01"
      ]
     },
     "execution_count": 5,
     "metadata": {},
     "output_type": "execute_result"
    }
   ],
   "source": [
    "# Looking at the table of missing value for the airbnb dataset.\n",
    "missing_values(data_airbnb)\n"
   ]
  },
  {
   "cell_type": "markdown",
   "id": "b78269a7",
   "metadata": {},
   "source": [
    "Lokking at this table , we are going to drop the column with more than 50% of missing values and using the simpleimputer to deal with other missing values.using the mode as strategybecause it can be used on categorical features and the numerical feature have a skewed distribution."
   ]
  },
  {
   "cell_type": "code",
   "execution_count": 6,
   "id": "d4fae67a",
   "metadata": {},
   "outputs": [],
   "source": [
    "#Removing some columns because of their high percentage of missing values \n",
    "data_cp = data_airbnb.drop(['neighbourhood_group','last_review'],axis=1)"
   ]
  },
  {
   "cell_type": "code",
   "execution_count": 7,
   "id": "aa7977a9",
   "metadata": {},
   "outputs": [
    {
     "data": {
      "text/plain": [
       "id                                  int64\n",
       "name                               object\n",
       "host_id                             int64\n",
       "host_name                          object\n",
       "neighbourhood                      object\n",
       "latitude                          float64\n",
       "longitude                         float64\n",
       "room_type                          object\n",
       "price                               int64\n",
       "minimum_nights                      int64\n",
       "number_of_reviews                   int64\n",
       "reviews_per_month                 float64\n",
       "calculated_host_listings_count      int64\n",
       "availability_365                    int64\n",
       "city                               object\n",
       "dtype: object"
      ]
     },
     "execution_count": 7,
     "metadata": {},
     "output_type": "execute_result"
    }
   ],
   "source": [
    "data_cp.dtypes"
   ]
  },
  {
   "cell_type": "code",
   "execution_count": null,
   "id": "2e10b063",
   "metadata": {},
   "outputs": [],
   "source": []
  },
  {
   "cell_type": "code",
   "execution_count": 8,
   "id": "e84c9caa",
   "metadata": {},
   "outputs": [
    {
     "name": "stderr",
     "output_type": "stream",
     "text": [
      "C:\\Users\\irene\\anaconda3\\envs\\dsirfx_py38\\lib\\site-packages\\seaborn\\distributions.py:2557: FutureWarning: `distplot` is a deprecated function and will be removed in a future version. Please adapt your code to use either `displot` (a figure-level function with similar flexibility) or `histplot` (an axes-level function for histograms).\n",
      "  warnings.warn(msg, FutureWarning)\n"
     ]
    },
    {
     "data": {
      "image/png": "[encoded data removed]",
      "text/plain": [
       "<Figure size 1152x720 with 1 Axes>"
      ]
     },
     "metadata": {
      "needs_background": "light"
     },
     "output_type": "display_data"
    }
   ],
   "source": [
    "#lookig at the distribution of the missing values  for the numerical feature \n",
    "plt.figure (figsize = (16, 10))\n",
    "sns.distplot(data_cp['reviews_per_month']);"
   ]
  },
  {
   "cell_type": "code",
   "execution_count": null,
   "id": "850c4950",
   "metadata": {},
   "outputs": [],
   "source": []
  },
  {
   "cell_type": "code",
   "execution_count": 9,
   "id": "d32861af",
   "metadata": {},
   "outputs": [
    {
     "data": {
      "text/plain": [
       "'Home away from home'"
      ]
     },
     "execution_count": 9,
     "metadata": {},
     "output_type": "execute_result"
    }
   ],
   "source": [
    "mode_name= statistics.mode(data_cp['name'])\n",
    "mode_name"
   ]
  },
  {
   "cell_type": "code",
   "execution_count": 10,
   "id": "2e3b1025",
   "metadata": {},
   "outputs": [],
   "source": [
    "#using the imputation method to deal with the missing value and replacing them with the most frequent value in the column.\n",
    "data_cp['name'] = data_cp['name'].fillna(statistics.mode(data_cp['name']))\n",
    "\n",
    "data_cp['reviews_per_month'] = data_cp['reviews_per_month'].fillna(statistics.mode(data_cp['reviews_per_month']))\n",
    "data_cp['host_name'] = data_cp['host_name'].fillna(statistics.mode(data_cp['host_name']))"
   ]
  },
  {
   "cell_type": "code",
   "execution_count": null,
   "id": "6f4ea3ab",
   "metadata": {},
   "outputs": [],
   "source": []
  },
  {
   "cell_type": "code",
   "execution_count": null,
   "id": "a209f59b",
   "metadata": {},
   "outputs": [],
   "source": []
  },
  {
   "cell_type": "code",
   "execution_count": 11,
   "id": "f5ea7861",
   "metadata": {},
   "outputs": [
    {
     "data": {
      "text/html": [
       "<div>\n",
       "<style scoped>\n",
       "    .dataframe tbody tr th:only-of-type {\n",
       "        vertical-align: middle;\n",
       "    }\n",
       "\n",
       "    .dataframe tbody tr th {\n",
       "        vertical-align: top;\n",
       "    }\n",
       "\n",
       "    .dataframe thead th {\n",
       "        text-align: right;\n",
       "    }\n",
       "</style>\n",
       "<table border=\"1\" class=\"dataframe\">\n",
       "  <thead>\n",
       "    <tr style=\"text-align: right;\">\n",
       "      <th></th>\n",
       "      <th>id</th>\n",
       "      <th>name</th>\n",
       "      <th>host_id</th>\n",
       "      <th>host_name</th>\n",
       "      <th>neighbourhood</th>\n",
       "      <th>latitude</th>\n",
       "      <th>longitude</th>\n",
       "      <th>room_type</th>\n",
       "      <th>price</th>\n",
       "      <th>minimum_nights</th>\n",
       "      <th>number_of_reviews</th>\n",
       "      <th>reviews_per_month</th>\n",
       "      <th>calculated_host_listings_count</th>\n",
       "      <th>availability_365</th>\n",
       "      <th>city</th>\n",
       "    </tr>\n",
       "  </thead>\n",
       "  <tbody>\n",
       "    <tr>\n",
       "      <th>0</th>\n",
       "      <td>38585</td>\n",
       "      <td>Charming Victorian home - twin beds + breakfast</td>\n",
       "      <td>165529</td>\n",
       "      <td>Evelyne</td>\n",
       "      <td>28804</td>\n",
       "      <td>35.65146</td>\n",
       "      <td>-82.62792</td>\n",
       "      <td>Private room</td>\n",
       "      <td>60</td>\n",
       "      <td>1</td>\n",
       "      <td>138</td>\n",
       "      <td>1.14</td>\n",
       "      <td>1</td>\n",
       "      <td>0</td>\n",
       "      <td>Asheville</td>\n",
       "    </tr>\n",
       "    <tr>\n",
       "      <th>1</th>\n",
       "      <td>80905</td>\n",
       "      <td>French Chic Loft</td>\n",
       "      <td>427027</td>\n",
       "      <td>Celeste</td>\n",
       "      <td>28801</td>\n",
       "      <td>35.59779</td>\n",
       "      <td>-82.55540</td>\n",
       "      <td>Entire home/apt</td>\n",
       "      <td>470</td>\n",
       "      <td>1</td>\n",
       "      <td>114</td>\n",
       "      <td>1.03</td>\n",
       "      <td>11</td>\n",
       "      <td>288</td>\n",
       "      <td>Asheville</td>\n",
       "    </tr>\n",
       "    <tr>\n",
       "      <th>2</th>\n",
       "      <td>108061</td>\n",
       "      <td>Walk to stores/parks/downtown. Fenced yard/Pet...</td>\n",
       "      <td>320564</td>\n",
       "      <td>Lisa</td>\n",
       "      <td>28801</td>\n",
       "      <td>35.60670</td>\n",
       "      <td>-82.55563</td>\n",
       "      <td>Entire home/apt</td>\n",
       "      <td>75</td>\n",
       "      <td>30</td>\n",
       "      <td>89</td>\n",
       "      <td>0.81</td>\n",
       "      <td>2</td>\n",
       "      <td>298</td>\n",
       "      <td>Asheville</td>\n",
       "    </tr>\n",
       "    <tr>\n",
       "      <th>3</th>\n",
       "      <td>155305</td>\n",
       "      <td>Cottage! BonPaul + Sharky's Hostel</td>\n",
       "      <td>746673</td>\n",
       "      <td>BonPaul</td>\n",
       "      <td>28806</td>\n",
       "      <td>35.57864</td>\n",
       "      <td>-82.59578</td>\n",
       "      <td>Entire home/apt</td>\n",
       "      <td>90</td>\n",
       "      <td>1</td>\n",
       "      <td>267</td>\n",
       "      <td>2.39</td>\n",
       "      <td>5</td>\n",
       "      <td>0</td>\n",
       "      <td>Asheville</td>\n",
       "    </tr>\n",
       "    <tr>\n",
       "      <th>4</th>\n",
       "      <td>160594</td>\n",
       "      <td>Historic Grove Park</td>\n",
       "      <td>769252</td>\n",
       "      <td>Elizabeth</td>\n",
       "      <td>28801</td>\n",
       "      <td>35.61442</td>\n",
       "      <td>-82.54127</td>\n",
       "      <td>Private room</td>\n",
       "      <td>125</td>\n",
       "      <td>30</td>\n",
       "      <td>58</td>\n",
       "      <td>0.52</td>\n",
       "      <td>1</td>\n",
       "      <td>0</td>\n",
       "      <td>Asheville</td>\n",
       "    </tr>\n",
       "  </tbody>\n",
       "</table>\n",
       "</div>"
      ],
      "text/plain": [
       "       id                                               name  host_id  \\\n",
       "0   38585    Charming Victorian home - twin beds + breakfast   165529   \n",
       "1   80905                                   French Chic Loft   427027   \n",
       "2  108061  Walk to stores/parks/downtown. Fenced yard/Pet...   320564   \n",
       "3  155305                 Cottage! BonPaul + Sharky's Hostel   746673   \n",
       "4  160594                                Historic Grove Park   769252   \n",
       "\n",
       "   host_name neighbourhood  latitude  longitude        room_type  price  \\\n",
       "0    Evelyne         28804  35.65146  -82.62792     Private room     60   \n",
       "1    Celeste         28801  35.59779  -82.55540  Entire home/apt    470   \n",
       "2       Lisa         28801  35.60670  -82.55563  Entire home/apt     75   \n",
       "3    BonPaul         28806  35.57864  -82.59578  Entire home/apt     90   \n",
       "4  Elizabeth         28801  35.61442  -82.54127     Private room    125   \n",
       "\n",
       "   minimum_nights  number_of_reviews  reviews_per_month  \\\n",
       "0               1                138               1.14   \n",
       "1               1                114               1.03   \n",
       "2              30                 89               0.81   \n",
       "3               1                267               2.39   \n",
       "4              30                 58               0.52   \n",
       "\n",
       "   calculated_host_listings_count  availability_365       city  \n",
       "0                               1                 0  Asheville  \n",
       "1                              11               288  Asheville  \n",
       "2                               2               298  Asheville  \n",
       "3                               5                 0  Asheville  \n",
       "4                               1                 0  Asheville  "
      ]
     },
     "execution_count": 11,
     "metadata": {},
     "output_type": "execute_result"
    }
   ],
   "source": [
    "data_cp.head()"
   ]
  },
  {
   "cell_type": "code",
   "execution_count": 12,
   "id": "89763ac5",
   "metadata": {},
   "outputs": [
    {
     "data": {
      "text/plain": [
       "id                                0\n",
       "name                              0\n",
       "host_id                           0\n",
       "host_name                         0\n",
       "neighbourhood                     0\n",
       "latitude                          0\n",
       "longitude                         0\n",
       "room_type                         0\n",
       "price                             0\n",
       "minimum_nights                    0\n",
       "number_of_reviews                 0\n",
       "reviews_per_month                 0\n",
       "calculated_host_listings_count    0\n",
       "availability_365                  0\n",
       "city                              0\n",
       "dtype: int64"
      ]
     },
     "execution_count": 12,
     "metadata": {},
     "output_type": "execute_result"
    }
   ],
   "source": [
    "# now look again for the missing values\n",
    "data_cp.isnull().sum()"
   ]
  },
  {
   "cell_type": "code",
   "execution_count": 13,
   "id": "a28a08f5",
   "metadata": {},
   "outputs": [
    {
     "data": {
      "text/plain": [
       "(226030, 15)"
      ]
     },
     "execution_count": 13,
     "metadata": {},
     "output_type": "execute_result"
    }
   ],
   "source": [
    "data_cp.shape"
   ]
  },
  {
   "cell_type": "code",
   "execution_count": 14,
   "id": "c20f0efe",
   "metadata": {},
   "outputs": [
    {
     "data": {
      "text/html": [
       "<div>\n",
       "<style scoped>\n",
       "    .dataframe tbody tr th:only-of-type {\n",
       "        vertical-align: middle;\n",
       "    }\n",
       "\n",
       "    .dataframe tbody tr th {\n",
       "        vertical-align: top;\n",
       "    }\n",
       "\n",
       "    .dataframe thead th {\n",
       "        text-align: right;\n",
       "    }\n",
       "</style>\n",
       "<table border=\"1\" class=\"dataframe\">\n",
       "  <thead>\n",
       "    <tr style=\"text-align: right;\">\n",
       "      <th></th>\n",
       "      <th>id</th>\n",
       "      <th>name</th>\n",
       "      <th>host_id</th>\n",
       "      <th>host_name</th>\n",
       "      <th>neighbourhood</th>\n",
       "      <th>latitude</th>\n",
       "      <th>longitude</th>\n",
       "      <th>room_type</th>\n",
       "      <th>price</th>\n",
       "      <th>minimum_nights</th>\n",
       "      <th>number_of_reviews</th>\n",
       "      <th>reviews_per_month</th>\n",
       "      <th>calculated_host_listings_count</th>\n",
       "      <th>availability_365</th>\n",
       "      <th>city</th>\n",
       "    </tr>\n",
       "  </thead>\n",
       "  <tbody>\n",
       "    <tr>\n",
       "      <th>count</th>\n",
       "      <td>2.260300e+05</td>\n",
       "      <td>226030</td>\n",
       "      <td>2.260300e+05</td>\n",
       "      <td>226030</td>\n",
       "      <td>226030</td>\n",
       "      <td>226030.000000</td>\n",
       "      <td>226030.000000</td>\n",
       "      <td>226030</td>\n",
       "      <td>226030.000000</td>\n",
       "      <td>2.260300e+05</td>\n",
       "      <td>226030.000000</td>\n",
       "      <td>226030.000000</td>\n",
       "      <td>226030.000000</td>\n",
       "      <td>226030.000000</td>\n",
       "      <td>226030</td>\n",
       "    </tr>\n",
       "    <tr>\n",
       "      <th>unique</th>\n",
       "      <td>NaN</td>\n",
       "      <td>218443</td>\n",
       "      <td>NaN</td>\n",
       "      <td>30533</td>\n",
       "      <td>1450</td>\n",
       "      <td>NaN</td>\n",
       "      <td>NaN</td>\n",
       "      <td>4</td>\n",
       "      <td>NaN</td>\n",
       "      <td>NaN</td>\n",
       "      <td>NaN</td>\n",
       "      <td>NaN</td>\n",
       "      <td>NaN</td>\n",
       "      <td>NaN</td>\n",
       "      <td>28</td>\n",
       "    </tr>\n",
       "    <tr>\n",
       "      <th>top</th>\n",
       "      <td>NaN</td>\n",
       "      <td>Home away from home</td>\n",
       "      <td>NaN</td>\n",
       "      <td>Michael</td>\n",
       "      <td>Unincorporated Areas</td>\n",
       "      <td>NaN</td>\n",
       "      <td>NaN</td>\n",
       "      <td>Entire home/apt</td>\n",
       "      <td>NaN</td>\n",
       "      <td>NaN</td>\n",
       "      <td>NaN</td>\n",
       "      <td>NaN</td>\n",
       "      <td>NaN</td>\n",
       "      <td>NaN</td>\n",
       "      <td>New York City</td>\n",
       "    </tr>\n",
       "    <tr>\n",
       "      <th>freq</th>\n",
       "      <td>NaN</td>\n",
       "      <td>103</td>\n",
       "      <td>NaN</td>\n",
       "      <td>2058</td>\n",
       "      <td>8020</td>\n",
       "      <td>NaN</td>\n",
       "      <td>NaN</td>\n",
       "      <td>154173</td>\n",
       "      <td>NaN</td>\n",
       "      <td>NaN</td>\n",
       "      <td>NaN</td>\n",
       "      <td>NaN</td>\n",
       "      <td>NaN</td>\n",
       "      <td>NaN</td>\n",
       "      <td>45756</td>\n",
       "    </tr>\n",
       "    <tr>\n",
       "      <th>mean</th>\n",
       "      <td>2.547176e+07</td>\n",
       "      <td>NaN</td>\n",
       "      <td>9.352385e+07</td>\n",
       "      <td>NaN</td>\n",
       "      <td>NaN</td>\n",
       "      <td>35.662829</td>\n",
       "      <td>-103.220662</td>\n",
       "      <td>NaN</td>\n",
       "      <td>219.716529</td>\n",
       "      <td>4.525490e+02</td>\n",
       "      <td>34.506530</td>\n",
       "      <td>1.130104</td>\n",
       "      <td>16.698562</td>\n",
       "      <td>159.314856</td>\n",
       "      <td>NaN</td>\n",
       "    </tr>\n",
       "    <tr>\n",
       "      <th>std</th>\n",
       "      <td>1.317814e+07</td>\n",
       "      <td>NaN</td>\n",
       "      <td>9.827422e+07</td>\n",
       "      <td>NaN</td>\n",
       "      <td>NaN</td>\n",
       "      <td>6.849855</td>\n",
       "      <td>26.222091</td>\n",
       "      <td>NaN</td>\n",
       "      <td>570.353609</td>\n",
       "      <td>2.103376e+05</td>\n",
       "      <td>63.602914</td>\n",
       "      <td>1.598593</td>\n",
       "      <td>51.068966</td>\n",
       "      <td>140.179628</td>\n",
       "      <td>NaN</td>\n",
       "    </tr>\n",
       "    <tr>\n",
       "      <th>min</th>\n",
       "      <td>1.090000e+02</td>\n",
       "      <td>NaN</td>\n",
       "      <td>2.300000e+01</td>\n",
       "      <td>NaN</td>\n",
       "      <td>NaN</td>\n",
       "      <td>18.920990</td>\n",
       "      <td>-159.714900</td>\n",
       "      <td>NaN</td>\n",
       "      <td>0.000000</td>\n",
       "      <td>1.000000e+00</td>\n",
       "      <td>0.000000</td>\n",
       "      <td>0.010000</td>\n",
       "      <td>1.000000</td>\n",
       "      <td>0.000000</td>\n",
       "      <td>NaN</td>\n",
       "    </tr>\n",
       "    <tr>\n",
       "      <th>25%</th>\n",
       "      <td>1.515890e+07</td>\n",
       "      <td>NaN</td>\n",
       "      <td>1.399275e+07</td>\n",
       "      <td>NaN</td>\n",
       "      <td>NaN</td>\n",
       "      <td>32.761783</td>\n",
       "      <td>-118.598115</td>\n",
       "      <td>NaN</td>\n",
       "      <td>75.000000</td>\n",
       "      <td>1.000000e+00</td>\n",
       "      <td>1.000000</td>\n",
       "      <td>0.040000</td>\n",
       "      <td>1.000000</td>\n",
       "      <td>0.000000</td>\n",
       "      <td>NaN</td>\n",
       "    </tr>\n",
       "    <tr>\n",
       "      <th>50%</th>\n",
       "      <td>2.590916e+07</td>\n",
       "      <td>NaN</td>\n",
       "      <td>5.138266e+07</td>\n",
       "      <td>NaN</td>\n",
       "      <td>NaN</td>\n",
       "      <td>37.261125</td>\n",
       "      <td>-97.817200</td>\n",
       "      <td>NaN</td>\n",
       "      <td>121.000000</td>\n",
       "      <td>2.000000e+00</td>\n",
       "      <td>8.000000</td>\n",
       "      <td>0.420000</td>\n",
       "      <td>2.000000</td>\n",
       "      <td>140.000000</td>\n",
       "      <td>NaN</td>\n",
       "    </tr>\n",
       "    <tr>\n",
       "      <th>75%</th>\n",
       "      <td>3.772624e+07</td>\n",
       "      <td>NaN</td>\n",
       "      <td>1.497179e+08</td>\n",
       "      <td>NaN</td>\n",
       "      <td>NaN</td>\n",
       "      <td>40.724038</td>\n",
       "      <td>-76.919323</td>\n",
       "      <td>NaN</td>\n",
       "      <td>201.000000</td>\n",
       "      <td>7.000000e+00</td>\n",
       "      <td>39.000000</td>\n",
       "      <td>1.620000</td>\n",
       "      <td>6.000000</td>\n",
       "      <td>311.000000</td>\n",
       "      <td>NaN</td>\n",
       "    </tr>\n",
       "    <tr>\n",
       "      <th>max</th>\n",
       "      <td>4.556085e+07</td>\n",
       "      <td>NaN</td>\n",
       "      <td>3.679176e+08</td>\n",
       "      <td>NaN</td>\n",
       "      <td>NaN</td>\n",
       "      <td>47.734620</td>\n",
       "      <td>-70.995950</td>\n",
       "      <td>NaN</td>\n",
       "      <td>24999.000000</td>\n",
       "      <td>1.000000e+08</td>\n",
       "      <td>966.000000</td>\n",
       "      <td>44.060000</td>\n",
       "      <td>593.000000</td>\n",
       "      <td>365.000000</td>\n",
       "      <td>NaN</td>\n",
       "    </tr>\n",
       "  </tbody>\n",
       "</table>\n",
       "</div>"
      ],
      "text/plain": [
       "                  id                 name       host_id host_name  \\\n",
       "count   2.260300e+05               226030  2.260300e+05    226030   \n",
       "unique           NaN               218443           NaN     30533   \n",
       "top              NaN  Home away from home           NaN   Michael   \n",
       "freq             NaN                  103           NaN      2058   \n",
       "mean    2.547176e+07                  NaN  9.352385e+07       NaN   \n",
       "std     1.317814e+07                  NaN  9.827422e+07       NaN   \n",
       "min     1.090000e+02                  NaN  2.300000e+01       NaN   \n",
       "25%     1.515890e+07                  NaN  1.399275e+07       NaN   \n",
       "50%     2.590916e+07                  NaN  5.138266e+07       NaN   \n",
       "75%     3.772624e+07                  NaN  1.497179e+08       NaN   \n",
       "max     4.556085e+07                  NaN  3.679176e+08       NaN   \n",
       "\n",
       "               neighbourhood       latitude      longitude        room_type  \\\n",
       "count                 226030  226030.000000  226030.000000           226030   \n",
       "unique                  1450            NaN            NaN                4   \n",
       "top     Unincorporated Areas            NaN            NaN  Entire home/apt   \n",
       "freq                    8020            NaN            NaN           154173   \n",
       "mean                     NaN      35.662829    -103.220662              NaN   \n",
       "std                      NaN       6.849855      26.222091              NaN   \n",
       "min                      NaN      18.920990    -159.714900              NaN   \n",
       "25%                      NaN      32.761783    -118.598115              NaN   \n",
       "50%                      NaN      37.261125     -97.817200              NaN   \n",
       "75%                      NaN      40.724038     -76.919323              NaN   \n",
       "max                      NaN      47.734620     -70.995950              NaN   \n",
       "\n",
       "                price  minimum_nights  number_of_reviews  reviews_per_month  \\\n",
       "count   226030.000000    2.260300e+05      226030.000000      226030.000000   \n",
       "unique            NaN             NaN                NaN                NaN   \n",
       "top               NaN             NaN                NaN                NaN   \n",
       "freq              NaN             NaN                NaN                NaN   \n",
       "mean       219.716529    4.525490e+02          34.506530           1.130104   \n",
       "std        570.353609    2.103376e+05          63.602914           1.598593   \n",
       "min          0.000000    1.000000e+00           0.000000           0.010000   \n",
       "25%         75.000000    1.000000e+00           1.000000           0.040000   \n",
       "50%        121.000000    2.000000e+00           8.000000           0.420000   \n",
       "75%        201.000000    7.000000e+00          39.000000           1.620000   \n",
       "max      24999.000000    1.000000e+08         966.000000          44.060000   \n",
       "\n",
       "        calculated_host_listings_count  availability_365           city  \n",
       "count                    226030.000000     226030.000000         226030  \n",
       "unique                             NaN               NaN             28  \n",
       "top                                NaN               NaN  New York City  \n",
       "freq                               NaN               NaN          45756  \n",
       "mean                         16.698562        159.314856            NaN  \n",
       "std                          51.068966        140.179628            NaN  \n",
       "min                           1.000000          0.000000            NaN  \n",
       "25%                           1.000000          0.000000            NaN  \n",
       "50%                           2.000000        140.000000            NaN  \n",
       "75%                           6.000000        311.000000            NaN  \n",
       "max                         593.000000        365.000000            NaN  "
      ]
     },
     "execution_count": 14,
     "metadata": {},
     "output_type": "execute_result"
    }
   ],
   "source": [
    "#look at the summary of statics \n",
    "data_cp.describe(include='all')"
   ]
  },
  {
   "cell_type": "code",
   "execution_count": 15,
   "id": "f0d20a54",
   "metadata": {},
   "outputs": [
    {
     "data": {
      "text/plain": [
       "id                                  int64\n",
       "name                               object\n",
       "host_id                             int64\n",
       "host_name                          object\n",
       "neighbourhood                      object\n",
       "latitude                          float64\n",
       "longitude                         float64\n",
       "room_type                          object\n",
       "price                               int64\n",
       "minimum_nights                      int64\n",
       "number_of_reviews                   int64\n",
       "reviews_per_month                 float64\n",
       "calculated_host_listings_count      int64\n",
       "availability_365                    int64\n",
       "city                               object\n",
       "dtype: object"
      ]
     },
     "execution_count": 15,
     "metadata": {},
     "output_type": "execute_result"
    }
   ],
   "source": [
    "data_cp.dtypes"
   ]
  },
  {
   "cell_type": "code",
   "execution_count": 16,
   "id": "9ac66d40",
   "metadata": {},
   "outputs": [
    {
     "name": "stderr",
     "output_type": "stream",
     "text": [
      "C:\\Users\\irene\\anaconda3\\envs\\dsirfx_py38\\lib\\site-packages\\seaborn\\distributions.py:2557: FutureWarning: `distplot` is a deprecated function and will be removed in a future version. Please adapt your code to use either `displot` (a figure-level function with similar flexibility) or `histplot` (an axes-level function for histograms).\n",
      "  warnings.warn(msg, FutureWarning)\n"
     ]
    },
    {
     "data": {
      "image/png": "[encoded data removed]",
      "text/plain": [
       "<Figure size 1152x720 with 1 Axes>"
      ]
     },
     "metadata": {
      "needs_background": "light"
     },
     "output_type": "display_data"
    }
   ],
   "source": [
    "#look again at the distribution of the reviews_per_month\n",
    "plt.figure (figsize = (16, 10))\n",
    "sns.distplot(data_cp['reviews_per_month']);"
   ]
  },
  {
   "cell_type": "code",
   "execution_count": 17,
   "id": "a162be27",
   "metadata": {},
   "outputs": [
    {
     "data": {
      "text/html": [
       "<div>\n",
       "<style scoped>\n",
       "    .dataframe tbody tr th:only-of-type {\n",
       "        vertical-align: middle;\n",
       "    }\n",
       "\n",
       "    .dataframe tbody tr th {\n",
       "        vertical-align: top;\n",
       "    }\n",
       "\n",
       "    .dataframe thead th {\n",
       "        text-align: right;\n",
       "    }\n",
       "</style>\n",
       "<table border=\"1\" class=\"dataframe\">\n",
       "  <thead>\n",
       "    <tr style=\"text-align: right;\">\n",
       "      <th></th>\n",
       "      <th>id</th>\n",
       "      <th>name</th>\n",
       "      <th>host_id</th>\n",
       "      <th>host_name</th>\n",
       "      <th>neighbourhood</th>\n",
       "      <th>latitude</th>\n",
       "      <th>longitude</th>\n",
       "      <th>room_type</th>\n",
       "      <th>price</th>\n",
       "      <th>minimum_nights</th>\n",
       "      <th>number_of_reviews</th>\n",
       "      <th>reviews_per_month</th>\n",
       "      <th>calculated_host_listings_count</th>\n",
       "      <th>availability_365</th>\n",
       "      <th>city</th>\n",
       "    </tr>\n",
       "  </thead>\n",
       "  <tbody>\n",
       "    <tr>\n",
       "      <th>158818</th>\n",
       "      <td>42431489</td>\n",
       "      <td>Doxie Hotel</td>\n",
       "      <td>318753867</td>\n",
       "      <td>Doxie Hotel</td>\n",
       "      <td>Midtown</td>\n",
       "      <td>40.75468</td>\n",
       "      <td>-73.99110</td>\n",
       "      <td>Hotel room</td>\n",
       "      <td>0</td>\n",
       "      <td>1</td>\n",
       "      <td>0</td>\n",
       "      <td>0.03</td>\n",
       "      <td>1</td>\n",
       "      <td>0</td>\n",
       "      <td>New York City</td>\n",
       "    </tr>\n",
       "    <tr>\n",
       "      <th>11106</th>\n",
       "      <td>42738847</td>\n",
       "      <td>Hotel Granduca Austin</td>\n",
       "      <td>314291208</td>\n",
       "      <td>Hotel Granduca</td>\n",
       "      <td>78746</td>\n",
       "      <td>30.30181</td>\n",
       "      <td>-97.82910</td>\n",
       "      <td>Hotel room</td>\n",
       "      <td>0</td>\n",
       "      <td>1</td>\n",
       "      <td>0</td>\n",
       "      <td>0.03</td>\n",
       "      <td>1</td>\n",
       "      <td>0</td>\n",
       "      <td>Austin</td>\n",
       "    </tr>\n",
       "    <tr>\n",
       "      <th>157909</th>\n",
       "      <td>41740615</td>\n",
       "      <td>The James New York - NoMad</td>\n",
       "      <td>268417148</td>\n",
       "      <td>The James NoMad</td>\n",
       "      <td>Midtown</td>\n",
       "      <td>40.74459</td>\n",
       "      <td>-73.98574</td>\n",
       "      <td>Hotel room</td>\n",
       "      <td>0</td>\n",
       "      <td>1</td>\n",
       "      <td>0</td>\n",
       "      <td>0.03</td>\n",
       "      <td>4</td>\n",
       "      <td>0</td>\n",
       "      <td>New York City</td>\n",
       "    </tr>\n",
       "    <tr>\n",
       "      <th>158633</th>\n",
       "      <td>42279171</td>\n",
       "      <td>The Leon Hotel</td>\n",
       "      <td>265458818</td>\n",
       "      <td>The Leon Hotel</td>\n",
       "      <td>Chinatown</td>\n",
       "      <td>40.71610</td>\n",
       "      <td>-73.99518</td>\n",
       "      <td>Hotel room</td>\n",
       "      <td>0</td>\n",
       "      <td>1</td>\n",
       "      <td>0</td>\n",
       "      <td>0.03</td>\n",
       "      <td>7</td>\n",
       "      <td>0</td>\n",
       "      <td>New York City</td>\n",
       "    </tr>\n",
       "    <tr>\n",
       "      <th>158741</th>\n",
       "      <td>42384530</td>\n",
       "      <td>Hotel Shocard</td>\n",
       "      <td>265195377</td>\n",
       "      <td>Hotel Shocard</td>\n",
       "      <td>Theater District</td>\n",
       "      <td>40.75542</td>\n",
       "      <td>-73.98808</td>\n",
       "      <td>Hotel room</td>\n",
       "      <td>0</td>\n",
       "      <td>1</td>\n",
       "      <td>0</td>\n",
       "      <td>0.03</td>\n",
       "      <td>3</td>\n",
       "      <td>0</td>\n",
       "      <td>New York City</td>\n",
       "    </tr>\n",
       "  </tbody>\n",
       "</table>\n",
       "</div>"
      ],
      "text/plain": [
       "              id                        name    host_id        host_name  \\\n",
       "158818  42431489                 Doxie Hotel  318753867      Doxie Hotel   \n",
       "11106   42738847       Hotel Granduca Austin  314291208   Hotel Granduca   \n",
       "157909  41740615  The James New York - NoMad  268417148  The James NoMad   \n",
       "158633  42279171              The Leon Hotel  265458818   The Leon Hotel   \n",
       "158741  42384530               Hotel Shocard  265195377    Hotel Shocard   \n",
       "\n",
       "           neighbourhood  latitude  longitude   room_type  price  \\\n",
       "158818           Midtown  40.75468  -73.99110  Hotel room      0   \n",
       "11106              78746  30.30181  -97.82910  Hotel room      0   \n",
       "157909           Midtown  40.74459  -73.98574  Hotel room      0   \n",
       "158633         Chinatown  40.71610  -73.99518  Hotel room      0   \n",
       "158741  Theater District  40.75542  -73.98808  Hotel room      0   \n",
       "\n",
       "        minimum_nights  number_of_reviews  reviews_per_month  \\\n",
       "158818               1                  0               0.03   \n",
       "11106                1                  0               0.03   \n",
       "157909               1                  0               0.03   \n",
       "158633               1                  0               0.03   \n",
       "158741               1                  0               0.03   \n",
       "\n",
       "        calculated_host_listings_count  availability_365           city  \n",
       "158818                               1                 0  New York City  \n",
       "11106                                1                 0         Austin  \n",
       "157909                               4                 0  New York City  \n",
       "158633                               7                 0  New York City  \n",
       "158741                               3                 0  New York City  "
      ]
     },
     "execution_count": 17,
     "metadata": {},
     "output_type": "execute_result"
    }
   ],
   "source": [
    "#sort the dataframes with the lowest price on top to see what is the lowest price\n",
    "# the minum price is zero which is unlikely and I am going to assume that where the price is zero \n",
    "#it is a missing values and I am going to delete it.\n",
    "\n",
    "data_cp.sort_values('price', ascending= True).head(5)\n",
    "\n"
   ]
  },
  {
   "cell_type": "code",
   "execution_count": 18,
   "id": "dd09776c",
   "metadata": {},
   "outputs": [
    {
     "data": {
      "text/html": [
       "<div>\n",
       "<style scoped>\n",
       "    .dataframe tbody tr th:only-of-type {\n",
       "        vertical-align: middle;\n",
       "    }\n",
       "\n",
       "    .dataframe tbody tr th {\n",
       "        vertical-align: top;\n",
       "    }\n",
       "\n",
       "    .dataframe thead th {\n",
       "        text-align: right;\n",
       "    }\n",
       "</style>\n",
       "<table border=\"1\" class=\"dataframe\">\n",
       "  <thead>\n",
       "    <tr style=\"text-align: right;\">\n",
       "      <th></th>\n",
       "      <th>id</th>\n",
       "      <th>name</th>\n",
       "      <th>host_id</th>\n",
       "      <th>host_name</th>\n",
       "      <th>neighbourhood</th>\n",
       "      <th>latitude</th>\n",
       "      <th>longitude</th>\n",
       "      <th>room_type</th>\n",
       "      <th>price</th>\n",
       "      <th>minimum_nights</th>\n",
       "      <th>number_of_reviews</th>\n",
       "      <th>reviews_per_month</th>\n",
       "      <th>calculated_host_listings_count</th>\n",
       "      <th>availability_365</th>\n",
       "      <th>city</th>\n",
       "    </tr>\n",
       "  </thead>\n",
       "  <tbody>\n",
       "    <tr>\n",
       "      <th>6152</th>\n",
       "      <td>20654658</td>\n",
       "      <td>EMERGENCY SHELTER - Detached Studio</td>\n",
       "      <td>18827179</td>\n",
       "      <td>Brianne</td>\n",
       "      <td>78745</td>\n",
       "      <td>30.19341</td>\n",
       "      <td>-97.79261</td>\n",
       "      <td>Private room</td>\n",
       "      <td>1.0</td>\n",
       "      <td>1</td>\n",
       "      <td>0</td>\n",
       "      <td>0.03</td>\n",
       "      <td>2</td>\n",
       "      <td>0</td>\n",
       "      <td>Austin</td>\n",
       "    </tr>\n",
       "    <tr>\n",
       "      <th>105469</th>\n",
       "      <td>13081350</td>\n",
       "      <td>Parks, Restaurants, Grocery, 7 minute walk.</td>\n",
       "      <td>14761047</td>\n",
       "      <td>John</td>\n",
       "      <td>District 24</td>\n",
       "      <td>36.12191</td>\n",
       "      <td>-86.84492</td>\n",
       "      <td>Entire home/apt</td>\n",
       "      <td>1.0</td>\n",
       "      <td>30</td>\n",
       "      <td>20</td>\n",
       "      <td>0.41</td>\n",
       "      <td>4</td>\n",
       "      <td>336</td>\n",
       "      <td>Nashville</td>\n",
       "    </tr>\n",
       "    <tr>\n",
       "      <th>6174</th>\n",
       "      <td>20708014</td>\n",
       "      <td>small room for Harvey evacuees</td>\n",
       "      <td>22987908</td>\n",
       "      <td>Elizabeth</td>\n",
       "      <td>78757</td>\n",
       "      <td>30.35677</td>\n",
       "      <td>-97.73947</td>\n",
       "      <td>Private room</td>\n",
       "      <td>1.0</td>\n",
       "      <td>1</td>\n",
       "      <td>0</td>\n",
       "      <td>0.03</td>\n",
       "      <td>1</td>\n",
       "      <td>0</td>\n",
       "      <td>Austin</td>\n",
       "    </tr>\n",
       "    <tr>\n",
       "      <th>6197</th>\n",
       "      <td>20780987</td>\n",
       "      <td>Private room for folks displaced by Harvey</td>\n",
       "      <td>129897901</td>\n",
       "      <td>Laura</td>\n",
       "      <td>78758</td>\n",
       "      <td>30.35793</td>\n",
       "      <td>-97.70763</td>\n",
       "      <td>Private room</td>\n",
       "      <td>1.0</td>\n",
       "      <td>1</td>\n",
       "      <td>1</td>\n",
       "      <td>0.03</td>\n",
       "      <td>1</td>\n",
       "      <td>0</td>\n",
       "      <td>Austin</td>\n",
       "    </tr>\n",
       "    <tr>\n",
       "      <th>6156</th>\n",
       "      <td>20674436</td>\n",
       "      <td>Hurricane Harvey Refuge ONLY</td>\n",
       "      <td>3594051</td>\n",
       "      <td>Michael</td>\n",
       "      <td>78704</td>\n",
       "      <td>30.23816</td>\n",
       "      <td>-97.74314</td>\n",
       "      <td>Entire home/apt</td>\n",
       "      <td>1.0</td>\n",
       "      <td>2</td>\n",
       "      <td>2</td>\n",
       "      <td>0.05</td>\n",
       "      <td>1</td>\n",
       "      <td>0</td>\n",
       "      <td>Austin</td>\n",
       "    </tr>\n",
       "  </tbody>\n",
       "</table>\n",
       "</div>"
      ],
      "text/plain": [
       "              id                                         name    host_id  \\\n",
       "6152    20654658          EMERGENCY SHELTER - Detached Studio   18827179   \n",
       "105469  13081350  Parks, Restaurants, Grocery, 7 minute walk.   14761047   \n",
       "6174    20708014               small room for Harvey evacuees   22987908   \n",
       "6197    20780987   Private room for folks displaced by Harvey  129897901   \n",
       "6156    20674436                 Hurricane Harvey Refuge ONLY    3594051   \n",
       "\n",
       "        host_name neighbourhood  latitude  longitude        room_type  price  \\\n",
       "6152      Brianne         78745  30.19341  -97.79261     Private room    1.0   \n",
       "105469       John   District 24  36.12191  -86.84492  Entire home/apt    1.0   \n",
       "6174    Elizabeth         78757  30.35677  -97.73947     Private room    1.0   \n",
       "6197        Laura         78758  30.35793  -97.70763     Private room    1.0   \n",
       "6156      Michael         78704  30.23816  -97.74314  Entire home/apt    1.0   \n",
       "\n",
       "        minimum_nights  number_of_reviews  reviews_per_month  \\\n",
       "6152                 1                  0               0.03   \n",
       "105469              30                 20               0.41   \n",
       "6174                 1                  0               0.03   \n",
       "6197                 1                  1               0.03   \n",
       "6156                 2                  2               0.05   \n",
       "\n",
       "        calculated_host_listings_count  availability_365       city  \n",
       "6152                                 2                 0     Austin  \n",
       "105469                               4               336  Nashville  \n",
       "6174                                 1                 0     Austin  \n",
       "6197                                 1                 0     Austin  \n",
       "6156                                 1                 0     Austin  "
      ]
     },
     "execution_count": 18,
     "metadata": {},
     "output_type": "execute_result"
    }
   ],
   "source": [
    "#Changing the value of price where it is zero to NaN\n",
    "data_cp['price']= data_cp['price'].apply(lambda x:np.nan if x == 0 else int(x))\n",
    "#Droping the NaN  rows \n",
    "data_cp = data_cp.dropna(subset=['price'])\n",
    "data_cp.sort_values('price', ascending= True).head(5)"
   ]
  },
  {
   "cell_type": "code",
   "execution_count": 19,
   "id": "da84f506",
   "metadata": {},
   "outputs": [
    {
     "data": {
      "text/plain": [
       "id                                0\n",
       "name                              0\n",
       "host_id                           0\n",
       "host_name                         0\n",
       "neighbourhood                     0\n",
       "latitude                          0\n",
       "longitude                         0\n",
       "room_type                         0\n",
       "price                             0\n",
       "minimum_nights                    0\n",
       "number_of_reviews                 0\n",
       "reviews_per_month                 0\n",
       "calculated_host_listings_count    0\n",
       "availability_365                  0\n",
       "city                              0\n",
       "dtype: int64"
      ]
     },
     "execution_count": 19,
     "metadata": {},
     "output_type": "execute_result"
    }
   ],
   "source": [
    "data_cp.isnull().sum()"
   ]
  },
  {
   "cell_type": "code",
   "execution_count": null,
   "id": "de3d36da",
   "metadata": {},
   "outputs": [],
   "source": []
  },
  {
   "cell_type": "markdown",
   "id": "b633a55e",
   "metadata": {},
   "source": [
    "### Exploratory Data Analysis"
   ]
  },
  {
   "cell_type": "markdown",
   "id": "596fd1cd",
   "metadata": {},
   "source": [
    "In this phase we are going to look at the features of our dataset  analysing them , looking at there distribution , the correlation they have with price to help us build a model that will pedict the price."
   ]
  },
  {
   "cell_type": "code",
   "execution_count": 20,
   "id": "51889ff7",
   "metadata": {},
   "outputs": [
    {
     "data": {
      "text/html": [
       "<div>\n",
       "<style scoped>\n",
       "    .dataframe tbody tr th:only-of-type {\n",
       "        vertical-align: middle;\n",
       "    }\n",
       "\n",
       "    .dataframe tbody tr th {\n",
       "        vertical-align: top;\n",
       "    }\n",
       "\n",
       "    .dataframe thead th {\n",
       "        text-align: right;\n",
       "    }\n",
       "</style>\n",
       "<table border=\"1\" class=\"dataframe\">\n",
       "  <thead>\n",
       "    <tr style=\"text-align: right;\">\n",
       "      <th></th>\n",
       "      <th>id</th>\n",
       "      <th>host_id</th>\n",
       "      <th>latitude</th>\n",
       "      <th>longitude</th>\n",
       "      <th>price</th>\n",
       "      <th>minimum_nights</th>\n",
       "      <th>number_of_reviews</th>\n",
       "      <th>reviews_per_month</th>\n",
       "      <th>calculated_host_listings_count</th>\n",
       "      <th>availability_365</th>\n",
       "    </tr>\n",
       "  </thead>\n",
       "  <tbody>\n",
       "    <tr>\n",
       "      <th>id</th>\n",
       "      <td>1.000000</td>\n",
       "      <td>0.537637</td>\n",
       "      <td>-0.057956</td>\n",
       "      <td>-0.010542</td>\n",
       "      <td>0.021487</td>\n",
       "      <td>-0.001617</td>\n",
       "      <td>-0.381500</td>\n",
       "      <td>-0.045698</td>\n",
       "      <td>0.162278</td>\n",
       "      <td>0.051385</td>\n",
       "    </tr>\n",
       "    <tr>\n",
       "      <th>host_id</th>\n",
       "      <td>0.537637</td>\n",
       "      <td>1.000000</td>\n",
       "      <td>-0.049352</td>\n",
       "      <td>0.009002</td>\n",
       "      <td>0.019960</td>\n",
       "      <td>-0.002003</td>\n",
       "      <td>-0.188700</td>\n",
       "      <td>-0.002811</td>\n",
       "      <td>0.103409</td>\n",
       "      <td>0.086979</td>\n",
       "    </tr>\n",
       "    <tr>\n",
       "      <th>latitude</th>\n",
       "      <td>-0.057956</td>\n",
       "      <td>-0.049352</td>\n",
       "      <td>1.000000</td>\n",
       "      <td>0.579937</td>\n",
       "      <td>-0.054366</td>\n",
       "      <td>0.000647</td>\n",
       "      <td>0.047362</td>\n",
       "      <td>0.050796</td>\n",
       "      <td>-0.182681</td>\n",
       "      <td>-0.177556</td>\n",
       "    </tr>\n",
       "    <tr>\n",
       "      <th>longitude</th>\n",
       "      <td>-0.010542</td>\n",
       "      <td>0.009002</td>\n",
       "      <td>0.579937</td>\n",
       "      <td>1.000000</td>\n",
       "      <td>-0.057761</td>\n",
       "      <td>-0.001541</td>\n",
       "      <td>-0.034282</td>\n",
       "      <td>-0.018518</td>\n",
       "      <td>-0.168411</td>\n",
       "      <td>-0.145638</td>\n",
       "    </tr>\n",
       "    <tr>\n",
       "      <th>price</th>\n",
       "      <td>0.021487</td>\n",
       "      <td>0.019960</td>\n",
       "      <td>-0.054366</td>\n",
       "      <td>-0.057761</td>\n",
       "      <td>1.000000</td>\n",
       "      <td>-0.000560</td>\n",
       "      <td>-0.072549</td>\n",
       "      <td>-0.076966</td>\n",
       "      <td>0.043054</td>\n",
       "      <td>0.035050</td>\n",
       "    </tr>\n",
       "    <tr>\n",
       "      <th>minimum_nights</th>\n",
       "      <td>-0.001617</td>\n",
       "      <td>-0.002003</td>\n",
       "      <td>0.000647</td>\n",
       "      <td>-0.001541</td>\n",
       "      <td>-0.000560</td>\n",
       "      <td>1.000000</td>\n",
       "      <td>-0.000886</td>\n",
       "      <td>-0.001278</td>\n",
       "      <td>-0.000638</td>\n",
       "      <td>-0.002382</td>\n",
       "    </tr>\n",
       "    <tr>\n",
       "      <th>number_of_reviews</th>\n",
       "      <td>-0.381500</td>\n",
       "      <td>-0.188700</td>\n",
       "      <td>0.047362</td>\n",
       "      <td>-0.034282</td>\n",
       "      <td>-0.072549</td>\n",
       "      <td>-0.000886</td>\n",
       "      <td>1.000000</td>\n",
       "      <td>0.757227</td>\n",
       "      <td>-0.119623</td>\n",
       "      <td>0.051978</td>\n",
       "    </tr>\n",
       "    <tr>\n",
       "      <th>reviews_per_month</th>\n",
       "      <td>-0.045698</td>\n",
       "      <td>-0.002811</td>\n",
       "      <td>0.050796</td>\n",
       "      <td>-0.018518</td>\n",
       "      <td>-0.076966</td>\n",
       "      <td>-0.001278</td>\n",
       "      <td>0.757227</td>\n",
       "      <td>1.000000</td>\n",
       "      <td>-0.132669</td>\n",
       "      <td>0.028433</td>\n",
       "    </tr>\n",
       "    <tr>\n",
       "      <th>calculated_host_listings_count</th>\n",
       "      <td>0.162278</td>\n",
       "      <td>0.103409</td>\n",
       "      <td>-0.182681</td>\n",
       "      <td>-0.168411</td>\n",
       "      <td>0.043054</td>\n",
       "      <td>-0.000638</td>\n",
       "      <td>-0.119623</td>\n",
       "      <td>-0.132669</td>\n",
       "      <td>1.000000</td>\n",
       "      <td>0.162411</td>\n",
       "    </tr>\n",
       "    <tr>\n",
       "      <th>availability_365</th>\n",
       "      <td>0.051385</td>\n",
       "      <td>0.086979</td>\n",
       "      <td>-0.177556</td>\n",
       "      <td>-0.145638</td>\n",
       "      <td>0.035050</td>\n",
       "      <td>-0.002382</td>\n",
       "      <td>0.051978</td>\n",
       "      <td>0.028433</td>\n",
       "      <td>0.162411</td>\n",
       "      <td>1.000000</td>\n",
       "    </tr>\n",
       "  </tbody>\n",
       "</table>\n",
       "</div>"
      ],
      "text/plain": [
       "                                      id   host_id  latitude  longitude  \\\n",
       "id                              1.000000  0.537637 -0.057956  -0.010542   \n",
       "host_id                         0.537637  1.000000 -0.049352   0.009002   \n",
       "latitude                       -0.057956 -0.049352  1.000000   0.579937   \n",
       "longitude                      -0.010542  0.009002  0.579937   1.000000   \n",
       "price                           0.021487  0.019960 -0.054366  -0.057761   \n",
       "minimum_nights                 -0.001617 -0.002003  0.000647  -0.001541   \n",
       "number_of_reviews              -0.381500 -0.188700  0.047362  -0.034282   \n",
       "reviews_per_month              -0.045698 -0.002811  0.050796  -0.018518   \n",
       "calculated_host_listings_count  0.162278  0.103409 -0.182681  -0.168411   \n",
       "availability_365                0.051385  0.086979 -0.177556  -0.145638   \n",
       "\n",
       "                                   price  minimum_nights  number_of_reviews  \\\n",
       "id                              0.021487       -0.001617          -0.381500   \n",
       "host_id                         0.019960       -0.002003          -0.188700   \n",
       "latitude                       -0.054366        0.000647           0.047362   \n",
       "longitude                      -0.057761       -0.001541          -0.034282   \n",
       "price                           1.000000       -0.000560          -0.072549   \n",
       "minimum_nights                 -0.000560        1.000000          -0.000886   \n",
       "number_of_reviews              -0.072549       -0.000886           1.000000   \n",
       "reviews_per_month              -0.076966       -0.001278           0.757227   \n",
       "calculated_host_listings_count  0.043054       -0.000638          -0.119623   \n",
       "availability_365                0.035050       -0.002382           0.051978   \n",
       "\n",
       "                                reviews_per_month  \\\n",
       "id                                      -0.045698   \n",
       "host_id                                 -0.002811   \n",
       "latitude                                 0.050796   \n",
       "longitude                               -0.018518   \n",
       "price                                   -0.076966   \n",
       "minimum_nights                          -0.001278   \n",
       "number_of_reviews                        0.757227   \n",
       "reviews_per_month                        1.000000   \n",
       "calculated_host_listings_count          -0.132669   \n",
       "availability_365                         0.028433   \n",
       "\n",
       "                                calculated_host_listings_count  \\\n",
       "id                                                    0.162278   \n",
       "host_id                                               0.103409   \n",
       "latitude                                             -0.182681   \n",
       "longitude                                            -0.168411   \n",
       "price                                                 0.043054   \n",
       "minimum_nights                                       -0.000638   \n",
       "number_of_reviews                                    -0.119623   \n",
       "reviews_per_month                                    -0.132669   \n",
       "calculated_host_listings_count                        1.000000   \n",
       "availability_365                                      0.162411   \n",
       "\n",
       "                                availability_365  \n",
       "id                                      0.051385  \n",
       "host_id                                 0.086979  \n",
       "latitude                               -0.177556  \n",
       "longitude                              -0.145638  \n",
       "price                                   0.035050  \n",
       "minimum_nights                         -0.002382  \n",
       "number_of_reviews                       0.051978  \n",
       "reviews_per_month                       0.028433  \n",
       "calculated_host_listings_count          0.162411  \n",
       "availability_365                        1.000000  "
      ]
     },
     "execution_count": 20,
     "metadata": {},
     "output_type": "execute_result"
    }
   ],
   "source": [
    "#first let's look at the correlation of the features we have in our dataset\n",
    "data_cp.corr()"
   ]
  },
  {
   "cell_type": "code",
   "execution_count": 21,
   "id": "bb2da67c",
   "metadata": {},
   "outputs": [
    {
     "data": {
      "text/html": [
       "<div>\n",
       "<style scoped>\n",
       "    .dataframe tbody tr th:only-of-type {\n",
       "        vertical-align: middle;\n",
       "    }\n",
       "\n",
       "    .dataframe tbody tr th {\n",
       "        vertical-align: top;\n",
       "    }\n",
       "\n",
       "    .dataframe thead th {\n",
       "        text-align: right;\n",
       "    }\n",
       "</style>\n",
       "<table border=\"1\" class=\"dataframe\">\n",
       "  <thead>\n",
       "    <tr style=\"text-align: right;\">\n",
       "      <th></th>\n",
       "      <th>id</th>\n",
       "      <th>host_id</th>\n",
       "      <th>latitude</th>\n",
       "      <th>longitude</th>\n",
       "      <th>price</th>\n",
       "      <th>minimum_nights</th>\n",
       "      <th>number_of_reviews</th>\n",
       "      <th>reviews_per_month</th>\n",
       "      <th>calculated_host_listings_count</th>\n",
       "      <th>availability_365</th>\n",
       "    </tr>\n",
       "  </thead>\n",
       "  <tbody>\n",
       "    <tr>\n",
       "      <th>id</th>\n",
       "      <td>1.000000</td>\n",
       "      <td>0.506036</td>\n",
       "      <td>-0.064116</td>\n",
       "      <td>-0.001228</td>\n",
       "      <td>-0.009146</td>\n",
       "      <td>-0.044748</td>\n",
       "      <td>-0.439394</td>\n",
       "      <td>-0.115441</td>\n",
       "      <td>0.226122</td>\n",
       "      <td>0.087558</td>\n",
       "    </tr>\n",
       "    <tr>\n",
       "      <th>host_id</th>\n",
       "      <td>0.506036</td>\n",
       "      <td>1.000000</td>\n",
       "      <td>-0.073433</td>\n",
       "      <td>0.010525</td>\n",
       "      <td>-0.014657</td>\n",
       "      <td>-0.108435</td>\n",
       "      <td>-0.192685</td>\n",
       "      <td>-0.023109</td>\n",
       "      <td>0.101073</td>\n",
       "      <td>0.078785</td>\n",
       "    </tr>\n",
       "    <tr>\n",
       "      <th>latitude</th>\n",
       "      <td>-0.064116</td>\n",
       "      <td>-0.073433</td>\n",
       "      <td>1.000000</td>\n",
       "      <td>0.478670</td>\n",
       "      <td>-0.148013</td>\n",
       "      <td>0.012424</td>\n",
       "      <td>0.007982</td>\n",
       "      <td>-0.009513</td>\n",
       "      <td>-0.207489</td>\n",
       "      <td>-0.154772</td>\n",
       "    </tr>\n",
       "    <tr>\n",
       "      <th>longitude</th>\n",
       "      <td>-0.001228</td>\n",
       "      <td>0.010525</td>\n",
       "      <td>0.478670</td>\n",
       "      <td>1.000000</td>\n",
       "      <td>-0.142411</td>\n",
       "      <td>-0.066437</td>\n",
       "      <td>-0.055749</td>\n",
       "      <td>-0.059613</td>\n",
       "      <td>-0.180881</td>\n",
       "      <td>-0.132126</td>\n",
       "    </tr>\n",
       "    <tr>\n",
       "      <th>price</th>\n",
       "      <td>-0.009146</td>\n",
       "      <td>-0.014657</td>\n",
       "      <td>-0.148013</td>\n",
       "      <td>-0.142411</td>\n",
       "      <td>1.000000</td>\n",
       "      <td>0.052459</td>\n",
       "      <td>-0.138029</td>\n",
       "      <td>-0.147316</td>\n",
       "      <td>0.081799</td>\n",
       "      <td>0.102630</td>\n",
       "    </tr>\n",
       "    <tr>\n",
       "      <th>minimum_nights</th>\n",
       "      <td>-0.044748</td>\n",
       "      <td>-0.108435</td>\n",
       "      <td>0.012424</td>\n",
       "      <td>-0.066437</td>\n",
       "      <td>0.052459</td>\n",
       "      <td>1.000000</td>\n",
       "      <td>-0.187358</td>\n",
       "      <td>-0.256012</td>\n",
       "      <td>0.016143</td>\n",
       "      <td>0.080028</td>\n",
       "    </tr>\n",
       "    <tr>\n",
       "      <th>number_of_reviews</th>\n",
       "      <td>-0.439394</td>\n",
       "      <td>-0.192685</td>\n",
       "      <td>0.007982</td>\n",
       "      <td>-0.055749</td>\n",
       "      <td>-0.138029</td>\n",
       "      <td>-0.187358</td>\n",
       "      <td>1.000000</td>\n",
       "      <td>0.905164</td>\n",
       "      <td>-0.112274</td>\n",
       "      <td>0.050582</td>\n",
       "    </tr>\n",
       "    <tr>\n",
       "      <th>reviews_per_month</th>\n",
       "      <td>-0.115441</td>\n",
       "      <td>-0.023109</td>\n",
       "      <td>-0.009513</td>\n",
       "      <td>-0.059613</td>\n",
       "      <td>-0.147316</td>\n",
       "      <td>-0.256012</td>\n",
       "      <td>0.905164</td>\n",
       "      <td>1.000000</td>\n",
       "      <td>-0.053293</td>\n",
       "      <td>0.073710</td>\n",
       "    </tr>\n",
       "    <tr>\n",
       "      <th>calculated_host_listings_count</th>\n",
       "      <td>0.226122</td>\n",
       "      <td>0.101073</td>\n",
       "      <td>-0.207489</td>\n",
       "      <td>-0.180881</td>\n",
       "      <td>0.081799</td>\n",
       "      <td>0.016143</td>\n",
       "      <td>-0.112274</td>\n",
       "      <td>-0.053293</td>\n",
       "      <td>1.000000</td>\n",
       "      <td>0.306198</td>\n",
       "    </tr>\n",
       "    <tr>\n",
       "      <th>availability_365</th>\n",
       "      <td>0.087558</td>\n",
       "      <td>0.078785</td>\n",
       "      <td>-0.154772</td>\n",
       "      <td>-0.132126</td>\n",
       "      <td>0.102630</td>\n",
       "      <td>0.080028</td>\n",
       "      <td>0.050582</td>\n",
       "      <td>0.073710</td>\n",
       "      <td>0.306198</td>\n",
       "      <td>1.000000</td>\n",
       "    </tr>\n",
       "  </tbody>\n",
       "</table>\n",
       "</div>"
      ],
      "text/plain": [
       "                                      id   host_id  latitude  longitude  \\\n",
       "id                              1.000000  0.506036 -0.064116  -0.001228   \n",
       "host_id                         0.506036  1.000000 -0.073433   0.010525   \n",
       "latitude                       -0.064116 -0.073433  1.000000   0.478670   \n",
       "longitude                      -0.001228  0.010525  0.478670   1.000000   \n",
       "price                          -0.009146 -0.014657 -0.148013  -0.142411   \n",
       "minimum_nights                 -0.044748 -0.108435  0.012424  -0.066437   \n",
       "number_of_reviews              -0.439394 -0.192685  0.007982  -0.055749   \n",
       "reviews_per_month              -0.115441 -0.023109 -0.009513  -0.059613   \n",
       "calculated_host_listings_count  0.226122  0.101073 -0.207489  -0.180881   \n",
       "availability_365                0.087558  0.078785 -0.154772  -0.132126   \n",
       "\n",
       "                                   price  minimum_nights  number_of_reviews  \\\n",
       "id                             -0.009146       -0.044748          -0.439394   \n",
       "host_id                        -0.014657       -0.108435          -0.192685   \n",
       "latitude                       -0.148013        0.012424           0.007982   \n",
       "longitude                      -0.142411       -0.066437          -0.055749   \n",
       "price                           1.000000        0.052459          -0.138029   \n",
       "minimum_nights                  0.052459        1.000000          -0.187358   \n",
       "number_of_reviews              -0.138029       -0.187358           1.000000   \n",
       "reviews_per_month              -0.147316       -0.256012           0.905164   \n",
       "calculated_host_listings_count  0.081799        0.016143          -0.112274   \n",
       "availability_365                0.102630        0.080028           0.050582   \n",
       "\n",
       "                                reviews_per_month  \\\n",
       "id                                      -0.115441   \n",
       "host_id                                 -0.023109   \n",
       "latitude                                -0.009513   \n",
       "longitude                               -0.059613   \n",
       "price                                   -0.147316   \n",
       "minimum_nights                          -0.256012   \n",
       "number_of_reviews                        0.905164   \n",
       "reviews_per_month                        1.000000   \n",
       "calculated_host_listings_count          -0.053293   \n",
       "availability_365                         0.073710   \n",
       "\n",
       "                                calculated_host_listings_count  \\\n",
       "id                                                    0.226122   \n",
       "host_id                                               0.101073   \n",
       "latitude                                             -0.207489   \n",
       "longitude                                            -0.180881   \n",
       "price                                                 0.081799   \n",
       "minimum_nights                                        0.016143   \n",
       "number_of_reviews                                    -0.112274   \n",
       "reviews_per_month                                    -0.053293   \n",
       "calculated_host_listings_count                        1.000000   \n",
       "availability_365                                      0.306198   \n",
       "\n",
       "                                availability_365  \n",
       "id                                      0.087558  \n",
       "host_id                                 0.078785  \n",
       "latitude                               -0.154772  \n",
       "longitude                              -0.132126  \n",
       "price                                   0.102630  \n",
       "minimum_nights                          0.080028  \n",
       "number_of_reviews                       0.050582  \n",
       "reviews_per_month                       0.073710  \n",
       "calculated_host_listings_count          0.306198  \n",
       "availability_365                        1.000000  "
      ]
     },
     "execution_count": 21,
     "metadata": {},
     "output_type": "execute_result"
    }
   ],
   "source": [
    "data_cp.corr(method='spearman')"
   ]
  },
  {
   "cell_type": "code",
   "execution_count": 22,
   "id": "7070733b",
   "metadata": {},
   "outputs": [
    {
     "data": {
      "text/plain": [
       "<AxesSubplot:>"
      ]
     },
     "execution_count": 22,
     "metadata": {},
     "output_type": "execute_result"
    },
    {
     "data": {
      "image/png": "[encoded data removed]",
      "text/plain": [
       "<Figure size 1152x648 with 2 Axes>"
      ]
     },
     "metadata": {
      "needs_background": "light"
     },
     "output_type": "display_data"
    }
   ],
   "source": [
    "#the correlation ofthe features we have with the price  \n",
    "plt.figure(figsize=(16,9))\n",
    "sns.heatmap(data_cp.corr(method='spearman')[['price']].sort_values(by='price' ,key=abs, ascending=False),annot=True, cmap=\"YlGnBu\" , vmin=-1, vmax=1, linewidths=1)"
   ]
  },
  {
   "cell_type": "markdown",
   "id": "8bbac390",
   "metadata": {},
   "source": [
    "This correlation heatmap  with the price show that there is no high correlation with any features we have . The location and reviews are followed by the availability.\n"
   ]
  },
  {
   "cell_type": "code",
   "execution_count": 23,
   "id": "f7fc02af",
   "metadata": {},
   "outputs": [
    {
     "data": {
      "image/png": "[encoded data removed]",
      "text/plain": [
       "<Figure size 2592x1440 with 12 Axes>"
      ]
     },
     "metadata": {
      "needs_background": "light"
     },
     "output_type": "display_data"
    }
   ],
   "source": [
    "# looking at the distribution of the features  \n",
    "data_cp.hist(bins= 30,figsize = (36,20));\n"
   ]
  },
  {
   "cell_type": "markdown",
   "id": "436a40ae",
   "metadata": {},
   "source": [
    "According to the distribution most of our data are left skewed and and with a spike which indicate outiliers.\n"
   ]
  },
  {
   "cell_type": "code",
   "execution_count": 93,
   "id": "c124ec0d",
   "metadata": {},
   "outputs": [
    {
     "name": "stderr",
     "output_type": "stream",
     "text": [
      "C:\\Users\\irene\\anaconda3\\envs\\dsirfx_py38\\lib\\site-packages\\seaborn\\_decorators.py:36: FutureWarning: Pass the following variable as a keyword arg: x. From version 0.12, the only valid positional argument will be `data`, and passing other arguments without an explicit keyword will result in an error or misinterpretation.\n",
      "  warnings.warn(\n"
     ]
    },
    {
     "data": {
      "image/png": "[encoded data removed]",
      "text/plain": [
       "<Figure size 1440x1080 with 1 Axes>"
      ]
     },
     "metadata": {
      "needs_background": "light"
     },
     "output_type": "display_data"
    }
   ],
   "source": [
    "# distribution of the number of reviews per months in the airbnb\n",
    "#plt.figure (figsize = (8, 5))\n",
    "plt.rcParams[\"figure.figsize\"] = [20,15]\n",
    "sns.boxplot(data_cp['reviews_per_month']);"
   ]
  },
  {
   "cell_type": "markdown",
   "id": "447d88a9",
   "metadata": {},
   "source": [
    "For the review per month we see that most of the airbnb have less than five review per month . So we will consider as outliers the reviews that are more than 20 per month."
   ]
  },
  {
   "cell_type": "code",
   "execution_count": 98,
   "id": "9843a4be",
   "metadata": {},
   "outputs": [
    {
     "data": {
      "image/png": "[encoded data removed]",
      "text/plain": [
       "<Figure size 360x360 with 1 Axes>"
      ]
     },
     "metadata": {},
     "output_type": "display_data"
    }
   ],
   "source": [
    "\n",
    "# distribution of the price in the airbnb\n",
    "#plt.figure (figsize = (30,15))\n",
    "plt.rcParams[\"figure.figsize\"] = [20,15]\n",
    "#sns.set(rc = {'figure.figsize':(16,9)})\n",
    "sns.catplot(x=\"room_type\", y=\"price\", kind=\"box\", data=data_cp);"
   ]
  },
  {
   "cell_type": "code",
   "execution_count": 26,
   "id": "2f8c9a77",
   "metadata": {},
   "outputs": [
    {
     "data": {
      "text/plain": [
       "<AxesSubplot:>"
      ]
     },
     "execution_count": 26,
     "metadata": {},
     "output_type": "execute_result"
    },
    {
     "data": {
      "image/png": "[encoded data removed]",
      "text/plain": [
       "<Figure size 1152x720 with 1 Axes>"
      ]
     },
     "metadata": {
      "needs_background": "light"
     },
     "output_type": "display_data"
    }
   ],
   "source": [
    "# cities with the largest number of expensive airbnb\n",
    "plt.figure (figsize = (16, 10))\n",
    "data_cp[data_cp['price']>5000]['city'].value_counts(ascending= True).plot(kind = 'barh')"
   ]
  },
  {
   "cell_type": "code",
   "execution_count": 27,
   "id": "d5d8a37f",
   "metadata": {},
   "outputs": [],
   "source": [
    "# using the price column because we are predicting the price , we looked at the outliers \n",
    "#conclude that every airbnb where the price is above 5000$ per night maybe treated as an outlier.\n",
    "#we removed the ouliers.\n",
    "data_cp = data_cp[data_cp['price']<5000]"
   ]
  },
  {
   "cell_type": "code",
   "execution_count": 92,
   "id": "8ea58616",
   "metadata": {},
   "outputs": [
    {
     "data": {
      "text/plain": [
       "<seaborn.axisgrid.FacetGrid at 0x171bc965be0>"
      ]
     },
     "execution_count": 92,
     "metadata": {},
     "output_type": "execute_result"
    },
    {
     "data": {
      "text/plain": [
       "<Figure size 1152x720 with 0 Axes>"
      ]
     },
     "metadata": {},
     "output_type": "display_data"
    },
    {
     "data": {
      "image/png": "[encoded data removed]",
      "text/plain": [
       "<Figure size 360x360 with 1 Axes>"
      ]
     },
     "metadata": {
      "needs_background": "light"
     },
     "output_type": "display_data"
    }
   ],
   "source": [
    "# distribution of the price in the airbnb by the type of room\n",
    "#plt.rcParams[\"figure.figsize\"] = [30,20]\n",
    "plt.figure (figsize = (16, 10))\n",
    "sns.catplot(x=\"price\", y=\"room_type\", kind=\"box\", data=data_cp)"
   ]
  },
  {
   "cell_type": "code",
   "execution_count": 29,
   "id": "9cfb3fdb",
   "metadata": {},
   "outputs": [
    {
     "data": {
      "text/plain": [
       "(225448, 15)"
      ]
     },
     "execution_count": 29,
     "metadata": {},
     "output_type": "execute_result"
    }
   ],
   "source": [
    "data_cp.shape"
   ]
  },
  {
   "cell_type": "code",
   "execution_count": 30,
   "id": "c024f2e5",
   "metadata": {},
   "outputs": [
    {
     "name": "stderr",
     "output_type": "stream",
     "text": [
      "C:\\Users\\irene\\anaconda3\\envs\\dsirfx_py38\\lib\\site-packages\\seaborn\\distributions.py:2557: FutureWarning: `distplot` is a deprecated function and will be removed in a future version. Please adapt your code to use either `displot` (a figure-level function with similar flexibility) or `histplot` (an axes-level function for histograms).\n",
      "  warnings.warn(msg, FutureWarning)\n"
     ]
    },
    {
     "data": {
      "image/png": "[encoded data removed]",
      "text/plain": [
       "<Figure size 576x360 with 1 Axes>"
      ]
     },
     "metadata": {
      "needs_background": "light"
     },
     "output_type": "display_data"
    }
   ],
   "source": [
    "# distribution of the number of availabilty of the airbnb\n",
    "plt.figure (figsize = (8, 5))\n",
    "sns.distplot(data_cp['availability_365']);"
   ]
  },
  {
   "cell_type": "markdown",
   "id": "1667fd33",
   "metadata": {},
   "source": [
    "Looking at the distribution  we can see that most the availability is high at the start and end of the year where most of go to families ."
   ]
  },
  {
   "cell_type": "code",
   "execution_count": 31,
   "id": "bba00653",
   "metadata": {},
   "outputs": [
    {
     "data": {
      "image/png": "[encoded data removed]",
      "text/plain": [
       "<Figure size 1152x720 with 1 Axes>"
      ]
     },
     "metadata": {
      "needs_background": "light"
     },
     "output_type": "display_data"
    }
   ],
   "source": [
    "# looked at the numbers of airbnb per city to see which city has the most airbnb \n",
    "plt.figure (figsize = (16, 10))\n",
    "data_cp['city'].value_counts(ascending= True).plot(kind = 'barh')\n",
    "plt.title('Number of airbnb per city');\n",
    "plt.show()"
   ]
  },
  {
   "cell_type": "markdown",
   "id": "4345a275",
   "metadata": {},
   "source": [
    "New york has the highest number of airbnb followed by LosAngeles , because there are ones of the most touristic cities in the USA."
   ]
  },
  {
   "cell_type": "code",
   "execution_count": null,
   "id": "8dd3db5d",
   "metadata": {},
   "outputs": [],
   "source": []
  },
  {
   "cell_type": "code",
   "execution_count": 32,
   "id": "0327abdb",
   "metadata": {},
   "outputs": [
    {
     "data": {
      "text/plain": [
       "117155     3\n",
       "117156     1\n",
       "117157    29\n",
       "117158     7\n",
       "117159     2\n",
       "          ..\n",
       "162906    30\n",
       "162907     3\n",
       "162908    30\n",
       "162909    30\n",
       "162910    30\n",
       "Name: minimum_nights, Length: 45688, dtype: int64"
      ]
     },
     "execution_count": 32,
     "metadata": {},
     "output_type": "execute_result"
    }
   ],
   "source": [
    "data_cp[data_cp['city'] == 'New York City']['minimum_nights']"
   ]
  },
  {
   "cell_type": "code",
   "execution_count": 33,
   "id": "dbd8cec3",
   "metadata": {},
   "outputs": [
    {
     "name": "stderr",
     "output_type": "stream",
     "text": [
      "C:\\Users\\irene\\anaconda3\\envs\\dsirfx_py38\\lib\\site-packages\\seaborn\\_decorators.py:36: FutureWarning: Pass the following variable as a keyword arg: x. From version 0.12, the only valid positional argument will be `data`, and passing other arguments without an explicit keyword will result in an error or misinterpretation.\n",
      "  warnings.warn(\n"
     ]
    },
    {
     "data": {
      "image/png": "[encoded data removed]",
      "text/plain": [
       "<Figure size 576x360 with 1 Axes>"
      ]
     },
     "metadata": {
      "needs_background": "light"
     },
     "output_type": "display_data"
    }
   ],
   "source": [
    "# distribution of the number of availabilty of the airbnb\n",
    "plt.figure (figsize = (8, 5))\n",
    "sns.boxplot(data_cp[data_cp['city'] == 'New York City']['minimum_nights']);"
   ]
  },
  {
   "cell_type": "code",
   "execution_count": 34,
   "id": "cd1c73dd",
   "metadata": {},
   "outputs": [
    {
     "data": {
      "image/png": "[encoded data removed]",
      "text/plain": [
       "<Figure size 864x576 with 1 Axes>"
      ]
     },
     "metadata": {
      "needs_background": "light"
     },
     "output_type": "display_data"
    }
   ],
   "source": [
    "# Looking at count of airbnb by type of accomodation \n",
    "fig, ax = plt.subplots(figsize = (12,8)) \n",
    "sns.countplot(x='room_type', data=data_cp,color = 'Blue')\n",
    "plt.title('Types of Accomodation of airbnb ');"
   ]
  },
  {
   "cell_type": "code",
   "execution_count": 35,
   "id": "6566ed7a",
   "metadata": {},
   "outputs": [
    {
     "data": {
      "image/png": "[encoded data removed]",
      "text/plain": [
       "<Figure size 1152x648 with 1 Axes>"
      ]
     },
     "metadata": {
      "needs_background": "light"
     },
     "output_type": "display_data"
    }
   ],
   "source": [
    "# Looking at the type of accomodation per city \n",
    "plt.rcParams[\"figure.figsize\"] = [16,9]\n",
    "data_cp.groupby(['city','room_type']\n",
    "                ).size().unstack(fill_value=0).plot(kind=\"barh\")\n",
    "plt.title('Types of Accomodation of airbnb per city');"
   ]
  },
  {
   "cell_type": "markdown",
   "id": "219ee454",
   "metadata": {},
   "source": [
    "The entire home/apt have the higest number in all the cities which indicates that most airbnb are independent which become a home away from home and be a source of income.they are followed in number by the private room ."
   ]
  },
  {
   "cell_type": "code",
   "execution_count": 36,
   "id": "e99c0567",
   "metadata": {},
   "outputs": [
    {
     "name": "stderr",
     "output_type": "stream",
     "text": [
      "C:\\Users\\irene\\anaconda3\\envs\\dsirfx_py38\\lib\\site-packages\\seaborn\\distributions.py:2557: FutureWarning: `distplot` is a deprecated function and will be removed in a future version. Please adapt your code to use either `displot` (a figure-level function with similar flexibility) or `histplot` (an axes-level function for histograms).\n",
      "  warnings.warn(msg, FutureWarning)\n"
     ]
    },
    {
     "data": {
      "image/png": "[encoded data removed]",
      "text/plain": [
       "<Figure size 576x360 with 1 Axes>"
      ]
     },
     "metadata": {
      "needs_background": "light"
     },
     "output_type": "display_data"
    }
   ],
   "source": [
    "# distribution of price of the airbnb\n",
    "plt.figure (figsize = (8, 5))\n",
    "sns.distplot(data_cp['price']);"
   ]
  },
  {
   "cell_type": "code",
   "execution_count": 37,
   "id": "49507704",
   "metadata": {},
   "outputs": [],
   "source": [
    "# log transformation on the price to allow the model so that we can predict the price \n",
    "data_cp['log_price'] = np.log1p(data_cp['price']) # log transformation."
   ]
  },
  {
   "cell_type": "code",
   "execution_count": 38,
   "id": "d6595090",
   "metadata": {},
   "outputs": [
    {
     "name": "stderr",
     "output_type": "stream",
     "text": [
      "C:\\Users\\irene\\anaconda3\\envs\\dsirfx_py38\\lib\\site-packages\\seaborn\\distributions.py:2557: FutureWarning: `distplot` is a deprecated function and will be removed in a future version. Please adapt your code to use either `displot` (a figure-level function with similar flexibility) or `histplot` (an axes-level function for histograms).\n",
      "  warnings.warn(msg, FutureWarning)\n"
     ]
    },
    {
     "data": {
      "image/png": "[encoded data removed]",
      "text/plain": [
       "<Figure size 1152x648 with 1 Axes>"
      ]
     },
     "metadata": {
      "needs_background": "light"
     },
     "output_type": "display_data"
    }
   ],
   "source": [
    "#new distribution of the price \n",
    "sns.distplot(data_cp['log_price']);"
   ]
  },
  {
   "cell_type": "code",
   "execution_count": null,
   "id": "027ce2b8",
   "metadata": {},
   "outputs": [],
   "source": []
  },
  {
   "cell_type": "markdown",
   "id": "a515c7fb",
   "metadata": {},
   "source": [
    "### Pre-Processing for categoricals features"
   ]
  },
  {
   "cell_type": "code",
   "execution_count": 39,
   "id": "ca7ff1d3",
   "metadata": {},
   "outputs": [
    {
     "data": {
      "text/html": [
       "<div>\n",
       "<style scoped>\n",
       "    .dataframe tbody tr th:only-of-type {\n",
       "        vertical-align: middle;\n",
       "    }\n",
       "\n",
       "    .dataframe tbody tr th {\n",
       "        vertical-align: top;\n",
       "    }\n",
       "\n",
       "    .dataframe thead th {\n",
       "        text-align: right;\n",
       "    }\n",
       "</style>\n",
       "<table border=\"1\" class=\"dataframe\">\n",
       "  <thead>\n",
       "    <tr style=\"text-align: right;\">\n",
       "      <th></th>\n",
       "      <th>id</th>\n",
       "      <th>name</th>\n",
       "      <th>host_id</th>\n",
       "      <th>host_name</th>\n",
       "      <th>neighbourhood</th>\n",
       "      <th>latitude</th>\n",
       "      <th>longitude</th>\n",
       "      <th>room_type</th>\n",
       "      <th>price</th>\n",
       "      <th>minimum_nights</th>\n",
       "      <th>number_of_reviews</th>\n",
       "      <th>reviews_per_month</th>\n",
       "      <th>calculated_host_listings_count</th>\n",
       "      <th>availability_365</th>\n",
       "      <th>city</th>\n",
       "      <th>log_price</th>\n",
       "    </tr>\n",
       "  </thead>\n",
       "  <tbody>\n",
       "    <tr>\n",
       "      <th>0</th>\n",
       "      <td>38585</td>\n",
       "      <td>Charming Victorian home - twin beds + breakfast</td>\n",
       "      <td>165529</td>\n",
       "      <td>Evelyne</td>\n",
       "      <td>28804</td>\n",
       "      <td>35.65146</td>\n",
       "      <td>-82.62792</td>\n",
       "      <td>Private room</td>\n",
       "      <td>60.0</td>\n",
       "      <td>1</td>\n",
       "      <td>138</td>\n",
       "      <td>1.14</td>\n",
       "      <td>1</td>\n",
       "      <td>0</td>\n",
       "      <td>Asheville</td>\n",
       "      <td>4.110874</td>\n",
       "    </tr>\n",
       "    <tr>\n",
       "      <th>1</th>\n",
       "      <td>80905</td>\n",
       "      <td>French Chic Loft</td>\n",
       "      <td>427027</td>\n",
       "      <td>Celeste</td>\n",
       "      <td>28801</td>\n",
       "      <td>35.59779</td>\n",
       "      <td>-82.55540</td>\n",
       "      <td>Entire home/apt</td>\n",
       "      <td>470.0</td>\n",
       "      <td>1</td>\n",
       "      <td>114</td>\n",
       "      <td>1.03</td>\n",
       "      <td>11</td>\n",
       "      <td>288</td>\n",
       "      <td>Asheville</td>\n",
       "      <td>6.154858</td>\n",
       "    </tr>\n",
       "    <tr>\n",
       "      <th>2</th>\n",
       "      <td>108061</td>\n",
       "      <td>Walk to stores/parks/downtown. Fenced yard/Pet...</td>\n",
       "      <td>320564</td>\n",
       "      <td>Lisa</td>\n",
       "      <td>28801</td>\n",
       "      <td>35.60670</td>\n",
       "      <td>-82.55563</td>\n",
       "      <td>Entire home/apt</td>\n",
       "      <td>75.0</td>\n",
       "      <td>30</td>\n",
       "      <td>89</td>\n",
       "      <td>0.81</td>\n",
       "      <td>2</td>\n",
       "      <td>298</td>\n",
       "      <td>Asheville</td>\n",
       "      <td>4.330733</td>\n",
       "    </tr>\n",
       "    <tr>\n",
       "      <th>3</th>\n",
       "      <td>155305</td>\n",
       "      <td>Cottage! BonPaul + Sharky's Hostel</td>\n",
       "      <td>746673</td>\n",
       "      <td>BonPaul</td>\n",
       "      <td>28806</td>\n",
       "      <td>35.57864</td>\n",
       "      <td>-82.59578</td>\n",
       "      <td>Entire home/apt</td>\n",
       "      <td>90.0</td>\n",
       "      <td>1</td>\n",
       "      <td>267</td>\n",
       "      <td>2.39</td>\n",
       "      <td>5</td>\n",
       "      <td>0</td>\n",
       "      <td>Asheville</td>\n",
       "      <td>4.510860</td>\n",
       "    </tr>\n",
       "    <tr>\n",
       "      <th>4</th>\n",
       "      <td>160594</td>\n",
       "      <td>Historic Grove Park</td>\n",
       "      <td>769252</td>\n",
       "      <td>Elizabeth</td>\n",
       "      <td>28801</td>\n",
       "      <td>35.61442</td>\n",
       "      <td>-82.54127</td>\n",
       "      <td>Private room</td>\n",
       "      <td>125.0</td>\n",
       "      <td>30</td>\n",
       "      <td>58</td>\n",
       "      <td>0.52</td>\n",
       "      <td>1</td>\n",
       "      <td>0</td>\n",
       "      <td>Asheville</td>\n",
       "      <td>4.836282</td>\n",
       "    </tr>\n",
       "  </tbody>\n",
       "</table>\n",
       "</div>"
      ],
      "text/plain": [
       "       id                                               name  host_id  \\\n",
       "0   38585    Charming Victorian home - twin beds + breakfast   165529   \n",
       "1   80905                                   French Chic Loft   427027   \n",
       "2  108061  Walk to stores/parks/downtown. Fenced yard/Pet...   320564   \n",
       "3  155305                 Cottage! BonPaul + Sharky's Hostel   746673   \n",
       "4  160594                                Historic Grove Park   769252   \n",
       "\n",
       "   host_name neighbourhood  latitude  longitude        room_type  price  \\\n",
       "0    Evelyne         28804  35.65146  -82.62792     Private room   60.0   \n",
       "1    Celeste         28801  35.59779  -82.55540  Entire home/apt  470.0   \n",
       "2       Lisa         28801  35.60670  -82.55563  Entire home/apt   75.0   \n",
       "3    BonPaul         28806  35.57864  -82.59578  Entire home/apt   90.0   \n",
       "4  Elizabeth         28801  35.61442  -82.54127     Private room  125.0   \n",
       "\n",
       "   minimum_nights  number_of_reviews  reviews_per_month  \\\n",
       "0               1                138               1.14   \n",
       "1               1                114               1.03   \n",
       "2              30                 89               0.81   \n",
       "3               1                267               2.39   \n",
       "4              30                 58               0.52   \n",
       "\n",
       "   calculated_host_listings_count  availability_365       city  log_price  \n",
       "0                               1                 0  Asheville   4.110874  \n",
       "1                              11               288  Asheville   6.154858  \n",
       "2                               2               298  Asheville   4.330733  \n",
       "3                               5                 0  Asheville   4.510860  \n",
       "4                               1                 0  Asheville   4.836282  "
      ]
     },
     "execution_count": 39,
     "metadata": {},
     "output_type": "execute_result"
    }
   ],
   "source": [
    "data_cp.head()"
   ]
  },
  {
   "cell_type": "code",
   "execution_count": 40,
   "id": "bc62be93",
   "metadata": {},
   "outputs": [],
   "source": [
    "# creating a helper function that  can change the unique values into a category\n",
    "# I need to create a dictionary where the keys are the unique values of a given column \n",
    "# the values will be the labelencoder of those unique values\n",
    "from sklearn.preprocessing import LabelEncoder\n",
    "def cat_columns(col):\n",
    "    column_values = col.unique()\n",
    "    column_df = pd.DataFrame(column_values, columns=['unique_value_col'])\n",
    "    # creating instance of labelencoder\n",
    "    labelencoder = LabelEncoder()\n",
    "    column_df['column_cat'] = labelencoder.fit_transform(column_df['unique_value_col'])\n",
    "    cat = {column_df['unique_value_col'][i]:column_df['column_cat'][i] for i in range (len(column_df['unique_value_col']))}\n",
    "    col_cat = pd.DataFrame(col.map(cat))\n",
    "  \n",
    "    \n",
    "        \n",
    "        \n",
    "    return col_cat"
   ]
  },
  {
   "cell_type": "code",
   "execution_count": 41,
   "id": "bd7ec180",
   "metadata": {},
   "outputs": [],
   "source": [
    "data_cp['host_name_cat'] = cat_columns(data_cp['host_name'])\n",
    "data_cp['neighbourhood_cat'] = cat_columns(data_cp['neighbourhood'])\n",
    "data_cp['room_type_cat'] = cat_columns(data_cp['room_type'])\n",
    "data_cp['city_cat'] = cat_columns(data_cp['city'])"
   ]
  },
  {
   "cell_type": "code",
   "execution_count": 42,
   "id": "800a0614",
   "metadata": {},
   "outputs": [
    {
     "data": {
      "text/html": [
       "<div>\n",
       "<style scoped>\n",
       "    .dataframe tbody tr th:only-of-type {\n",
       "        vertical-align: middle;\n",
       "    }\n",
       "\n",
       "    .dataframe tbody tr th {\n",
       "        vertical-align: top;\n",
       "    }\n",
       "\n",
       "    .dataframe thead th {\n",
       "        text-align: right;\n",
       "    }\n",
       "</style>\n",
       "<table border=\"1\" class=\"dataframe\">\n",
       "  <thead>\n",
       "    <tr style=\"text-align: right;\">\n",
       "      <th></th>\n",
       "      <th>id</th>\n",
       "      <th>name</th>\n",
       "      <th>host_id</th>\n",
       "      <th>host_name</th>\n",
       "      <th>neighbourhood</th>\n",
       "      <th>latitude</th>\n",
       "      <th>longitude</th>\n",
       "      <th>room_type</th>\n",
       "      <th>price</th>\n",
       "      <th>minimum_nights</th>\n",
       "      <th>number_of_reviews</th>\n",
       "      <th>reviews_per_month</th>\n",
       "      <th>calculated_host_listings_count</th>\n",
       "      <th>availability_365</th>\n",
       "      <th>city</th>\n",
       "      <th>log_price</th>\n",
       "      <th>host_name_cat</th>\n",
       "      <th>neighbourhood_cat</th>\n",
       "      <th>room_type_cat</th>\n",
       "      <th>city_cat</th>\n",
       "    </tr>\n",
       "  </thead>\n",
       "  <tbody>\n",
       "    <tr>\n",
       "      <th>0</th>\n",
       "      <td>38585</td>\n",
       "      <td>Charming Victorian home - twin beds + breakfast</td>\n",
       "      <td>165529</td>\n",
       "      <td>Evelyne</td>\n",
       "      <td>28804</td>\n",
       "      <td>35.65146</td>\n",
       "      <td>-82.62792</td>\n",
       "      <td>Private room</td>\n",
       "      <td>60.0</td>\n",
       "      <td>1</td>\n",
       "      <td>138</td>\n",
       "      <td>1.14</td>\n",
       "      <td>1</td>\n",
       "      <td>0</td>\n",
       "      <td>Asheville</td>\n",
       "      <td>4.110874</td>\n",
       "      <td>8499</td>\n",
       "      <td>5</td>\n",
       "      <td>2</td>\n",
       "      <td>0</td>\n",
       "    </tr>\n",
       "    <tr>\n",
       "      <th>1</th>\n",
       "      <td>80905</td>\n",
       "      <td>French Chic Loft</td>\n",
       "      <td>427027</td>\n",
       "      <td>Celeste</td>\n",
       "      <td>28801</td>\n",
       "      <td>35.59779</td>\n",
       "      <td>-82.55540</td>\n",
       "      <td>Entire home/apt</td>\n",
       "      <td>470.0</td>\n",
       "      <td>1</td>\n",
       "      <td>114</td>\n",
       "      <td>1.03</td>\n",
       "      <td>11</td>\n",
       "      <td>288</td>\n",
       "      <td>Asheville</td>\n",
       "      <td>6.154858</td>\n",
       "      <td>4534</td>\n",
       "      <td>3</td>\n",
       "      <td>0</td>\n",
       "      <td>0</td>\n",
       "    </tr>\n",
       "    <tr>\n",
       "      <th>2</th>\n",
       "      <td>108061</td>\n",
       "      <td>Walk to stores/parks/downtown. Fenced yard/Pet...</td>\n",
       "      <td>320564</td>\n",
       "      <td>Lisa</td>\n",
       "      <td>28801</td>\n",
       "      <td>35.60670</td>\n",
       "      <td>-82.55563</td>\n",
       "      <td>Entire home/apt</td>\n",
       "      <td>75.0</td>\n",
       "      <td>30</td>\n",
       "      <td>89</td>\n",
       "      <td>0.81</td>\n",
       "      <td>2</td>\n",
       "      <td>298</td>\n",
       "      <td>Asheville</td>\n",
       "      <td>4.330733</td>\n",
       "      <td>16427</td>\n",
       "      <td>3</td>\n",
       "      <td>0</td>\n",
       "      <td>0</td>\n",
       "    </tr>\n",
       "    <tr>\n",
       "      <th>3</th>\n",
       "      <td>155305</td>\n",
       "      <td>Cottage! BonPaul + Sharky's Hostel</td>\n",
       "      <td>746673</td>\n",
       "      <td>BonPaul</td>\n",
       "      <td>28806</td>\n",
       "      <td>35.57864</td>\n",
       "      <td>-82.59578</td>\n",
       "      <td>Entire home/apt</td>\n",
       "      <td>90.0</td>\n",
       "      <td>1</td>\n",
       "      <td>267</td>\n",
       "      <td>2.39</td>\n",
       "      <td>5</td>\n",
       "      <td>0</td>\n",
       "      <td>Asheville</td>\n",
       "      <td>4.510860</td>\n",
       "      <td>3457</td>\n",
       "      <td>7</td>\n",
       "      <td>0</td>\n",
       "      <td>0</td>\n",
       "    </tr>\n",
       "    <tr>\n",
       "      <th>4</th>\n",
       "      <td>160594</td>\n",
       "      <td>Historic Grove Park</td>\n",
       "      <td>769252</td>\n",
       "      <td>Elizabeth</td>\n",
       "      <td>28801</td>\n",
       "      <td>35.61442</td>\n",
       "      <td>-82.54127</td>\n",
       "      <td>Private room</td>\n",
       "      <td>125.0</td>\n",
       "      <td>30</td>\n",
       "      <td>58</td>\n",
       "      <td>0.52</td>\n",
       "      <td>1</td>\n",
       "      <td>0</td>\n",
       "      <td>Asheville</td>\n",
       "      <td>4.836282</td>\n",
       "      <td>7873</td>\n",
       "      <td>3</td>\n",
       "      <td>2</td>\n",
       "      <td>0</td>\n",
       "    </tr>\n",
       "  </tbody>\n",
       "</table>\n",
       "</div>"
      ],
      "text/plain": [
       "       id                                               name  host_id  \\\n",
       "0   38585    Charming Victorian home - twin beds + breakfast   165529   \n",
       "1   80905                                   French Chic Loft   427027   \n",
       "2  108061  Walk to stores/parks/downtown. Fenced yard/Pet...   320564   \n",
       "3  155305                 Cottage! BonPaul + Sharky's Hostel   746673   \n",
       "4  160594                                Historic Grove Park   769252   \n",
       "\n",
       "   host_name neighbourhood  latitude  longitude        room_type  price  \\\n",
       "0    Evelyne         28804  35.65146  -82.62792     Private room   60.0   \n",
       "1    Celeste         28801  35.59779  -82.55540  Entire home/apt  470.0   \n",
       "2       Lisa         28801  35.60670  -82.55563  Entire home/apt   75.0   \n",
       "3    BonPaul         28806  35.57864  -82.59578  Entire home/apt   90.0   \n",
       "4  Elizabeth         28801  35.61442  -82.54127     Private room  125.0   \n",
       "\n",
       "   minimum_nights  number_of_reviews  reviews_per_month  \\\n",
       "0               1                138               1.14   \n",
       "1               1                114               1.03   \n",
       "2              30                 89               0.81   \n",
       "3               1                267               2.39   \n",
       "4              30                 58               0.52   \n",
       "\n",
       "   calculated_host_listings_count  availability_365       city  log_price  \\\n",
       "0                               1                 0  Asheville   4.110874   \n",
       "1                              11               288  Asheville   6.154858   \n",
       "2                               2               298  Asheville   4.330733   \n",
       "3                               5                 0  Asheville   4.510860   \n",
       "4                               1                 0  Asheville   4.836282   \n",
       "\n",
       "   host_name_cat  neighbourhood_cat  room_type_cat  city_cat  \n",
       "0           8499                  5              2         0  \n",
       "1           4534                  3              0         0  \n",
       "2          16427                  3              0         0  \n",
       "3           3457                  7              0         0  \n",
       "4           7873                  3              2         0  "
      ]
     },
     "execution_count": 42,
     "metadata": {},
     "output_type": "execute_result"
    }
   ],
   "source": [
    "data_cp.head()"
   ]
  },
  {
   "cell_type": "code",
   "execution_count": 43,
   "id": "7fa3e678",
   "metadata": {},
   "outputs": [],
   "source": [
    "# saving cleaned data as a .csv file \n",
    "data_cp.to_csv('./data/clean_data.csv', index = False)"
   ]
  },
  {
   "cell_type": "code",
   "execution_count": null,
   "id": "88a21492",
   "metadata": {},
   "outputs": [],
   "source": []
  },
  {
   "cell_type": "markdown",
   "id": "a90aff91",
   "metadata": {},
   "source": [
    "### Pre-Processing  using NLP"
   ]
  },
  {
   "cell_type": "code",
   "execution_count": 44,
   "id": "5d2d1703",
   "metadata": {},
   "outputs": [
    {
     "data": {
      "text/html": [
       "<div>\n",
       "<style scoped>\n",
       "    .dataframe tbody tr th:only-of-type {\n",
       "        vertical-align: middle;\n",
       "    }\n",
       "\n",
       "    .dataframe tbody tr th {\n",
       "        vertical-align: top;\n",
       "    }\n",
       "\n",
       "    .dataframe thead th {\n",
       "        text-align: right;\n",
       "    }\n",
       "</style>\n",
       "<table border=\"1\" class=\"dataframe\">\n",
       "  <thead>\n",
       "    <tr style=\"text-align: right;\">\n",
       "      <th></th>\n",
       "      <th>name</th>\n",
       "    </tr>\n",
       "  </thead>\n",
       "  <tbody>\n",
       "    <tr>\n",
       "      <th>0</th>\n",
       "      <td>Charming Victorian home - twin beds + breakfast</td>\n",
       "    </tr>\n",
       "    <tr>\n",
       "      <th>1</th>\n",
       "      <td>French Chic Loft</td>\n",
       "    </tr>\n",
       "    <tr>\n",
       "      <th>2</th>\n",
       "      <td>Walk to stores/parks/downtown. Fenced yard/Pet...</td>\n",
       "    </tr>\n",
       "    <tr>\n",
       "      <th>3</th>\n",
       "      <td>Cottage! BonPaul + Sharky's Hostel</td>\n",
       "    </tr>\n",
       "    <tr>\n",
       "      <th>4</th>\n",
       "      <td>Historic Grove Park</td>\n",
       "    </tr>\n",
       "  </tbody>\n",
       "</table>\n",
       "</div>"
      ],
      "text/plain": [
       "                                                name\n",
       "0    Charming Victorian home - twin beds + breakfast\n",
       "1                                   French Chic Loft\n",
       "2  Walk to stores/parks/downtown. Fenced yard/Pet...\n",
       "3                 Cottage! BonPaul + Sharky's Hostel\n",
       "4                                Historic Grove Park"
      ]
     },
     "execution_count": 44,
     "metadata": {},
     "output_type": "execute_result"
    }
   ],
   "source": [
    "# make a new dataframe with the name and price columns to analyze the description \n",
    "\n",
    "data_descr = data_cp[['name']]\n",
    "data_descr.head()"
   ]
  },
  {
   "cell_type": "code",
   "execution_count": 45,
   "id": "377f4ddf",
   "metadata": {},
   "outputs": [
    {
     "name": "stderr",
     "output_type": "stream",
     "text": [
      "<ipython-input-45-75b3bc8a7f88>:2: SettingWithCopyWarning: \n",
      "A value is trying to be set on a copy of a slice from a DataFrame.\n",
      "Try using .loc[row_indexer,col_indexer] = value instead\n",
      "\n",
      "See the caveats in the documentation: https://pandas.pydata.org/pandas-docs/stable/user_guide/indexing.html#returning-a-view-versus-a-copy\n",
      "  data_descr['name_length']= data_descr['name'].str.len()\n",
      "<ipython-input-45-75b3bc8a7f88>:3: SettingWithCopyWarning: \n",
      "A value is trying to be set on a copy of a slice from a DataFrame.\n",
      "Try using .loc[row_indexer,col_indexer] = value instead\n",
      "\n",
      "See the caveats in the documentation: https://pandas.pydata.org/pandas-docs/stable/user_guide/indexing.html#returning-a-view-versus-a-copy\n",
      "  data_descr['name_word_count']= data_descr['name'].str.split().str.len()\n"
     ]
    },
    {
     "data": {
      "text/html": [
       "<div>\n",
       "<style scoped>\n",
       "    .dataframe tbody tr th:only-of-type {\n",
       "        vertical-align: middle;\n",
       "    }\n",
       "\n",
       "    .dataframe tbody tr th {\n",
       "        vertical-align: top;\n",
       "    }\n",
       "\n",
       "    .dataframe thead th {\n",
       "        text-align: right;\n",
       "    }\n",
       "</style>\n",
       "<table border=\"1\" class=\"dataframe\">\n",
       "  <thead>\n",
       "    <tr style=\"text-align: right;\">\n",
       "      <th></th>\n",
       "      <th>name</th>\n",
       "      <th>name_length</th>\n",
       "      <th>name_word_count</th>\n",
       "    </tr>\n",
       "  </thead>\n",
       "  <tbody>\n",
       "    <tr>\n",
       "      <th>0</th>\n",
       "      <td>Charming Victorian home - twin beds + breakfast</td>\n",
       "      <td>47</td>\n",
       "      <td>8</td>\n",
       "    </tr>\n",
       "    <tr>\n",
       "      <th>1</th>\n",
       "      <td>French Chic Loft</td>\n",
       "      <td>16</td>\n",
       "      <td>3</td>\n",
       "    </tr>\n",
       "    <tr>\n",
       "      <th>2</th>\n",
       "      <td>Walk to stores/parks/downtown. Fenced yard/Pet...</td>\n",
       "      <td>50</td>\n",
       "      <td>6</td>\n",
       "    </tr>\n",
       "    <tr>\n",
       "      <th>3</th>\n",
       "      <td>Cottage! BonPaul + Sharky's Hostel</td>\n",
       "      <td>34</td>\n",
       "      <td>5</td>\n",
       "    </tr>\n",
       "    <tr>\n",
       "      <th>4</th>\n",
       "      <td>Historic Grove Park</td>\n",
       "      <td>19</td>\n",
       "      <td>3</td>\n",
       "    </tr>\n",
       "  </tbody>\n",
       "</table>\n",
       "</div>"
      ],
      "text/plain": [
       "                                                name  name_length  \\\n",
       "0    Charming Victorian home - twin beds + breakfast           47   \n",
       "1                                   French Chic Loft           16   \n",
       "2  Walk to stores/parks/downtown. Fenced yard/Pet...           50   \n",
       "3                 Cottage! BonPaul + Sharky's Hostel           34   \n",
       "4                                Historic Grove Park           19   \n",
       "\n",
       "   name_word_count  \n",
       "0                8  \n",
       "1                3  \n",
       "2                6  \n",
       "3                5  \n",
       "4                3  "
      ]
     },
     "execution_count": 45,
     "metadata": {},
     "output_type": "execute_result"
    }
   ],
   "source": [
    "#looking at the word count and the lengh of the description\n",
    "data_descr['name_length']= data_descr['name'].str.len()\n",
    "data_descr['name_word_count']= data_descr['name'].str.split().str.len()\n",
    "data_descr.head()"
   ]
  },
  {
   "cell_type": "code",
   "execution_count": 46,
   "id": "e40c717a",
   "metadata": {},
   "outputs": [
    {
     "data": {
      "image/png": "[encoded data removed]",
      "text/plain": [
       "<Figure size 1152x648 with 1 Axes>"
      ]
     },
     "metadata": {
      "needs_background": "light"
     },
     "output_type": "display_data"
    }
   ],
   "source": [
    "plt.figure(figsize=(16,9))\n",
    "\n",
    "sns.boxplot(data=data_descr, x='name_length');"
   ]
  },
  {
   "cell_type": "code",
   "execution_count": 47,
   "id": "5d838b1e",
   "metadata": {},
   "outputs": [
    {
     "data": {
      "image/png": "[encoded data removed]",
      "text/plain": [
       "<Figure size 1152x648 with 1 Axes>"
      ]
     },
     "metadata": {
      "needs_background": "light"
     },
     "output_type": "display_data"
    }
   ],
   "source": [
    "plt.figure(figsize=(16,9))\n",
    "\n",
    "sns.boxplot(data=data_descr, x='name_word_count');"
   ]
  },
  {
   "cell_type": "code",
   "execution_count": 48,
   "id": "1f905845",
   "metadata": {},
   "outputs": [
    {
     "data": {
      "image/png": "[encoded data removed]",
      "text/plain": [
       "<Figure size 1152x648 with 1 Axes>"
      ]
     },
     "metadata": {
      "needs_background": "light"
     },
     "output_type": "display_data"
    }
   ],
   "source": [
    "plt.figure(figsize=(16,9))\n",
    "\n",
    "plt.hist(data_descr['name_length'], bins=30);\n",
    "plt.title('Distribution of the Description length');"
   ]
  },
  {
   "cell_type": "code",
   "execution_count": 49,
   "id": "e65d5f04",
   "metadata": {},
   "outputs": [
    {
     "data": {
      "image/png": "[encoded data removed]",
      "text/plain": [
       "<Figure size 1152x648 with 1 Axes>"
      ]
     },
     "metadata": {
      "needs_background": "light"
     },
     "output_type": "display_data"
    }
   ],
   "source": [
    "plt.figure(figsize=(16,9))\n",
    "\n",
    "plt.hist(data_descr['name_word_count'],bins=30);\n",
    "plt.title('Distribution of number of word used in the Description');"
   ]
  },
  {
   "cell_type": "markdown",
   "id": "08cb98df",
   "metadata": {},
   "source": [
    "The distribution of the word count of the description shows as that the description must be short so it means that the choice of word is important."
   ]
  },
  {
   "cell_type": "markdown",
   "id": "1b3045f3",
   "metadata": {},
   "source": [
    "#### using countvectorizer"
   ]
  },
  {
   "cell_type": "code",
   "execution_count": 50,
   "id": "2aee75b6",
   "metadata": {},
   "outputs": [
    {
     "data": {
      "text/plain": [
       "0      Charming Victorian home - twin beds + breakfast\n",
       "1                                     French Chic Loft\n",
       "2    Walk to stores/parks/downtown. Fenced yard/Pet...\n",
       "3                   Cottage! BonPaul + Sharky's Hostel\n",
       "4                                  Historic Grove Park\n",
       "Name: name, dtype: object"
      ]
     },
     "execution_count": 50,
     "metadata": {},
     "output_type": "execute_result"
    }
   ],
   "source": [
    "df_name = data_descr['name']\n",
    "df_name.head()"
   ]
  },
  {
   "cell_type": "code",
   "execution_count": 51,
   "id": "9a309066",
   "metadata": {},
   "outputs": [],
   "source": [
    "cvec = CountVectorizer(max_features=4000,\n",
    "                       stop_words='english',\n",
    "                       min_df=2,\n",
    "                         )"
   ]
  },
  {
   "cell_type": "code",
   "execution_count": 52,
   "id": "014fd5b9",
   "metadata": {},
   "outputs": [],
   "source": [
    "data_cvec = cvec.fit_transform(df_name)\n"
   ]
  },
  {
   "cell_type": "code",
   "execution_count": 53,
   "id": "fd178677",
   "metadata": {},
   "outputs": [
    {
     "data": {
      "image/png": "[encoded data removed]",
      "text/plain": [
       "<Figure size 1152x648 with 1 Axes>"
      ]
     },
     "metadata": {
      "needs_background": "light"
     },
     "output_type": "display_data"
    }
   ],
   "source": [
    "data_descr_cv= pd.DataFrame(data_cvec.todense(), columns = cvec.get_feature_names())\n",
    "data_descr_cv.sum().sort_values(ascending=False).head(20).sort_values(ascending=True).plot(kind=\"barh\")\n",
    "plt.title('Most used  Single word in the Description');"
   ]
  },
  {
   "cell_type": "code",
   "execution_count": null,
   "id": "a554fde5",
   "metadata": {},
   "outputs": [],
   "source": []
  },
  {
   "cell_type": "code",
   "execution_count": 54,
   "id": "c99a8534",
   "metadata": {},
   "outputs": [
    {
     "data": {
      "image/png": "[encoded data removed]",
      "text/plain": [
       "<Figure size 1152x648 with 1 Axes>"
      ]
     },
     "metadata": {
      "needs_background": "light"
     },
     "output_type": "display_data"
    }
   ],
   "source": [
    "cvec2 = CountVectorizer(max_features=1000,\n",
    "                       stop_words='english',\n",
    "                       min_df=2,\n",
    "                       ngram_range=(2,2),\n",
    "                         )\n",
    "data_cvec2 = cvec2.fit_transform(df_name)\n",
    "data_descr_cv2= pd.DataFrame(data_cvec2.todense(), columns = cvec2.get_feature_names())\n",
    "data_descr_cv2.sum().sort_values(ascending=False).head(25).sort_values(ascending=True).plot(kind=\"barh\")\n",
    "plt.title('Most used  double word in the Description');"
   ]
  },
  {
   "cell_type": "markdown",
   "id": "2e07fb79",
   "metadata": {},
   "source": [
    "#### Using  tfidf vectorizer"
   ]
  },
  {
   "cell_type": "code",
   "execution_count": 55,
   "id": "0a15eebb",
   "metadata": {},
   "outputs": [
    {
     "data": {
      "image/png": "[encoded data removed]",
      "text/plain": [
       "<Figure size 1152x648 with 1 Axes>"
      ]
     },
     "metadata": {
      "needs_background": "light"
     },
     "output_type": "display_data"
    }
   ],
   "source": [
    "tfidf = TfidfVectorizer(max_features=1000,\n",
    "                        stop_words='english',\n",
    "                       min_df=2,\n",
    "                       max_df=.95,\n",
    "                       ngram_range=(1,1),\n",
    "                       )\n",
    "                       \n",
    "data_tfidf = tfidf.fit_transform(df_name)\n",
    "data_descr_tf= pd.DataFrame(data_tfidf.todense(), columns = tfidf.get_feature_names())\n",
    "data_descr_tf.sum().sort_values(ascending=False).head(20).sort_values(ascending=True).plot(kind=\"barh\")\n",
    "plt.title('Most frequent single word in the Description');"
   ]
  },
  {
   "cell_type": "code",
   "execution_count": 56,
   "id": "1868df1d",
   "metadata": {},
   "outputs": [
    {
     "data": {
      "image/png": "[encoded data removed]",
      "text/plain": [
       "<Figure size 1152x648 with 1 Axes>"
      ]
     },
     "metadata": {
      "needs_background": "light"
     },
     "output_type": "display_data"
    }
   ],
   "source": [
    "tfidf2 = TfidfVectorizer(max_features=1000,\n",
    "                        stop_words='english',\n",
    "                       min_df=2,\n",
    "                       max_df=.95,\n",
    "                       ngram_range=(2,2),\n",
    "                       )\n",
    "                       \n",
    "data_tfidf2 = tfidf2.fit_transform(df_name)\n",
    "data_descr_tf2= pd.DataFrame(data_tfidf2.todense(), columns = tfidf2.get_feature_names())\n",
    "data_descr_tf2.sum().sort_values(ascending=False).head(20).sort_values(ascending=True).plot(kind=\"barh\")\n",
    "plt.title('Most frequent double word in the Description');"
   ]
  },
  {
   "cell_type": "code",
   "execution_count": null,
   "id": "22b44e8c",
   "metadata": {},
   "outputs": [],
   "source": []
  },
  {
   "cell_type": "code",
   "execution_count": null,
   "id": "66bcfe6d",
   "metadata": {},
   "outputs": [],
   "source": []
  },
  {
   "cell_type": "code",
   "execution_count": null,
   "id": "0744cfb6",
   "metadata": {},
   "outputs": [],
   "source": []
  },
  {
   "cell_type": "code",
   "execution_count": null,
   "id": "6c1ed05f",
   "metadata": {},
   "outputs": [],
   "source": []
  },
  {
   "cell_type": "code",
   "execution_count": null,
   "id": "2689a5c0",
   "metadata": {},
   "outputs": [],
   "source": []
  },
  {
   "cell_type": "code",
   "execution_count": null,
   "id": "a5fb6bca",
   "metadata": {},
   "outputs": [],
   "source": []
  },
  {
   "cell_type": "markdown",
   "id": "4be9d247",
   "metadata": {},
   "source": [
    "### Modeling  part 1 "
   ]
  },
  {
   "cell_type": "markdown",
   "id": "9346a8e2",
   "metadata": {},
   "source": [
    "#### Using numerical and Categorical features"
   ]
  },
  {
   "cell_type": "code",
   "execution_count": 57,
   "id": "1cb8e589",
   "metadata": {},
   "outputs": [
    {
     "data": {
      "text/html": [
       "<div>\n",
       "<style scoped>\n",
       "    .dataframe tbody tr th:only-of-type {\n",
       "        vertical-align: middle;\n",
       "    }\n",
       "\n",
       "    .dataframe tbody tr th {\n",
       "        vertical-align: top;\n",
       "    }\n",
       "\n",
       "    .dataframe thead th {\n",
       "        text-align: right;\n",
       "    }\n",
       "</style>\n",
       "<table border=\"1\" class=\"dataframe\">\n",
       "  <thead>\n",
       "    <tr style=\"text-align: right;\">\n",
       "      <th></th>\n",
       "      <th>id</th>\n",
       "      <th>name</th>\n",
       "      <th>host_id</th>\n",
       "      <th>host_name</th>\n",
       "      <th>neighbourhood</th>\n",
       "      <th>latitude</th>\n",
       "      <th>longitude</th>\n",
       "      <th>room_type</th>\n",
       "      <th>price</th>\n",
       "      <th>minimum_nights</th>\n",
       "      <th>number_of_reviews</th>\n",
       "      <th>reviews_per_month</th>\n",
       "      <th>calculated_host_listings_count</th>\n",
       "      <th>availability_365</th>\n",
       "      <th>city</th>\n",
       "      <th>log_price</th>\n",
       "      <th>host_name_cat</th>\n",
       "      <th>neighbourhood_cat</th>\n",
       "      <th>room_type_cat</th>\n",
       "      <th>city_cat</th>\n",
       "    </tr>\n",
       "  </thead>\n",
       "  <tbody>\n",
       "    <tr>\n",
       "      <th>0</th>\n",
       "      <td>38585</td>\n",
       "      <td>Charming Victorian home - twin beds + breakfast</td>\n",
       "      <td>165529</td>\n",
       "      <td>Evelyne</td>\n",
       "      <td>28804</td>\n",
       "      <td>35.65146</td>\n",
       "      <td>-82.62792</td>\n",
       "      <td>Private room</td>\n",
       "      <td>60.0</td>\n",
       "      <td>1</td>\n",
       "      <td>138</td>\n",
       "      <td>1.14</td>\n",
       "      <td>1</td>\n",
       "      <td>0</td>\n",
       "      <td>Asheville</td>\n",
       "      <td>4.110874</td>\n",
       "      <td>8499</td>\n",
       "      <td>5</td>\n",
       "      <td>2</td>\n",
       "      <td>0</td>\n",
       "    </tr>\n",
       "    <tr>\n",
       "      <th>1</th>\n",
       "      <td>80905</td>\n",
       "      <td>French Chic Loft</td>\n",
       "      <td>427027</td>\n",
       "      <td>Celeste</td>\n",
       "      <td>28801</td>\n",
       "      <td>35.59779</td>\n",
       "      <td>-82.55540</td>\n",
       "      <td>Entire home/apt</td>\n",
       "      <td>470.0</td>\n",
       "      <td>1</td>\n",
       "      <td>114</td>\n",
       "      <td>1.03</td>\n",
       "      <td>11</td>\n",
       "      <td>288</td>\n",
       "      <td>Asheville</td>\n",
       "      <td>6.154858</td>\n",
       "      <td>4534</td>\n",
       "      <td>3</td>\n",
       "      <td>0</td>\n",
       "      <td>0</td>\n",
       "    </tr>\n",
       "    <tr>\n",
       "      <th>2</th>\n",
       "      <td>108061</td>\n",
       "      <td>Walk to stores/parks/downtown. Fenced yard/Pet...</td>\n",
       "      <td>320564</td>\n",
       "      <td>Lisa</td>\n",
       "      <td>28801</td>\n",
       "      <td>35.60670</td>\n",
       "      <td>-82.55563</td>\n",
       "      <td>Entire home/apt</td>\n",
       "      <td>75.0</td>\n",
       "      <td>30</td>\n",
       "      <td>89</td>\n",
       "      <td>0.81</td>\n",
       "      <td>2</td>\n",
       "      <td>298</td>\n",
       "      <td>Asheville</td>\n",
       "      <td>4.330733</td>\n",
       "      <td>16427</td>\n",
       "      <td>3</td>\n",
       "      <td>0</td>\n",
       "      <td>0</td>\n",
       "    </tr>\n",
       "    <tr>\n",
       "      <th>3</th>\n",
       "      <td>155305</td>\n",
       "      <td>Cottage! BonPaul + Sharky's Hostel</td>\n",
       "      <td>746673</td>\n",
       "      <td>BonPaul</td>\n",
       "      <td>28806</td>\n",
       "      <td>35.57864</td>\n",
       "      <td>-82.59578</td>\n",
       "      <td>Entire home/apt</td>\n",
       "      <td>90.0</td>\n",
       "      <td>1</td>\n",
       "      <td>267</td>\n",
       "      <td>2.39</td>\n",
       "      <td>5</td>\n",
       "      <td>0</td>\n",
       "      <td>Asheville</td>\n",
       "      <td>4.510860</td>\n",
       "      <td>3457</td>\n",
       "      <td>7</td>\n",
       "      <td>0</td>\n",
       "      <td>0</td>\n",
       "    </tr>\n",
       "    <tr>\n",
       "      <th>4</th>\n",
       "      <td>160594</td>\n",
       "      <td>Historic Grove Park</td>\n",
       "      <td>769252</td>\n",
       "      <td>Elizabeth</td>\n",
       "      <td>28801</td>\n",
       "      <td>35.61442</td>\n",
       "      <td>-82.54127</td>\n",
       "      <td>Private room</td>\n",
       "      <td>125.0</td>\n",
       "      <td>30</td>\n",
       "      <td>58</td>\n",
       "      <td>0.52</td>\n",
       "      <td>1</td>\n",
       "      <td>0</td>\n",
       "      <td>Asheville</td>\n",
       "      <td>4.836282</td>\n",
       "      <td>7873</td>\n",
       "      <td>3</td>\n",
       "      <td>2</td>\n",
       "      <td>0</td>\n",
       "    </tr>\n",
       "  </tbody>\n",
       "</table>\n",
       "</div>"
      ],
      "text/plain": [
       "       id                                               name  host_id  \\\n",
       "0   38585    Charming Victorian home - twin beds + breakfast   165529   \n",
       "1   80905                                   French Chic Loft   427027   \n",
       "2  108061  Walk to stores/parks/downtown. Fenced yard/Pet...   320564   \n",
       "3  155305                 Cottage! BonPaul + Sharky's Hostel   746673   \n",
       "4  160594                                Historic Grove Park   769252   \n",
       "\n",
       "   host_name neighbourhood  latitude  longitude        room_type  price  \\\n",
       "0    Evelyne         28804  35.65146  -82.62792     Private room   60.0   \n",
       "1    Celeste         28801  35.59779  -82.55540  Entire home/apt  470.0   \n",
       "2       Lisa         28801  35.60670  -82.55563  Entire home/apt   75.0   \n",
       "3    BonPaul         28806  35.57864  -82.59578  Entire home/apt   90.0   \n",
       "4  Elizabeth         28801  35.61442  -82.54127     Private room  125.0   \n",
       "\n",
       "   minimum_nights  number_of_reviews  reviews_per_month  \\\n",
       "0               1                138               1.14   \n",
       "1               1                114               1.03   \n",
       "2              30                 89               0.81   \n",
       "3               1                267               2.39   \n",
       "4              30                 58               0.52   \n",
       "\n",
       "   calculated_host_listings_count  availability_365       city  log_price  \\\n",
       "0                               1                 0  Asheville   4.110874   \n",
       "1                              11               288  Asheville   6.154858   \n",
       "2                               2               298  Asheville   4.330733   \n",
       "3                               5                 0  Asheville   4.510860   \n",
       "4                               1                 0  Asheville   4.836282   \n",
       "\n",
       "   host_name_cat  neighbourhood_cat  room_type_cat  city_cat  \n",
       "0           8499                  5              2         0  \n",
       "1           4534                  3              0         0  \n",
       "2          16427                  3              0         0  \n",
       "3           3457                  7              0         0  \n",
       "4           7873                  3              2         0  "
      ]
     },
     "execution_count": 57,
     "metadata": {},
     "output_type": "execute_result"
    }
   ],
   "source": [
    "data_md1 = pd.read_csv(r\"C:\\Users\\irene\\OneDrive\\Desktop\\GA_DSI\\dsi-flex-817\\Capstone I.I\\Data\\clean_data.csv\")\n",
    "data_md1.head()"
   ]
  },
  {
   "cell_type": "code",
   "execution_count": 58,
   "id": "c94cc692",
   "metadata": {},
   "outputs": [],
   "source": [
    "# defining the columns that are numerical and categorical\n",
    "features = [ 'latitude','longitude','minimum_nights',\n",
    "       'number_of_reviews', 'calculated_host_listings_count',\n",
    "       'availability_365', 'host_name_cat', 'neighbourhood_cat',\n",
    "       'room_type_cat', 'city_cat']\n",
    "X = data_md1 [features]\n",
    "y = data_md1['log_price']"
   ]
  },
  {
   "cell_type": "code",
   "execution_count": 59,
   "id": "d785534b",
   "metadata": {},
   "outputs": [],
   "source": [
    "# Make a train-test split for modeling \n",
    "# train size is 70% and using a random_state of 42\n",
    "\n",
    "X_train, X_test, y_train, y_test = train_test_split(X, y, train_size=0.7, random_state=42)"
   ]
  },
  {
   "cell_type": "code",
   "execution_count": 60,
   "id": "4ca77e94",
   "metadata": {},
   "outputs": [
    {
     "name": "stdout",
     "output_type": "stream",
     "text": [
      "(157813, 10)\n",
      "(67635, 10)\n"
     ]
    }
   ],
   "source": [
    "print(X_train.shape)\n",
    "print(X_test.shape)"
   ]
  },
  {
   "cell_type": "markdown",
   "id": "2eea78a2",
   "metadata": {},
   "source": [
    "#### Baseline : Linear Regression"
   ]
  },
  {
   "cell_type": "code",
   "execution_count": 101,
   "id": "de4ea8f0",
   "metadata": {},
   "outputs": [
    {
     "data": {
      "text/plain": [
       "LinearRegression()"
      ]
     },
     "execution_count": 101,
     "metadata": {},
     "output_type": "execute_result"
    }
   ],
   "source": [
    "lr = LinearRegression ()\n",
    "lr.fit(X_train, y_train)\n"
   ]
  },
  {
   "cell_type": "code",
   "execution_count": 102,
   "id": "44d3b640",
   "metadata": {},
   "outputs": [
    {
     "name": "stdout",
     "output_type": "stream",
     "text": [
      "trainning RMSE:287.6365511942524\n",
      "test RMSE :290.52454999338926\n"
     ]
    }
   ],
   "source": [
    "#Using linear regression\n",
    "#calculate the y preds\n",
    "lr_preds_test = lr.predict(X_test)\n",
    "lr_preds_train = lr.predict(X_train)\n",
    "# calculate RMSE\n",
    "lr_rmse_test = mean_squared_error(np.exp(y_test),np.exp(lr_preds_test) , squared=False)\n",
    "lr_rmse_train = mean_squared_error(np.exp(y_train), np.exp(lr_preds_train), squared=False)\n",
    "print (f\"trainning RMSE:{lr_rmse_train}\")\n",
    "print (f\"test RMSE :{lr_rmse_test}\")"
   ]
  },
  {
   "cell_type": "code",
   "execution_count": 103,
   "id": "f21c5321",
   "metadata": {},
   "outputs": [
    {
     "name": "stdout",
     "output_type": "stream",
     "text": [
      "trainning Score:0.2920794116202192\n",
      "test Score :0.2915261026221092\n"
     ]
    }
   ],
   "source": [
    "# Using the decision tree the accurracy on the train data is very high \n",
    "    #but there is a high variance \n",
    "print (f\"trainning Score:{lr.score(X_train,y_train)}\")\n",
    "print (f\"test Score :{lr.score(X_test,y_test)}\")   "
   ]
  },
  {
   "cell_type": "markdown",
   "id": "9413e432",
   "metadata": {},
   "source": [
    "#### Decision tree model "
   ]
  },
  {
   "cell_type": "code",
   "execution_count": 61,
   "id": "028f95c2",
   "metadata": {},
   "outputs": [
    {
     "data": {
      "text/plain": [
       "DecisionTreeRegressor(random_state=42)"
      ]
     },
     "execution_count": 61,
     "metadata": {},
     "output_type": "execute_result"
    }
   ],
   "source": [
    "#instatntiate DecisionTreeRegressor()\n",
    "dtr = DecisionTreeRegressor(random_state=42)\n",
    "#Fit the model \n",
    "dtr.fit(X_train,y_train)"
   ]
  },
  {
   "cell_type": "code",
   "execution_count": 62,
   "id": "cd258060",
   "metadata": {},
   "outputs": [
    {
     "name": "stdout",
     "output_type": "stream",
     "text": [
      "trainning RMSE:5.100734010582176\n",
      "test RMSE :320.682584950328\n"
     ]
    }
   ],
   "source": [
    "#Using decision tree\n",
    "#calculate the y preds\n",
    "dtr_preds_test = dtr.predict(X_test)\n",
    "dtr_preds_train = dtr.predict(X_train)\n",
    "# calculate RMSE\n",
    "dtr_rmse_test = mean_squared_error(np.exp(y_test),np.exp(dtr_preds_test) , squared=False)\n",
    "dtr_rmse_train = mean_squared_error(np.exp(y_train), np.exp(dtr_preds_train), squared=False)\n",
    "print (f\"trainning RMSE:{dtr_rmse_train}\")\n",
    "print (f\"test RMSE :{dtr_rmse_test}\")"
   ]
  },
  {
   "cell_type": "code",
   "execution_count": 63,
   "id": "3d7d4a50",
   "metadata": {},
   "outputs": [
    {
     "name": "stdout",
     "output_type": "stream",
     "text": [
      "trainning Score:0.9997497020671846\n",
      "test Score :0.17860337523048064\n"
     ]
    }
   ],
   "source": [
    "# Using the decision tree the accurracy on the train data is very high \n",
    "    #but there is a high variance \n",
    "print (f\"trainning Score:{dtr.score(X_train,y_train)}\")\n",
    "print (f\"test Score :{dtr.score(X_test,y_test)}\")   \n"
   ]
  },
  {
   "cell_type": "code",
   "execution_count": null,
   "id": "835b12a2",
   "metadata": {},
   "outputs": [],
   "source": []
  },
  {
   "cell_type": "markdown",
   "id": "7eb0b230",
   "metadata": {},
   "source": [
    "#### Random Forest "
   ]
  },
  {
   "cell_type": "code",
   "execution_count": 64,
   "id": "8c034410",
   "metadata": {},
   "outputs": [
    {
     "data": {
      "text/plain": [
       "RandomForestRegressor(random_state=42)"
      ]
     },
     "execution_count": 64,
     "metadata": {},
     "output_type": "execute_result"
    }
   ],
   "source": [
    "#instatntiate random forest regressor\n",
    "rfr = RandomForestRegressor(random_state=42)\n",
    "#Fit the model \n",
    "rfr.fit(X_train,y_train)"
   ]
  },
  {
   "cell_type": "code",
   "execution_count": 65,
   "id": "f7e10609",
   "metadata": {},
   "outputs": [
    {
     "name": "stdout",
     "output_type": "stream",
     "text": [
      "trainning RMSE:129.60837482892313\n",
      "test RMSE :234.22217500331809\n"
     ]
    }
   ],
   "source": [
    "#Using random forest\n",
    "#calculate the y preds\n",
    "rfr_preds_test = rfr.predict(X_test)\n",
    "rfr_preds_train = rfr.predict(X_train)\n",
    "# calculate RMSE\n",
    "rfr_rmse_test = mean_squared_error(np.exp(y_test),np.exp(rfr_preds_test) , squared=False)\n",
    "rfr_rmse_train = mean_squared_error(np.exp(y_train), np.exp(rfr_preds_train), squared=False)\n",
    "print (f\"trainning RMSE:{rfr_rmse_train}\")\n",
    "print (f\"test RMSE :{rfr_rmse_test}\")"
   ]
  },
  {
   "cell_type": "code",
   "execution_count": 66,
   "id": "759ef6a1",
   "metadata": {},
   "outputs": [
    {
     "name": "stdout",
     "output_type": "stream",
     "text": [
      "trainning Score:0.9409270543593091\n",
      "test Score :0.5773863097739337\n"
     ]
    }
   ],
   "source": [
    "# Using the decision tree the accurracy on the train data is very high \n",
    "    #but there is a high variance \n",
    "print (f\"trainning Score:{rfr.score(X_train,y_train)}\")\n",
    "print (f\"test Score :{rfr.score(X_test,y_test)}\") "
   ]
  },
  {
   "cell_type": "code",
   "execution_count": 67,
   "id": "e28322b0",
   "metadata": {},
   "outputs": [
    {
     "data": {
      "text/html": [
       "<div>\n",
       "<style scoped>\n",
       "    .dataframe tbody tr th:only-of-type {\n",
       "        vertical-align: middle;\n",
       "    }\n",
       "\n",
       "    .dataframe tbody tr th {\n",
       "        vertical-align: top;\n",
       "    }\n",
       "\n",
       "    .dataframe thead th {\n",
       "        text-align: right;\n",
       "    }\n",
       "</style>\n",
       "<table border=\"1\" class=\"dataframe\">\n",
       "  <thead>\n",
       "    <tr style=\"text-align: right;\">\n",
       "      <th></th>\n",
       "      <th>Coefficients</th>\n",
       "    </tr>\n",
       "  </thead>\n",
       "  <tbody>\n",
       "    <tr>\n",
       "      <th>room_type_cat</th>\n",
       "      <td>0.262689</td>\n",
       "    </tr>\n",
       "    <tr>\n",
       "      <th>longitude</th>\n",
       "      <td>0.149230</td>\n",
       "    </tr>\n",
       "    <tr>\n",
       "      <th>latitude</th>\n",
       "      <td>0.143653</td>\n",
       "    </tr>\n",
       "    <tr>\n",
       "      <th>host_name_cat</th>\n",
       "      <td>0.094754</td>\n",
       "    </tr>\n",
       "    <tr>\n",
       "      <th>number_of_reviews</th>\n",
       "      <td>0.083306</td>\n",
       "    </tr>\n",
       "    <tr>\n",
       "      <th>availability_365</th>\n",
       "      <td>0.073326</td>\n",
       "    </tr>\n",
       "    <tr>\n",
       "      <th>minimum_nights</th>\n",
       "      <td>0.061809</td>\n",
       "    </tr>\n",
       "    <tr>\n",
       "      <th>neighbourhood_cat</th>\n",
       "      <td>0.056239</td>\n",
       "    </tr>\n",
       "    <tr>\n",
       "      <th>calculated_host_listings_count</th>\n",
       "      <td>0.056114</td>\n",
       "    </tr>\n",
       "    <tr>\n",
       "      <th>city_cat</th>\n",
       "      <td>0.018880</td>\n",
       "    </tr>\n",
       "  </tbody>\n",
       "</table>\n",
       "</div>"
      ],
      "text/plain": [
       "                                Coefficients\n",
       "room_type_cat                       0.262689\n",
       "longitude                           0.149230\n",
       "latitude                            0.143653\n",
       "host_name_cat                       0.094754\n",
       "number_of_reviews                   0.083306\n",
       "availability_365                    0.073326\n",
       "minimum_nights                      0.061809\n",
       "neighbourhood_cat                   0.056239\n",
       "calculated_host_listings_count      0.056114\n",
       "city_cat                            0.018880"
      ]
     },
     "execution_count": 67,
     "metadata": {},
     "output_type": "execute_result"
    }
   ],
   "source": [
    "rf_feature = pd.Series(index = X_train.columns, data = np.abs(rfr.feature_importances_))\n",
    "rf_feature.to_frame(name='Coefficients').sort_values(by='Coefficients', ascending=False)"
   ]
  },
  {
   "cell_type": "code",
   "execution_count": 68,
   "id": "da2ee8c9",
   "metadata": {},
   "outputs": [
    {
     "data": {
      "image/png": "[encoded data removed]",
      "text/plain": [
       "<Figure size 1152x648 with 1 Axes>"
      ]
     },
     "metadata": {
      "needs_background": "light"
     },
     "output_type": "display_data"
    }
   ],
   "source": [
    "plt.rcParams[\"figure.figsize\"] = [16,9]\n",
    "rf_feature.to_frame(name='Coefficients').sort_values(by='Coefficients', ascending=False).plot(kind='bar')\n",
    "plt.title('Importance of features');"
   ]
  },
  {
   "cell_type": "markdown",
   "id": "911b5087",
   "metadata": {},
   "source": [
    "The type of accomodation and location  are important, they are followed by the host_name becoming like a businesswith branches, the number of reviews and the availability."
   ]
  },
  {
   "cell_type": "markdown",
   "id": "9549e47d",
   "metadata": {},
   "source": [
    "#### KNeighborRegressor"
   ]
  },
  {
   "cell_type": "code",
   "execution_count": 69,
   "id": "517a44c5",
   "metadata": {},
   "outputs": [],
   "source": [
    "knn = KNeighborsRegressor()\n"
   ]
  },
  {
   "cell_type": "code",
   "execution_count": 70,
   "id": "ecc1ffc6",
   "metadata": {},
   "outputs": [],
   "source": [
    "params_knn = {\n",
    "    'n_neighbors' : [3, 5, 7],\n",
    "}\n"
   ]
  },
  {
   "cell_type": "code",
   "execution_count": 71,
   "id": "ed908cbe",
   "metadata": {},
   "outputs": [],
   "source": [
    "knn_regressor = GridSearchCV(knn, params_knn,cv=10, n_jobs=-1)"
   ]
  },
  {
   "cell_type": "code",
   "execution_count": 72,
   "id": "0b3e3d22",
   "metadata": {},
   "outputs": [
    {
     "data": {
      "text/plain": [
       "GridSearchCV(cv=10, estimator=KNeighborsRegressor(), n_jobs=-1,\n",
       "             param_grid={'n_neighbors': [3, 5, 7]})"
      ]
     },
     "execution_count": 72,
     "metadata": {},
     "output_type": "execute_result"
    }
   ],
   "source": [
    "knn_regressor.fit(X_train, y_train)\n"
   ]
  },
  {
   "cell_type": "code",
   "execution_count": 73,
   "id": "fc2579c7",
   "metadata": {},
   "outputs": [
    {
     "data": {
      "text/plain": [
       "{'n_neighbors': 7}"
      ]
     },
     "execution_count": 73,
     "metadata": {},
     "output_type": "execute_result"
    }
   ],
   "source": [
    "knn_regressor.best_params_"
   ]
  },
  {
   "cell_type": "code",
   "execution_count": 74,
   "id": "616f0e1d",
   "metadata": {},
   "outputs": [],
   "source": [
    "knn_model = KNeighborsRegressor(n_neighbors = 11)"
   ]
  },
  {
   "cell_type": "code",
   "execution_count": 75,
   "id": "d7501078",
   "metadata": {},
   "outputs": [
    {
     "data": {
      "text/plain": [
       "KNeighborsRegressor(n_neighbors=11)"
      ]
     },
     "execution_count": 75,
     "metadata": {},
     "output_type": "execute_result"
    }
   ],
   "source": [
    "knn_model.fit(X_train, y_train)"
   ]
  },
  {
   "cell_type": "code",
   "execution_count": 76,
   "id": "a3c90756",
   "metadata": {},
   "outputs": [
    {
     "name": "stdout",
     "output_type": "stream",
     "text": [
      "trainning Score:0.29365034165510295\n",
      "test Score :0.1491102021649956\n"
     ]
    }
   ],
   "source": [
    "# Using the decision tree the accurracy on the train data is very high \n",
    "    #but there is a high variance \n",
    "print (f\"trainning Score:{knn_model.score(X_train, y_train)}\")\n",
    "print (f\"test Score :{knn_model.score(X_test,y_test)}\") "
   ]
  },
  {
   "cell_type": "code",
   "execution_count": null,
   "id": "abfca27b",
   "metadata": {},
   "outputs": [],
   "source": []
  },
  {
   "cell_type": "code",
   "execution_count": null,
   "id": "1a947a4c",
   "metadata": {},
   "outputs": [],
   "source": []
  },
  {
   "cell_type": "markdown",
   "id": "cc9457ae",
   "metadata": {},
   "source": [
    "#### XGBoost model"
   ]
  },
  {
   "cell_type": "code",
   "execution_count": 77,
   "id": "de9b1d30",
   "metadata": {},
   "outputs": [],
   "source": [
    "from xgboost import XGBRegressor"
   ]
  },
  {
   "cell_type": "code",
   "execution_count": 78,
   "id": "9dc42461",
   "metadata": {},
   "outputs": [],
   "source": [
    "xgb = XGBRegressor()"
   ]
  },
  {
   "cell_type": "code",
   "execution_count": 79,
   "id": "12c01794",
   "metadata": {},
   "outputs": [],
   "source": [
    "params_xgb = {\n",
    "    'learning_rate': [.05,.1],\n",
    "    'max_depth': [4, 9],\n",
    "    'subsample': [.5, .7],\n",
    "    'n_estimators': [100,200]\n",
    "}"
   ]
  },
  {
   "cell_type": "code",
   "execution_count": 80,
   "id": "b25b15f9",
   "metadata": {},
   "outputs": [],
   "source": [
    "xgb_regressor = GridSearchCV(xgb, params_xgb, cv = 10, n_jobs=-1)"
   ]
  },
  {
   "cell_type": "code",
   "execution_count": 81,
   "id": "42253b39",
   "metadata": {},
   "outputs": [
    {
     "data": {
      "text/plain": [
       "GridSearchCV(cv=10,\n",
       "             estimator=XGBRegressor(base_score=None, booster=None,\n",
       "                                    colsample_bylevel=None,\n",
       "                                    colsample_bynode=None,\n",
       "                                    colsample_bytree=None, gamma=None,\n",
       "                                    gpu_id=None, importance_type='gain',\n",
       "                                    interaction_constraints=None,\n",
       "                                    learning_rate=None, max_delta_step=None,\n",
       "                                    max_depth=None, min_child_weight=None,\n",
       "                                    missing=nan, monotone_constraints=None,\n",
       "                                    n_estimators=100, n_jobs=None,\n",
       "                                    num_parallel_tree=None, random_state=None,\n",
       "                                    reg_alpha=None, reg_lambda=None,\n",
       "                                    scale_pos_weight=None, subsample=None,\n",
       "                                    tree_method=None, validate_parameters=None,\n",
       "                                    verbosity=None),\n",
       "             n_jobs=-1,\n",
       "             param_grid={'learning_rate': [0.05, 0.1], 'max_depth': [4, 9],\n",
       "                         'n_estimators': [100, 200], 'subsample': [0.5, 0.7]})"
      ]
     },
     "execution_count": 81,
     "metadata": {},
     "output_type": "execute_result"
    }
   ],
   "source": [
    "xgb_regressor.fit(X_train, y_train)"
   ]
  },
  {
   "cell_type": "code",
   "execution_count": 82,
   "id": "9b314587",
   "metadata": {},
   "outputs": [
    {
     "data": {
      "text/plain": [
       "{'learning_rate': 0.1, 'max_depth': 9, 'n_estimators': 200, 'subsample': 0.7}"
      ]
     },
     "execution_count": 82,
     "metadata": {},
     "output_type": "execute_result"
    }
   ],
   "source": [
    "xgb_regressor.best_params_"
   ]
  },
  {
   "cell_type": "code",
   "execution_count": 83,
   "id": "2e9ec078",
   "metadata": {},
   "outputs": [],
   "source": [
    "xgb_model = XGBRegressor(learning_rate = 0.1, max_depth = 9, n_estimators = 200, subsample = 0.7)"
   ]
  },
  {
   "cell_type": "code",
   "execution_count": 84,
   "id": "29ab6aee",
   "metadata": {},
   "outputs": [
    {
     "data": {
      "text/plain": [
       "XGBRegressor(base_score=0.5, booster='gbtree', colsample_bylevel=1,\n",
       "             colsample_bynode=1, colsample_bytree=1, gamma=0, gpu_id=-1,\n",
       "             importance_type='gain', interaction_constraints='',\n",
       "             learning_rate=0.1, max_delta_step=0, max_depth=9,\n",
       "             min_child_weight=1, missing=nan, monotone_constraints='()',\n",
       "             n_estimators=200, n_jobs=8, num_parallel_tree=1, random_state=0,\n",
       "             reg_alpha=0, reg_lambda=1, scale_pos_weight=1, subsample=0.7,\n",
       "             tree_method='exact', validate_parameters=1, verbosity=None)"
      ]
     },
     "execution_count": 84,
     "metadata": {},
     "output_type": "execute_result"
    }
   ],
   "source": [
    "xgb_model.fit(X_train, y_train)"
   ]
  },
  {
   "cell_type": "code",
   "execution_count": 85,
   "id": "c19a6c08",
   "metadata": {},
   "outputs": [
    {
     "name": "stdout",
     "output_type": "stream",
     "text": [
      "trainning Score:0.6936188694150931\n",
      "test Score :0.5868884111315205\n"
     ]
    }
   ],
   "source": [
    "# Using the decision tree the accurracy on the train data is very high \n",
    "    #but there is a high variance \n",
    "print (f\"trainning Score:{xgb_model.score(X_train, y_train)}\")\n",
    "print (f\"test Score :{xgb_model.score(X_test,y_test)}\") "
   ]
  },
  {
   "cell_type": "code",
   "execution_count": 86,
   "id": "c37e07a8",
   "metadata": {},
   "outputs": [
    {
     "name": "stdout",
     "output_type": "stream",
     "text": [
      "trainning RMSE:211.93747668227687\n",
      "test RMSE :236.07885473565022\n"
     ]
    }
   ],
   "source": [
    "#Using xgboost\n",
    "#calculate the y preds\n",
    "xgb_preds_test = xgb_model.predict(X_test)\n",
    "xgb_preds_train = xgb_model.predict(X_train)\n",
    "# calculate RMSE\n",
    "xgb_rmse_test = mean_squared_error(np.exp(y_test),np.exp(xgb_preds_test) , squared=False)\n",
    "xgb_rmse_train = mean_squared_error(np.exp(y_train), np.exp(xgb_preds_train), squared=False)\n",
    "print (f\"trainning RMSE:{xgb_rmse_train}\")\n",
    "print (f\"test RMSE :{xgb_rmse_test}\")"
   ]
  },
  {
   "cell_type": "code",
   "execution_count": 106,
   "id": "5767115c",
   "metadata": {},
   "outputs": [
    {
     "data": {
      "text/plain": [
       "array([0.0173109 , 0.02442323, 0.03808607, 0.03167284, 0.02373988,\n",
       "       0.0181606 , 0.01510694, 0.02204533, 0.7621524 , 0.04730186],\n",
       "      dtype=float32)"
      ]
     },
     "execution_count": 106,
     "metadata": {},
     "output_type": "execute_result"
    }
   ],
   "source": [
    "xgb_model.feature_importances_"
   ]
  },
  {
   "cell_type": "code",
   "execution_count": null,
   "id": "e4ccc6f7",
   "metadata": {},
   "outputs": [],
   "source": [
    "xgb_model.feature_importances_()"
   ]
  },
  {
   "cell_type": "code",
   "execution_count": 107,
   "id": "6c60a8c0",
   "metadata": {},
   "outputs": [
    {
     "data": {
      "text/html": [
       "<div>\n",
       "<style scoped>\n",
       "    .dataframe tbody tr th:only-of-type {\n",
       "        vertical-align: middle;\n",
       "    }\n",
       "\n",
       "    .dataframe tbody tr th {\n",
       "        vertical-align: top;\n",
       "    }\n",
       "\n",
       "    .dataframe thead th {\n",
       "        text-align: right;\n",
       "    }\n",
       "</style>\n",
       "<table border=\"1\" class=\"dataframe\">\n",
       "  <thead>\n",
       "    <tr style=\"text-align: right;\">\n",
       "      <th></th>\n",
       "      <th>Coefficients</th>\n",
       "    </tr>\n",
       "  </thead>\n",
       "  <tbody>\n",
       "    <tr>\n",
       "      <th>room_type_cat</th>\n",
       "      <td>0.762152</td>\n",
       "    </tr>\n",
       "    <tr>\n",
       "      <th>city_cat</th>\n",
       "      <td>0.047302</td>\n",
       "    </tr>\n",
       "    <tr>\n",
       "      <th>minimum_nights</th>\n",
       "      <td>0.038086</td>\n",
       "    </tr>\n",
       "    <tr>\n",
       "      <th>number_of_reviews</th>\n",
       "      <td>0.031673</td>\n",
       "    </tr>\n",
       "    <tr>\n",
       "      <th>longitude</th>\n",
       "      <td>0.024423</td>\n",
       "    </tr>\n",
       "    <tr>\n",
       "      <th>calculated_host_listings_count</th>\n",
       "      <td>0.023740</td>\n",
       "    </tr>\n",
       "    <tr>\n",
       "      <th>neighbourhood_cat</th>\n",
       "      <td>0.022045</td>\n",
       "    </tr>\n",
       "    <tr>\n",
       "      <th>availability_365</th>\n",
       "      <td>0.018161</td>\n",
       "    </tr>\n",
       "    <tr>\n",
       "      <th>latitude</th>\n",
       "      <td>0.017311</td>\n",
       "    </tr>\n",
       "    <tr>\n",
       "      <th>host_name_cat</th>\n",
       "      <td>0.015107</td>\n",
       "    </tr>\n",
       "  </tbody>\n",
       "</table>\n",
       "</div>"
      ],
      "text/plain": [
       "                                Coefficients\n",
       "room_type_cat                       0.762152\n",
       "city_cat                            0.047302\n",
       "minimum_nights                      0.038086\n",
       "number_of_reviews                   0.031673\n",
       "longitude                           0.024423\n",
       "calculated_host_listings_count      0.023740\n",
       "neighbourhood_cat                   0.022045\n",
       "availability_365                    0.018161\n",
       "latitude                            0.017311\n",
       "host_name_cat                       0.015107"
      ]
     },
     "execution_count": 107,
     "metadata": {},
     "output_type": "execute_result"
    }
   ],
   "source": [
    "xgb_feature = pd.Series(index = X_train.columns, data = np.abs(xgb_model.feature_importances_))\n",
    "xgb_feature.to_frame(name='Coefficients').sort_values(by='Coefficients', ascending=False)"
   ]
  },
  {
   "cell_type": "code",
   "execution_count": 108,
   "id": "f61642af",
   "metadata": {},
   "outputs": [
    {
     "data": {
      "image/png": "[encoded data removed]",
      "text/plain": [
       "<Figure size 1152x648 with 1 Axes>"
      ]
     },
     "metadata": {},
     "output_type": "display_data"
    }
   ],
   "source": [
    "plt.rcParams[\"figure.figsize\"] = [16,9]\n",
    "xgb_feature.to_frame(name='Coefficients').sort_values(by='Coefficients', ascending=False).plot(kind='bar')\n",
    "plt.title('Importance of XGBOOST features');"
   ]
  },
  {
   "cell_type": "markdown",
   "id": "bf575073",
   "metadata": {},
   "source": [
    "On this graph we see that using XGboost , the room_type is the most important features followed by city and minimum nights."
   ]
  },
  {
   "cell_type": "code",
   "execution_count": null,
   "id": "db9793c8",
   "metadata": {},
   "outputs": [],
   "source": []
  },
  {
   "cell_type": "code",
   "execution_count": null,
   "id": "0a9e222b",
   "metadata": {},
   "outputs": [],
   "source": []
  },
  {
   "cell_type": "markdown",
   "id": "b9c60fc4",
   "metadata": {},
   "source": [
    "#### mls model"
   ]
  },
  {
   "cell_type": "code",
   "execution_count": 87,
   "id": "b6c85b0e",
   "metadata": {},
   "outputs": [],
   "source": [
    "import statsmodels.api as sm"
   ]
  },
  {
   "cell_type": "code",
   "execution_count": 88,
   "id": "21052f4b",
   "metadata": {},
   "outputs": [],
   "source": [
    "X_train_mls = sm.add_constant(X_train)"
   ]
  },
  {
   "cell_type": "code",
   "execution_count": 89,
   "id": "827b1431",
   "metadata": {},
   "outputs": [],
   "source": [
    "model_sm = sm.OLS(y_train, X_train_mls).fit()"
   ]
  },
  {
   "cell_type": "code",
   "execution_count": 90,
   "id": "6b9af2c1",
   "metadata": {},
   "outputs": [
    {
     "data": {
      "text/html": [
       "<table class=\"simpletable\">\n",
       "<caption>OLS Regression Results</caption>\n",
       "<tr>\n",
       "  <th>Dep. Variable:</th>        <td>log_price</td>    <th>  R-squared:         </th>  <td>   0.292</td>  \n",
       "</tr>\n",
       "<tr>\n",
       "  <th>Model:</th>                   <td>OLS</td>       <th>  Adj. R-squared:    </th>  <td>   0.292</td>  \n",
       "</tr>\n",
       "<tr>\n",
       "  <th>Method:</th>             <td>Least Squares</td>  <th>  F-statistic:       </th>  <td>   6511.</td>  \n",
       "</tr>\n",
       "<tr>\n",
       "  <th>Date:</th>             <td>Wed, 23 Feb 2022</td> <th>  Prob (F-statistic):</th>   <td>  0.00</td>   \n",
       "</tr>\n",
       "<tr>\n",
       "  <th>Time:</th>                 <td>12:56:28</td>     <th>  Log-Likelihood:    </th> <td>-1.6440e+05</td>\n",
       "</tr>\n",
       "<tr>\n",
       "  <th>No. Observations:</th>      <td>157813</td>      <th>  AIC:               </th>  <td>3.288e+05</td> \n",
       "</tr>\n",
       "<tr>\n",
       "  <th>Df Residuals:</th>          <td>157802</td>      <th>  BIC:               </th>  <td>3.289e+05</td> \n",
       "</tr>\n",
       "<tr>\n",
       "  <th>Df Model:</th>              <td>    10</td>      <th>                     </th>      <td> </td>     \n",
       "</tr>\n",
       "<tr>\n",
       "  <th>Covariance Type:</th>      <td>nonrobust</td>    <th>                     </th>      <td> </td>     \n",
       "</tr>\n",
       "</table>\n",
       "<table class=\"simpletable\">\n",
       "<tr>\n",
       "                 <td></td>                   <th>coef</th>     <th>std err</th>      <th>t</th>      <th>P>|t|</th>  <th>[0.025</th>    <th>0.975]</th>  \n",
       "</tr>\n",
       "<tr>\n",
       "  <th>const</th>                          <td>    5.3126</td> <td>    0.019</td> <td>  275.276</td> <td> 0.000</td> <td>    5.275</td> <td>    5.350</td>\n",
       "</tr>\n",
       "<tr>\n",
       "  <th>latitude</th>                       <td>   -0.0097</td> <td>    0.000</td> <td>  -25.230</td> <td> 0.000</td> <td>   -0.010</td> <td>   -0.009</td>\n",
       "</tr>\n",
       "<tr>\n",
       "  <th>longitude</th>                      <td>   -0.0009</td> <td> 9.02e-05</td> <td>   -9.578</td> <td> 0.000</td> <td>   -0.001</td> <td>   -0.001</td>\n",
       "</tr>\n",
       "<tr>\n",
       "  <th>minimum_nights</th>                 <td>-1.376e-09</td> <td> 6.86e-09</td> <td>   -0.201</td> <td> 0.841</td> <td>-1.48e-08</td> <td> 1.21e-08</td>\n",
       "</tr>\n",
       "<tr>\n",
       "  <th>number_of_reviews</th>              <td>   -0.0018</td> <td> 2.75e-05</td> <td>  -64.801</td> <td> 0.000</td> <td>   -0.002</td> <td>   -0.002</td>\n",
       "</tr>\n",
       "<tr>\n",
       "  <th>calculated_host_listings_count</th> <td>   -0.0002</td> <td> 3.53e-05</td> <td>   -6.854</td> <td> 0.000</td> <td>   -0.000</td> <td>   -0.000</td>\n",
       "</tr>\n",
       "<tr>\n",
       "  <th>availability_365</th>               <td>    0.0004</td> <td> 1.27e-05</td> <td>   32.640</td> <td> 0.000</td> <td>    0.000</td> <td>    0.000</td>\n",
       "</tr>\n",
       "<tr>\n",
       "  <th>host_name_cat</th>                  <td> -3.06e-07</td> <td> 2.01e-07</td> <td>   -1.525</td> <td> 0.127</td> <td>-6.99e-07</td> <td> 8.72e-08</td>\n",
       "</tr>\n",
       "<tr>\n",
       "  <th>neighbourhood_cat</th>              <td>-1.644e-05</td> <td> 4.27e-06</td> <td>   -3.852</td> <td> 0.000</td> <td>-2.48e-05</td> <td>-8.08e-06</td>\n",
       "</tr>\n",
       "<tr>\n",
       "  <th>room_type_cat</th>                  <td>   -0.4244</td> <td>    0.002</td> <td> -230.203</td> <td> 0.000</td> <td>   -0.428</td> <td>   -0.421</td>\n",
       "</tr>\n",
       "<tr>\n",
       "  <th>city_cat</th>                       <td>    0.0091</td> <td>    0.000</td> <td>   29.476</td> <td> 0.000</td> <td>    0.008</td> <td>    0.010</td>\n",
       "</tr>\n",
       "</table>\n",
       "<table class=\"simpletable\">\n",
       "<tr>\n",
       "  <th>Omnibus:</th>       <td>24915.269</td> <th>  Durbin-Watson:     </th> <td>   1.996</td> \n",
       "</tr>\n",
       "<tr>\n",
       "  <th>Prob(Omnibus):</th>  <td> 0.000</td>   <th>  Jarque-Bera (JB):  </th> <td>49057.936</td>\n",
       "</tr>\n",
       "<tr>\n",
       "  <th>Skew:</th>           <td> 0.976</td>   <th>  Prob(JB):          </th> <td>    0.00</td> \n",
       "</tr>\n",
       "<tr>\n",
       "  <th>Kurtosis:</th>       <td> 4.911</td>   <th>  Cond. No.          </th> <td>2.81e+06</td> \n",
       "</tr>\n",
       "</table><br/><br/>Notes:<br/>[1] Standard Errors assume that the covariance matrix of the errors is correctly specified.<br/>[2] The condition number is large, 2.81e+06. This might indicate that there are<br/>strong multicollinearity or other numerical problems."
      ],
      "text/plain": [
       "<class 'statsmodels.iolib.summary.Summary'>\n",
       "\"\"\"\n",
       "                            OLS Regression Results                            \n",
       "==============================================================================\n",
       "Dep. Variable:              log_price   R-squared:                       0.292\n",
       "Model:                            OLS   Adj. R-squared:                  0.292\n",
       "Method:                 Least Squares   F-statistic:                     6511.\n",
       "Date:                Wed, 23 Feb 2022   Prob (F-statistic):               0.00\n",
       "Time:                        12:56:28   Log-Likelihood:            -1.6440e+05\n",
       "No. Observations:              157813   AIC:                         3.288e+05\n",
       "Df Residuals:                  157802   BIC:                         3.289e+05\n",
       "Df Model:                          10                                         \n",
       "Covariance Type:            nonrobust                                         \n",
       "==================================================================================================\n",
       "                                     coef    std err          t      P>|t|      [0.025      0.975]\n",
       "--------------------------------------------------------------------------------------------------\n",
       "const                              5.3126      0.019    275.276      0.000       5.275       5.350\n",
       "latitude                          -0.0097      0.000    -25.230      0.000      -0.010      -0.009\n",
       "longitude                         -0.0009   9.02e-05     -9.578      0.000      -0.001      -0.001\n",
       "minimum_nights                 -1.376e-09   6.86e-09     -0.201      0.841   -1.48e-08    1.21e-08\n",
       "number_of_reviews                 -0.0018   2.75e-05    -64.801      0.000      -0.002      -0.002\n",
       "calculated_host_listings_count    -0.0002   3.53e-05     -6.854      0.000      -0.000      -0.000\n",
       "availability_365                   0.0004   1.27e-05     32.640      0.000       0.000       0.000\n",
       "host_name_cat                   -3.06e-07   2.01e-07     -1.525      0.127   -6.99e-07    8.72e-08\n",
       "neighbourhood_cat              -1.644e-05   4.27e-06     -3.852      0.000   -2.48e-05   -8.08e-06\n",
       "room_type_cat                     -0.4244      0.002   -230.203      0.000      -0.428      -0.421\n",
       "city_cat                           0.0091      0.000     29.476      0.000       0.008       0.010\n",
       "==============================================================================\n",
       "Omnibus:                    24915.269   Durbin-Watson:                   1.996\n",
       "Prob(Omnibus):                  0.000   Jarque-Bera (JB):            49057.936\n",
       "Skew:                           0.976   Prob(JB):                         0.00\n",
       "Kurtosis:                       4.911   Cond. No.                     2.81e+06\n",
       "==============================================================================\n",
       "\n",
       "Notes:\n",
       "[1] Standard Errors assume that the covariance matrix of the errors is correctly specified.\n",
       "[2] The condition number is large, 2.81e+06. This might indicate that there are\n",
       "strong multicollinearity or other numerical problems.\n",
       "\"\"\""
      ]
     },
     "execution_count": 90,
     "metadata": {},
     "output_type": "execute_result"
    }
   ],
   "source": [
    "model_sm.summary()"
   ]
  },
  {
   "cell_type": "code",
   "execution_count": null,
   "id": "c4f4894a",
   "metadata": {},
   "outputs": [],
   "source": []
  },
  {
   "cell_type": "markdown",
   "id": "a585f74d",
   "metadata": {},
   "source": [
    "### Evaluating "
   ]
  },
  {
   "cell_type": "markdown",
   "id": "b46c3f23",
   "metadata": {},
   "source": [
    "Putting the training and testing RMSE in a table so we can directly compare them all:\n",
    "\n",
    "|           Model          | Training RMSE | Testing RMSE |\n",
    "|:------------------------:|:-------------:|:------------:|\n",
    "|     Linear Regression    |    287.6      |     290.5    |\n",
    "|       Decision Tree      |     5.1       |     320.6    |\n",
    "|       Random Forest      |     129.6     |     234.2    |\n",
    "|         XGBoost          |    211.13     |    236.07    |\n"
   ]
  },
  {
   "cell_type": "markdown",
   "id": "ad4102fe",
   "metadata": {},
   "source": [
    "Putting the training and testing score in a table so we can directly compare them all:\n",
    "\n",
    "|           Model          | Training score| Testing score|\n",
    "|:------------------------:|:-------------:|:------------:|\n",
    "|     Linear Regression    |     0.292     |     0.291    |\n",
    "|       Decision Tree      |     0.99      |     0.17     |\n",
    "|       Random Forest      |     0.94      |     0.57     |\n",
    "|         XGBoost          |    0.69       |    0.58      |\n"
   ]
  },
  {
   "cell_type": "markdown",
   "id": "2fed8475",
   "metadata": {},
   "source": [
    "Looking at this score we are going to use the XGBOOST model because it has the lowest variance between the trainning and the test if even if it is overfit but it is 40% increase in accuray with the base line of the linear regression."
   ]
  },
  {
   "cell_type": "code",
   "execution_count": null,
   "id": "c4f4f11d",
   "metadata": {},
   "outputs": [],
   "source": []
  },
  {
   "cell_type": "code",
   "execution_count": null,
   "id": "36de6fe5",
   "metadata": {},
   "outputs": [],
   "source": []
  },
  {
   "cell_type": "code",
   "execution_count": null,
   "id": "289f86cd",
   "metadata": {},
   "outputs": [],
   "source": []
  },
  {
   "cell_type": "code",
   "execution_count": null,
   "id": "b1877da9",
   "metadata": {},
   "outputs": [],
   "source": []
  }
 ],
 "metadata": {
  "kernelspec": {
   "display_name": "Python [conda env:dsirfx_py38]",
   "language": "python",
   "name": "conda-env-dsirfx_py38-py"
  },
  "language_info": {
   "codemirror_mode": {
    "name": "ipython",
    "version": 3
   },
   "file_extension": ".py",
   "mimetype": "text/x-python",
   "name": "python",
   "nbconvert_exporter": "python",
   "pygments_lexer": "ipython3",
   "version": "3.8.8"
  }
 },
 "nbformat": 4,
 "nbformat_minor": 5
}
