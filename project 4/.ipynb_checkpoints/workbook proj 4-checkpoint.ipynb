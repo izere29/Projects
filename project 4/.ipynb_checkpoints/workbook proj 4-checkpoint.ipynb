{
 "cells": [
  {
   "cell_type": "markdown",
   "id": "8646238d-8fd3-4d13-9ea3-2ec989c64ca4",
   "metadata": {},
   "source": [
    "## Problem Statement\n",
    "What should the TFI company take into consideration when investing on a new restaurant that is highly profitable."
   ]
  },
  {
   "cell_type": "markdown",
   "id": "49c14bdb",
   "metadata": {},
   "source": [
    "### _Data "
   ]
  },
  {
   "cell_type": "markdown",
   "id": "415da071-981b-49c2-98e1-906478617d5d",
   "metadata": {},
   "source": [
    "### _Imports_"
   ]
  },
  {
   "cell_type": "code",
   "execution_count": 1,
   "id": "5160bafb-736e-40c0-a2a8-79542988353d",
   "metadata": {},
   "outputs": [],
   "source": [
    "import pandas as pd\n",
    "import matplotlib.pyplot as plt\n",
    "import seaborn as sns\n",
    "import numpy as np \n",
    "\n",
    "from sklearn.model_selection import train_test_split, GridSearchCV\n",
    "from sklearn.linear_model import LinearRegression, Lasso, Ridge,ElasticNetCV, ElasticNet\n",
    "from sklearn.ensemble import RandomForestRegressor\n",
    "from sklearn import preprocessing\n",
    "from sklearn.metrics import r2_score,explained_variance_score,max_error,mean_absolute_error,mean_squared_error,confusion_matrix,mean_absolute_percentage_error,mean_squared_log_error\n",
    "from sklearn.pipeline import Pipeline\n"
   ]
  },
  {
   "cell_type": "code",
   "execution_count": 2,
   "id": "dec4ef5e-2aca-425a-b6de-9a487ec419f2",
   "metadata": {},
   "outputs": [],
   "source": [
    "train = pd.read_csv('./data/train.csv')"
   ]
  },
  {
   "cell_type": "code",
   "execution_count": 3,
   "id": "5ef9887d-11d9-46e0-8312-ecd94c54356d",
   "metadata": {},
   "outputs": [],
   "source": [
    "test = pd.read_csv('./data/test.csv')"
   ]
  },
  {
   "cell_type": "markdown",
   "id": "9ed819a5-7a79-42f0-80a6-77c645d87b57",
   "metadata": {},
   "source": [
    "### _Reading the Data_"
   ]
  },
  {
   "cell_type": "code",
   "execution_count": 4,
   "id": "8c5e614a-a51d-4682-abc2-a9527a47ab8c",
   "metadata": {},
   "outputs": [
    {
     "data": {
      "text/html": [
       "<div>\n",
       "<style scoped>\n",
       "    .dataframe tbody tr th:only-of-type {\n",
       "        vertical-align: middle;\n",
       "    }\n",
       "\n",
       "    .dataframe tbody tr th {\n",
       "        vertical-align: top;\n",
       "    }\n",
       "\n",
       "    .dataframe thead th {\n",
       "        text-align: right;\n",
       "    }\n",
       "</style>\n",
       "<table border=\"1\" class=\"dataframe\">\n",
       "  <thead>\n",
       "    <tr style=\"text-align: right;\">\n",
       "      <th></th>\n",
       "      <th>Id</th>\n",
       "      <th>Open Date</th>\n",
       "      <th>City</th>\n",
       "      <th>City Group</th>\n",
       "      <th>Type</th>\n",
       "      <th>P1</th>\n",
       "      <th>P2</th>\n",
       "      <th>P3</th>\n",
       "      <th>P4</th>\n",
       "      <th>P5</th>\n",
       "      <th>...</th>\n",
       "      <th>P29</th>\n",
       "      <th>P30</th>\n",
       "      <th>P31</th>\n",
       "      <th>P32</th>\n",
       "      <th>P33</th>\n",
       "      <th>P34</th>\n",
       "      <th>P35</th>\n",
       "      <th>P36</th>\n",
       "      <th>P37</th>\n",
       "      <th>revenue</th>\n",
       "    </tr>\n",
       "  </thead>\n",
       "  <tbody>\n",
       "    <tr>\n",
       "      <th>0</th>\n",
       "      <td>0</td>\n",
       "      <td>07/17/1999</td>\n",
       "      <td>İstanbul</td>\n",
       "      <td>Big Cities</td>\n",
       "      <td>IL</td>\n",
       "      <td>4</td>\n",
       "      <td>5.0</td>\n",
       "      <td>4.0</td>\n",
       "      <td>4.0</td>\n",
       "      <td>2</td>\n",
       "      <td>...</td>\n",
       "      <td>3.0</td>\n",
       "      <td>5</td>\n",
       "      <td>3</td>\n",
       "      <td>4</td>\n",
       "      <td>5</td>\n",
       "      <td>5</td>\n",
       "      <td>4</td>\n",
       "      <td>3</td>\n",
       "      <td>4</td>\n",
       "      <td>5653753.0</td>\n",
       "    </tr>\n",
       "    <tr>\n",
       "      <th>1</th>\n",
       "      <td>1</td>\n",
       "      <td>02/14/2008</td>\n",
       "      <td>Ankara</td>\n",
       "      <td>Big Cities</td>\n",
       "      <td>FC</td>\n",
       "      <td>4</td>\n",
       "      <td>5.0</td>\n",
       "      <td>4.0</td>\n",
       "      <td>4.0</td>\n",
       "      <td>1</td>\n",
       "      <td>...</td>\n",
       "      <td>3.0</td>\n",
       "      <td>0</td>\n",
       "      <td>0</td>\n",
       "      <td>0</td>\n",
       "      <td>0</td>\n",
       "      <td>0</td>\n",
       "      <td>0</td>\n",
       "      <td>0</td>\n",
       "      <td>0</td>\n",
       "      <td>6923131.0</td>\n",
       "    </tr>\n",
       "    <tr>\n",
       "      <th>2</th>\n",
       "      <td>2</td>\n",
       "      <td>03/09/2013</td>\n",
       "      <td>Diyarbakır</td>\n",
       "      <td>Other</td>\n",
       "      <td>IL</td>\n",
       "      <td>2</td>\n",
       "      <td>4.0</td>\n",
       "      <td>2.0</td>\n",
       "      <td>5.0</td>\n",
       "      <td>2</td>\n",
       "      <td>...</td>\n",
       "      <td>3.0</td>\n",
       "      <td>0</td>\n",
       "      <td>0</td>\n",
       "      <td>0</td>\n",
       "      <td>0</td>\n",
       "      <td>0</td>\n",
       "      <td>0</td>\n",
       "      <td>0</td>\n",
       "      <td>0</td>\n",
       "      <td>2055379.0</td>\n",
       "    </tr>\n",
       "    <tr>\n",
       "      <th>3</th>\n",
       "      <td>3</td>\n",
       "      <td>02/02/2012</td>\n",
       "      <td>Tokat</td>\n",
       "      <td>Other</td>\n",
       "      <td>IL</td>\n",
       "      <td>6</td>\n",
       "      <td>4.5</td>\n",
       "      <td>6.0</td>\n",
       "      <td>6.0</td>\n",
       "      <td>4</td>\n",
       "      <td>...</td>\n",
       "      <td>7.5</td>\n",
       "      <td>25</td>\n",
       "      <td>12</td>\n",
       "      <td>10</td>\n",
       "      <td>6</td>\n",
       "      <td>18</td>\n",
       "      <td>12</td>\n",
       "      <td>12</td>\n",
       "      <td>6</td>\n",
       "      <td>2675511.0</td>\n",
       "    </tr>\n",
       "    <tr>\n",
       "      <th>4</th>\n",
       "      <td>4</td>\n",
       "      <td>05/09/2009</td>\n",
       "      <td>Gaziantep</td>\n",
       "      <td>Other</td>\n",
       "      <td>IL</td>\n",
       "      <td>3</td>\n",
       "      <td>4.0</td>\n",
       "      <td>3.0</td>\n",
       "      <td>4.0</td>\n",
       "      <td>2</td>\n",
       "      <td>...</td>\n",
       "      <td>3.0</td>\n",
       "      <td>5</td>\n",
       "      <td>1</td>\n",
       "      <td>3</td>\n",
       "      <td>2</td>\n",
       "      <td>3</td>\n",
       "      <td>4</td>\n",
       "      <td>3</td>\n",
       "      <td>3</td>\n",
       "      <td>4316715.0</td>\n",
       "    </tr>\n",
       "  </tbody>\n",
       "</table>\n",
       "<p>5 rows × 43 columns</p>\n",
       "</div>"
      ],
      "text/plain": [
       "   Id   Open Date        City  City Group Type  P1   P2   P3   P4  P5  ...  \\\n",
       "0   0  07/17/1999    İstanbul  Big Cities   IL   4  5.0  4.0  4.0   2  ...   \n",
       "1   1  02/14/2008      Ankara  Big Cities   FC   4  5.0  4.0  4.0   1  ...   \n",
       "2   2  03/09/2013  Diyarbakır       Other   IL   2  4.0  2.0  5.0   2  ...   \n",
       "3   3  02/02/2012       Tokat       Other   IL   6  4.5  6.0  6.0   4  ...   \n",
       "4   4  05/09/2009   Gaziantep       Other   IL   3  4.0  3.0  4.0   2  ...   \n",
       "\n",
       "   P29  P30  P31  P32  P33  P34  P35  P36  P37    revenue  \n",
       "0  3.0    5    3    4    5    5    4    3    4  5653753.0  \n",
       "1  3.0    0    0    0    0    0    0    0    0  6923131.0  \n",
       "2  3.0    0    0    0    0    0    0    0    0  2055379.0  \n",
       "3  7.5   25   12   10    6   18   12   12    6  2675511.0  \n",
       "4  3.0    5    1    3    2    3    4    3    3  4316715.0  \n",
       "\n",
       "[5 rows x 43 columns]"
      ]
     },
     "execution_count": 4,
     "metadata": {},
     "output_type": "execute_result"
    }
   ],
   "source": [
    "train.head()"
   ]
  },
  {
   "cell_type": "code",
   "execution_count": 5,
   "id": "a259418b-929b-44a4-80af-8cf9d148970c",
   "metadata": {},
   "outputs": [
    {
     "data": {
      "text/html": [
       "<div>\n",
       "<style scoped>\n",
       "    .dataframe tbody tr th:only-of-type {\n",
       "        vertical-align: middle;\n",
       "    }\n",
       "\n",
       "    .dataframe tbody tr th {\n",
       "        vertical-align: top;\n",
       "    }\n",
       "\n",
       "    .dataframe thead th {\n",
       "        text-align: right;\n",
       "    }\n",
       "</style>\n",
       "<table border=\"1\" class=\"dataframe\">\n",
       "  <thead>\n",
       "    <tr style=\"text-align: right;\">\n",
       "      <th></th>\n",
       "      <th>Id</th>\n",
       "      <th>Open Date</th>\n",
       "      <th>City</th>\n",
       "      <th>City Group</th>\n",
       "      <th>Type</th>\n",
       "      <th>P1</th>\n",
       "      <th>P2</th>\n",
       "      <th>P3</th>\n",
       "      <th>P4</th>\n",
       "      <th>P5</th>\n",
       "      <th>...</th>\n",
       "      <th>P28</th>\n",
       "      <th>P29</th>\n",
       "      <th>P30</th>\n",
       "      <th>P31</th>\n",
       "      <th>P32</th>\n",
       "      <th>P33</th>\n",
       "      <th>P34</th>\n",
       "      <th>P35</th>\n",
       "      <th>P36</th>\n",
       "      <th>P37</th>\n",
       "    </tr>\n",
       "  </thead>\n",
       "  <tbody>\n",
       "    <tr>\n",
       "      <th>0</th>\n",
       "      <td>0</td>\n",
       "      <td>01/22/2011</td>\n",
       "      <td>Niğde</td>\n",
       "      <td>Other</td>\n",
       "      <td>FC</td>\n",
       "      <td>1</td>\n",
       "      <td>4.0</td>\n",
       "      <td>4.0</td>\n",
       "      <td>4.0</td>\n",
       "      <td>1</td>\n",
       "      <td>...</td>\n",
       "      <td>2.0</td>\n",
       "      <td>3.0</td>\n",
       "      <td>0</td>\n",
       "      <td>0</td>\n",
       "      <td>0</td>\n",
       "      <td>0</td>\n",
       "      <td>0</td>\n",
       "      <td>0</td>\n",
       "      <td>0</td>\n",
       "      <td>0</td>\n",
       "    </tr>\n",
       "    <tr>\n",
       "      <th>1</th>\n",
       "      <td>1</td>\n",
       "      <td>03/18/2011</td>\n",
       "      <td>Konya</td>\n",
       "      <td>Other</td>\n",
       "      <td>IL</td>\n",
       "      <td>3</td>\n",
       "      <td>4.0</td>\n",
       "      <td>4.0</td>\n",
       "      <td>4.0</td>\n",
       "      <td>2</td>\n",
       "      <td>...</td>\n",
       "      <td>1.0</td>\n",
       "      <td>3.0</td>\n",
       "      <td>0</td>\n",
       "      <td>0</td>\n",
       "      <td>0</td>\n",
       "      <td>0</td>\n",
       "      <td>0</td>\n",
       "      <td>0</td>\n",
       "      <td>0</td>\n",
       "      <td>0</td>\n",
       "    </tr>\n",
       "    <tr>\n",
       "      <th>2</th>\n",
       "      <td>2</td>\n",
       "      <td>10/30/2013</td>\n",
       "      <td>Ankara</td>\n",
       "      <td>Big Cities</td>\n",
       "      <td>FC</td>\n",
       "      <td>3</td>\n",
       "      <td>4.0</td>\n",
       "      <td>4.0</td>\n",
       "      <td>4.0</td>\n",
       "      <td>2</td>\n",
       "      <td>...</td>\n",
       "      <td>2.0</td>\n",
       "      <td>3.0</td>\n",
       "      <td>0</td>\n",
       "      <td>0</td>\n",
       "      <td>0</td>\n",
       "      <td>0</td>\n",
       "      <td>0</td>\n",
       "      <td>0</td>\n",
       "      <td>0</td>\n",
       "      <td>0</td>\n",
       "    </tr>\n",
       "    <tr>\n",
       "      <th>3</th>\n",
       "      <td>3</td>\n",
       "      <td>05/06/2013</td>\n",
       "      <td>Kocaeli</td>\n",
       "      <td>Other</td>\n",
       "      <td>IL</td>\n",
       "      <td>2</td>\n",
       "      <td>4.0</td>\n",
       "      <td>4.0</td>\n",
       "      <td>4.0</td>\n",
       "      <td>2</td>\n",
       "      <td>...</td>\n",
       "      <td>2.0</td>\n",
       "      <td>3.0</td>\n",
       "      <td>0</td>\n",
       "      <td>4</td>\n",
       "      <td>0</td>\n",
       "      <td>0</td>\n",
       "      <td>0</td>\n",
       "      <td>0</td>\n",
       "      <td>0</td>\n",
       "      <td>0</td>\n",
       "    </tr>\n",
       "    <tr>\n",
       "      <th>4</th>\n",
       "      <td>4</td>\n",
       "      <td>07/31/2013</td>\n",
       "      <td>Afyonkarahisar</td>\n",
       "      <td>Other</td>\n",
       "      <td>FC</td>\n",
       "      <td>2</td>\n",
       "      <td>4.0</td>\n",
       "      <td>4.0</td>\n",
       "      <td>4.0</td>\n",
       "      <td>1</td>\n",
       "      <td>...</td>\n",
       "      <td>5.0</td>\n",
       "      <td>3.0</td>\n",
       "      <td>0</td>\n",
       "      <td>0</td>\n",
       "      <td>0</td>\n",
       "      <td>0</td>\n",
       "      <td>0</td>\n",
       "      <td>0</td>\n",
       "      <td>0</td>\n",
       "      <td>0</td>\n",
       "    </tr>\n",
       "  </tbody>\n",
       "</table>\n",
       "<p>5 rows × 42 columns</p>\n",
       "</div>"
      ],
      "text/plain": [
       "   Id   Open Date            City  City Group Type  P1   P2   P3   P4  P5  \\\n",
       "0   0  01/22/2011           Niğde       Other   FC   1  4.0  4.0  4.0   1   \n",
       "1   1  03/18/2011           Konya       Other   IL   3  4.0  4.0  4.0   2   \n",
       "2   2  10/30/2013          Ankara  Big Cities   FC   3  4.0  4.0  4.0   2   \n",
       "3   3  05/06/2013         Kocaeli       Other   IL   2  4.0  4.0  4.0   2   \n",
       "4   4  07/31/2013  Afyonkarahisar       Other   FC   2  4.0  4.0  4.0   1   \n",
       "\n",
       "   ...  P28  P29  P30  P31  P32  P33  P34  P35  P36  P37  \n",
       "0  ...  2.0  3.0    0    0    0    0    0    0    0    0  \n",
       "1  ...  1.0  3.0    0    0    0    0    0    0    0    0  \n",
       "2  ...  2.0  3.0    0    0    0    0    0    0    0    0  \n",
       "3  ...  2.0  3.0    0    4    0    0    0    0    0    0  \n",
       "4  ...  5.0  3.0    0    0    0    0    0    0    0    0  \n",
       "\n",
       "[5 rows x 42 columns]"
      ]
     },
     "execution_count": 5,
     "metadata": {},
     "output_type": "execute_result"
    }
   ],
   "source": [
    "test.head()"
   ]
  },
  {
   "cell_type": "code",
   "execution_count": 6,
   "id": "707e8d19-e078-41bd-8930-5682142acb02",
   "metadata": {},
   "outputs": [
    {
     "data": {
      "text/plain": [
       "Id              int64\n",
       "Open Date      object\n",
       "City           object\n",
       "City Group     object\n",
       "Type           object\n",
       "P1              int64\n",
       "P2            float64\n",
       "P3            float64\n",
       "P4            float64\n",
       "P5              int64\n",
       "P6              int64\n",
       "P7              int64\n",
       "P8              int64\n",
       "P9              int64\n",
       "P10             int64\n",
       "P11             int64\n",
       "P12             int64\n",
       "P13           float64\n",
       "P14             int64\n",
       "P15             int64\n",
       "P16             int64\n",
       "P17             int64\n",
       "P18             int64\n",
       "P19             int64\n",
       "P20             int64\n",
       "P21             int64\n",
       "P22             int64\n",
       "P23             int64\n",
       "P24             int64\n",
       "P25             int64\n",
       "P26           float64\n",
       "P27           float64\n",
       "P28           float64\n",
       "P29           float64\n",
       "P30             int64\n",
       "P31             int64\n",
       "P32             int64\n",
       "P33             int64\n",
       "P34             int64\n",
       "P35             int64\n",
       "P36             int64\n",
       "P37             int64\n",
       "revenue       float64\n",
       "dtype: object"
      ]
     },
     "execution_count": 6,
     "metadata": {},
     "output_type": "execute_result"
    }
   ],
   "source": [
    "train.dtypes"
   ]
  },
  {
   "cell_type": "code",
   "execution_count": 7,
   "id": "34bd0bfe-469e-4699-b30c-4d27ea3386e6",
   "metadata": {},
   "outputs": [
    {
     "data": {
      "text/plain": [
       "count    1.370000e+02\n",
       "mean     4.453533e+06\n",
       "std      2.576072e+06\n",
       "min      1.149870e+06\n",
       "25%      2.999068e+06\n",
       "50%      3.939804e+06\n",
       "75%      5.166635e+06\n",
       "max      1.969694e+07\n",
       "Name: revenue, dtype: float64"
      ]
     },
     "execution_count": 7,
     "metadata": {},
     "output_type": "execute_result"
    }
   ],
   "source": [
    "train['revenue'].describe()"
   ]
  },
  {
   "cell_type": "code",
   "execution_count": 8,
   "id": "ffc9446d-4213-4583-9368-45e178847a3a",
   "metadata": {},
   "outputs": [
    {
     "data": {
      "text/plain": [
       "(100000, 42)"
      ]
     },
     "execution_count": 8,
     "metadata": {},
     "output_type": "execute_result"
    }
   ],
   "source": [
    "test.shape"
   ]
  },
  {
   "cell_type": "code",
   "execution_count": 9,
   "id": "1f42d8a3-f029-4434-9e3f-75a55fb2662c",
   "metadata": {},
   "outputs": [
    {
     "data": {
      "text/html": [
       "<div>\n",
       "<style scoped>\n",
       "    .dataframe tbody tr th:only-of-type {\n",
       "        vertical-align: middle;\n",
       "    }\n",
       "\n",
       "    .dataframe tbody tr th {\n",
       "        vertical-align: top;\n",
       "    }\n",
       "\n",
       "    .dataframe thead th {\n",
       "        text-align: right;\n",
       "    }\n",
       "</style>\n",
       "<table border=\"1\" class=\"dataframe\">\n",
       "  <thead>\n",
       "    <tr style=\"text-align: right;\">\n",
       "      <th></th>\n",
       "      <th>Id</th>\n",
       "      <th>Open Date</th>\n",
       "      <th>City</th>\n",
       "      <th>City Group</th>\n",
       "      <th>Type</th>\n",
       "      <th>P1</th>\n",
       "      <th>P2</th>\n",
       "      <th>P3</th>\n",
       "      <th>P4</th>\n",
       "      <th>P5</th>\n",
       "      <th>...</th>\n",
       "      <th>P28</th>\n",
       "      <th>P29</th>\n",
       "      <th>P30</th>\n",
       "      <th>P31</th>\n",
       "      <th>P32</th>\n",
       "      <th>P33</th>\n",
       "      <th>P34</th>\n",
       "      <th>P35</th>\n",
       "      <th>P36</th>\n",
       "      <th>P37</th>\n",
       "    </tr>\n",
       "  </thead>\n",
       "  <tbody>\n",
       "    <tr>\n",
       "      <th>0</th>\n",
       "      <td>0</td>\n",
       "      <td>01/22/2011</td>\n",
       "      <td>Niğde</td>\n",
       "      <td>Other</td>\n",
       "      <td>FC</td>\n",
       "      <td>1</td>\n",
       "      <td>4.0</td>\n",
       "      <td>4.0</td>\n",
       "      <td>4.0</td>\n",
       "      <td>1</td>\n",
       "      <td>...</td>\n",
       "      <td>2.0</td>\n",
       "      <td>3.0</td>\n",
       "      <td>0</td>\n",
       "      <td>0</td>\n",
       "      <td>0</td>\n",
       "      <td>0</td>\n",
       "      <td>0</td>\n",
       "      <td>0</td>\n",
       "      <td>0</td>\n",
       "      <td>0</td>\n",
       "    </tr>\n",
       "    <tr>\n",
       "      <th>1</th>\n",
       "      <td>1</td>\n",
       "      <td>03/18/2011</td>\n",
       "      <td>Konya</td>\n",
       "      <td>Other</td>\n",
       "      <td>IL</td>\n",
       "      <td>3</td>\n",
       "      <td>4.0</td>\n",
       "      <td>4.0</td>\n",
       "      <td>4.0</td>\n",
       "      <td>2</td>\n",
       "      <td>...</td>\n",
       "      <td>1.0</td>\n",
       "      <td>3.0</td>\n",
       "      <td>0</td>\n",
       "      <td>0</td>\n",
       "      <td>0</td>\n",
       "      <td>0</td>\n",
       "      <td>0</td>\n",
       "      <td>0</td>\n",
       "      <td>0</td>\n",
       "      <td>0</td>\n",
       "    </tr>\n",
       "    <tr>\n",
       "      <th>2</th>\n",
       "      <td>2</td>\n",
       "      <td>10/30/2013</td>\n",
       "      <td>Ankara</td>\n",
       "      <td>Big Cities</td>\n",
       "      <td>FC</td>\n",
       "      <td>3</td>\n",
       "      <td>4.0</td>\n",
       "      <td>4.0</td>\n",
       "      <td>4.0</td>\n",
       "      <td>2</td>\n",
       "      <td>...</td>\n",
       "      <td>2.0</td>\n",
       "      <td>3.0</td>\n",
       "      <td>0</td>\n",
       "      <td>0</td>\n",
       "      <td>0</td>\n",
       "      <td>0</td>\n",
       "      <td>0</td>\n",
       "      <td>0</td>\n",
       "      <td>0</td>\n",
       "      <td>0</td>\n",
       "    </tr>\n",
       "    <tr>\n",
       "      <th>3</th>\n",
       "      <td>3</td>\n",
       "      <td>05/06/2013</td>\n",
       "      <td>Kocaeli</td>\n",
       "      <td>Other</td>\n",
       "      <td>IL</td>\n",
       "      <td>2</td>\n",
       "      <td>4.0</td>\n",
       "      <td>4.0</td>\n",
       "      <td>4.0</td>\n",
       "      <td>2</td>\n",
       "      <td>...</td>\n",
       "      <td>2.0</td>\n",
       "      <td>3.0</td>\n",
       "      <td>0</td>\n",
       "      <td>4</td>\n",
       "      <td>0</td>\n",
       "      <td>0</td>\n",
       "      <td>0</td>\n",
       "      <td>0</td>\n",
       "      <td>0</td>\n",
       "      <td>0</td>\n",
       "    </tr>\n",
       "    <tr>\n",
       "      <th>4</th>\n",
       "      <td>4</td>\n",
       "      <td>07/31/2013</td>\n",
       "      <td>Afyonkarahisar</td>\n",
       "      <td>Other</td>\n",
       "      <td>FC</td>\n",
       "      <td>2</td>\n",
       "      <td>4.0</td>\n",
       "      <td>4.0</td>\n",
       "      <td>4.0</td>\n",
       "      <td>1</td>\n",
       "      <td>...</td>\n",
       "      <td>5.0</td>\n",
       "      <td>3.0</td>\n",
       "      <td>0</td>\n",
       "      <td>0</td>\n",
       "      <td>0</td>\n",
       "      <td>0</td>\n",
       "      <td>0</td>\n",
       "      <td>0</td>\n",
       "      <td>0</td>\n",
       "      <td>0</td>\n",
       "    </tr>\n",
       "  </tbody>\n",
       "</table>\n",
       "<p>5 rows × 42 columns</p>\n",
       "</div>"
      ],
      "text/plain": [
       "   Id   Open Date            City  City Group Type  P1   P2   P3   P4  P5  \\\n",
       "0   0  01/22/2011           Niğde       Other   FC   1  4.0  4.0  4.0   1   \n",
       "1   1  03/18/2011           Konya       Other   IL   3  4.0  4.0  4.0   2   \n",
       "2   2  10/30/2013          Ankara  Big Cities   FC   3  4.0  4.0  4.0   2   \n",
       "3   3  05/06/2013         Kocaeli       Other   IL   2  4.0  4.0  4.0   2   \n",
       "4   4  07/31/2013  Afyonkarahisar       Other   FC   2  4.0  4.0  4.0   1   \n",
       "\n",
       "   ...  P28  P29  P30  P31  P32  P33  P34  P35  P36  P37  \n",
       "0  ...  2.0  3.0    0    0    0    0    0    0    0    0  \n",
       "1  ...  1.0  3.0    0    0    0    0    0    0    0    0  \n",
       "2  ...  2.0  3.0    0    0    0    0    0    0    0    0  \n",
       "3  ...  2.0  3.0    0    4    0    0    0    0    0    0  \n",
       "4  ...  5.0  3.0    0    0    0    0    0    0    0    0  \n",
       "\n",
       "[5 rows x 42 columns]"
      ]
     },
     "execution_count": 9,
     "metadata": {},
     "output_type": "execute_result"
    }
   ],
   "source": [
    "test.head()"
   ]
  },
  {
   "cell_type": "markdown",
   "id": "454bbce1-458e-4529-8ce6-0744ae6c9eaf",
   "metadata": {},
   "source": [
    "### _Data Cleaning_"
   ]
  },
  {
   "cell_type": "code",
   "execution_count": 10,
   "id": "3e170a11-45a2-42d2-9a70-0d08cc7eab50",
   "metadata": {},
   "outputs": [],
   "source": [
    "def missing_values(data): # function to check missing value \n",
    "        mis_total = data.isnull().sum()\n",
    "        mis_pct = 100 * data.isnull().sum() / len(data)\n",
    "        mis_value_table = pd.concat([mis_total, mis_pct], axis = 1)\n",
    "        mis_value_table_columns = mis_value_table.rename(columns = {0 : 'No. of Missing Value', 1 : '% of Total Missing Value'})\n",
    "        \n",
    "        mis_value_table_columns = mis_value_table_columns[mis_value_table_columns.iloc[:,1] != 0].sort_values('% of Total Missing Value', ascending = False).round(2)\n",
    "        return mis_value_table_columns"
   ]
  },
  {
   "cell_type": "code",
   "execution_count": 11,
   "id": "b56a3cf7-d48b-4431-8f1e-bace202ae81d",
   "metadata": {},
   "outputs": [
    {
     "data": {
      "text/html": [
       "<div>\n",
       "<style scoped>\n",
       "    .dataframe tbody tr th:only-of-type {\n",
       "        vertical-align: middle;\n",
       "    }\n",
       "\n",
       "    .dataframe tbody tr th {\n",
       "        vertical-align: top;\n",
       "    }\n",
       "\n",
       "    .dataframe thead th {\n",
       "        text-align: right;\n",
       "    }\n",
       "</style>\n",
       "<table border=\"1\" class=\"dataframe\">\n",
       "  <thead>\n",
       "    <tr style=\"text-align: right;\">\n",
       "      <th></th>\n",
       "      <th>No. of Missing Value</th>\n",
       "      <th>% of Total Missing Value</th>\n",
       "    </tr>\n",
       "  </thead>\n",
       "  <tbody>\n",
       "  </tbody>\n",
       "</table>\n",
       "</div>"
      ],
      "text/plain": [
       "Empty DataFrame\n",
       "Columns: [No. of Missing Value, % of Total Missing Value]\n",
       "Index: []"
      ]
     },
     "execution_count": 11,
     "metadata": {},
     "output_type": "execute_result"
    }
   ],
   "source": [
    "missing_values(train)"
   ]
  },
  {
   "cell_type": "code",
   "execution_count": 12,
   "id": "67f1e29a-2337-45bc-8721-b98f001ab4ad",
   "metadata": {},
   "outputs": [
    {
     "data": {
      "text/html": [
       "<div>\n",
       "<style scoped>\n",
       "    .dataframe tbody tr th:only-of-type {\n",
       "        vertical-align: middle;\n",
       "    }\n",
       "\n",
       "    .dataframe tbody tr th {\n",
       "        vertical-align: top;\n",
       "    }\n",
       "\n",
       "    .dataframe thead th {\n",
       "        text-align: right;\n",
       "    }\n",
       "</style>\n",
       "<table border=\"1\" class=\"dataframe\">\n",
       "  <thead>\n",
       "    <tr style=\"text-align: right;\">\n",
       "      <th></th>\n",
       "      <th>No. of Missing Value</th>\n",
       "      <th>% of Total Missing Value</th>\n",
       "    </tr>\n",
       "  </thead>\n",
       "  <tbody>\n",
       "  </tbody>\n",
       "</table>\n",
       "</div>"
      ],
      "text/plain": [
       "Empty DataFrame\n",
       "Columns: [No. of Missing Value, % of Total Missing Value]\n",
       "Index: []"
      ]
     },
     "execution_count": 12,
     "metadata": {},
     "output_type": "execute_result"
    }
   ],
   "source": [
    "missing_values(test) # No missing values on testing data. "
   ]
  },
  {
   "cell_type": "code",
   "execution_count": 13,
   "id": "1749371e-b99d-4466-af72-6f49cec53b89",
   "metadata": {},
   "outputs": [],
   "source": [
    "train['Open Date'] = pd.to_datetime(train['Open Date'])"
   ]
  },
  {
   "cell_type": "code",
   "execution_count": 14,
   "id": "d22e7c2e-8932-4f99-8cd8-b87411a7a370",
   "metadata": {},
   "outputs": [],
   "source": [
    "test['Open Date'] = pd.to_datetime(test['Open Date'])"
   ]
  },
  {
   "cell_type": "code",
   "execution_count": 15,
   "id": "e2f0287c-f812-4cad-82b0-999603cc0a28",
   "metadata": {},
   "outputs": [],
   "source": [
    "train['year'] = train['Open Date'].dt.year"
   ]
  },
  {
   "cell_type": "code",
   "execution_count": 16,
   "id": "4177b8f3-efca-4e9a-aa62-8bde5b6d4ce3",
   "metadata": {},
   "outputs": [],
   "source": [
    "test['year'] = test['Open Date'].dt.year"
   ]
  },
  {
   "cell_type": "code",
   "execution_count": 17,
   "id": "966c816f-fa2f-42b3-b235-6eeb11379960",
   "metadata": {},
   "outputs": [],
   "source": [
    "train['month'] = train['Open Date'].dt.month"
   ]
  },
  {
   "cell_type": "code",
   "execution_count": 18,
   "id": "2bf1749a-f887-45de-9f30-7820c233dee2",
   "metadata": {},
   "outputs": [],
   "source": [
    "test['month'] = test['Open Date'].dt.month"
   ]
  },
  {
   "cell_type": "code",
   "execution_count": 19,
   "id": "44177a69-bb00-4ff2-a87d-13ad770903a4",
   "metadata": {},
   "outputs": [],
   "source": [
    "lookup = {\n",
    "    11: 'Winter',\n",
    "    12: 'Winter',\n",
    "    1: 'Winter',\n",
    "    2: 'Spring',\n",
    "    3: 'Spring',\n",
    "    4: 'Spring',\n",
    "    5: 'Summer',\n",
    "    6: 'Summer',\n",
    "    7: 'Summer',\n",
    "    8: 'Fall',\n",
    "    9: 'Fall',\n",
    "    10: 'Fall'\n",
    "}"
   ]
  },
  {
   "cell_type": "code",
   "execution_count": 20,
   "id": "cd69ee6a-c9de-468d-8787-6b3ad17a8b61",
   "metadata": {},
   "outputs": [],
   "source": [
    "train['season'] = train['Open Date'].apply(lambda x : lookup[x.month])"
   ]
  },
  {
   "cell_type": "code",
   "execution_count": 21,
   "id": "96ccb7c3-f527-4e44-b093-4d65301f55f8",
   "metadata": {},
   "outputs": [],
   "source": [
    "test['season'] = test['Open Date'].apply(lambda x : lookup[x.month])"
   ]
  },
  {
   "cell_type": "code",
   "execution_count": 22,
   "id": "0ca27476-c029-4617-ba84-ad5a782772a8",
   "metadata": {},
   "outputs": [
    {
     "data": {
      "text/plain": [
       "array(['Big Cities', 'Other'], dtype=object)"
      ]
     },
     "execution_count": 22,
     "metadata": {},
     "output_type": "execute_result"
    }
   ],
   "source": [
    "train['City Group'].unique() "
   ]
  },
  {
   "cell_type": "code",
   "execution_count": 23,
   "id": "1df1c57e-6c48-4c19-ab1c-f1af3c884618",
   "metadata": {},
   "outputs": [
    {
     "data": {
      "text/plain": [
       "34"
      ]
     },
     "execution_count": 23,
     "metadata": {},
     "output_type": "execute_result"
    }
   ],
   "source": [
    "train['City'].nunique()"
   ]
  },
  {
   "cell_type": "code",
   "execution_count": 24,
   "id": "7f2910db-f81d-4069-8a49-8d0774753b6b",
   "metadata": {},
   "outputs": [
    {
     "data": {
      "text/plain": [
       "57"
      ]
     },
     "execution_count": 24,
     "metadata": {},
     "output_type": "execute_result"
    }
   ],
   "source": [
    "test['City'].nunique()"
   ]
  },
  {
   "cell_type": "code",
   "execution_count": 25,
   "id": "bb4c5025-fe61-4d33-8322-1c8866f0d07b",
   "metadata": {},
   "outputs": [],
   "source": [
    "train.drop('City', axis = 1, inplace = True)\n",
    "test.drop('City', axis = 1, inplace = True)"
   ]
  },
  {
   "cell_type": "markdown",
   "id": "72ccd992-b312-49c7-b7d8-b4e3d10bd93a",
   "metadata": {},
   "source": [
    "##### _The `test` data has way more unique values than train data. Thus, the `City` feature will be less useful for any model_"
   ]
  },
  {
   "cell_type": "code",
   "execution_count": 26,
   "id": "ed9f2562-609f-4cca-a105-335a50249790",
   "metadata": {},
   "outputs": [
    {
     "data": {
      "text/plain": [
       "array(['IL', 'FC', 'DT'], dtype=object)"
      ]
     },
     "execution_count": 26,
     "metadata": {},
     "output_type": "execute_result"
    }
   ],
   "source": [
    "train['Type'].unique()"
   ]
  },
  {
   "cell_type": "code",
   "execution_count": 27,
   "id": "490ca214-fb92-43df-b3bb-3d3dbb311dec",
   "metadata": {},
   "outputs": [
    {
     "data": {
      "text/plain": [
       "array(['FC', 'IL', 'DT', 'MB'], dtype=object)"
      ]
     },
     "execution_count": 27,
     "metadata": {},
     "output_type": "execute_result"
    }
   ],
   "source": [
    "test['Type'].unique()"
   ]
  },
  {
   "cell_type": "code",
   "execution_count": 28,
   "id": "e9b6be78-54c9-4cb5-8954-360f2d912eb9",
   "metadata": {},
   "outputs": [],
   "source": [
    "test.loc[test['Type'] == 'MB', 'Type'] = 'DT'"
   ]
  },
  {
   "cell_type": "markdown",
   "id": "ebb03e3e-355e-4e25-927c-d53a2dcafb98",
   "metadata": {},
   "source": [
    "##### _In the `train` dataset, there is no such `Type` as `MB` as in the `test` data. The `MB` stands as mobile which similar to the `DT` in nature. we will change `MB` to `DT` for better predictions._"
   ]
  },
  {
   "cell_type": "code",
   "execution_count": 29,
   "id": "79d9b119-b104-425b-81fe-75dd7185ba68",
   "metadata": {},
   "outputs": [
    {
     "data": {
      "text/plain": [
       "count    1.370000e+02\n",
       "mean     4.453533e+06\n",
       "std      2.576072e+06\n",
       "min      1.149870e+06\n",
       "25%      2.999068e+06\n",
       "50%      3.939804e+06\n",
       "75%      5.166635e+06\n",
       "max      1.969694e+07\n",
       "Name: revenue, dtype: float64"
      ]
     },
     "execution_count": 29,
     "metadata": {},
     "output_type": "execute_result"
    }
   ],
   "source": [
    "train['revenue'].describe()"
   ]
  },
  {
   "cell_type": "code",
   "execution_count": 30,
   "id": "f8e1d9eb-4ade-47e0-a2b3-7478b46545e5",
   "metadata": {},
   "outputs": [
    {
     "data": {
      "text/plain": [
       "array(['FC', 'IL', 'DT'], dtype=object)"
      ]
     },
     "execution_count": 30,
     "metadata": {},
     "output_type": "execute_result"
    }
   ],
   "source": [
    "test['Type'].unique()"
   ]
  },
  {
   "cell_type": "code",
   "execution_count": 31,
   "id": "5a1dbbb5-53f5-4c93-852c-f4ecbab5713d",
   "metadata": {},
   "outputs": [],
   "source": [
    "train.drop(columns = ['Id', 'Open Date','month'], inplace = True) # dropping ID and open date in the training data as it will not be necessary. "
   ]
  },
  {
   "cell_type": "code",
   "execution_count": 32,
   "id": "d38a09ac-c584-49ac-afa9-6bf3f02eb621",
   "metadata": {},
   "outputs": [],
   "source": [
    "test.drop(columns = ['Id', 'Open Date','month'], inplace = True) # dropping ID and open date in the testing data"
   ]
  },
  {
   "cell_type": "code",
   "execution_count": 33,
   "id": "9d72efd1-cf72-40ac-8dba-500d6065de04",
   "metadata": {},
   "outputs": [
    {
     "data": {
      "text/html": [
       "<div>\n",
       "<style scoped>\n",
       "    .dataframe tbody tr th:only-of-type {\n",
       "        vertical-align: middle;\n",
       "    }\n",
       "\n",
       "    .dataframe tbody tr th {\n",
       "        vertical-align: top;\n",
       "    }\n",
       "\n",
       "    .dataframe thead th {\n",
       "        text-align: right;\n",
       "    }\n",
       "</style>\n",
       "<table border=\"1\" class=\"dataframe\">\n",
       "  <thead>\n",
       "    <tr style=\"text-align: right;\">\n",
       "      <th></th>\n",
       "      <th>City Group</th>\n",
       "      <th>Type</th>\n",
       "      <th>P1</th>\n",
       "      <th>P2</th>\n",
       "      <th>P3</th>\n",
       "      <th>P4</th>\n",
       "      <th>P5</th>\n",
       "      <th>P6</th>\n",
       "      <th>P7</th>\n",
       "      <th>P8</th>\n",
       "      <th>...</th>\n",
       "      <th>P31</th>\n",
       "      <th>P32</th>\n",
       "      <th>P33</th>\n",
       "      <th>P34</th>\n",
       "      <th>P35</th>\n",
       "      <th>P36</th>\n",
       "      <th>P37</th>\n",
       "      <th>revenue</th>\n",
       "      <th>year</th>\n",
       "      <th>season</th>\n",
       "    </tr>\n",
       "  </thead>\n",
       "  <tbody>\n",
       "    <tr>\n",
       "      <th>0</th>\n",
       "      <td>Big Cities</td>\n",
       "      <td>IL</td>\n",
       "      <td>4</td>\n",
       "      <td>5.0</td>\n",
       "      <td>4.0</td>\n",
       "      <td>4.0</td>\n",
       "      <td>2</td>\n",
       "      <td>2</td>\n",
       "      <td>5</td>\n",
       "      <td>4</td>\n",
       "      <td>...</td>\n",
       "      <td>3</td>\n",
       "      <td>4</td>\n",
       "      <td>5</td>\n",
       "      <td>5</td>\n",
       "      <td>4</td>\n",
       "      <td>3</td>\n",
       "      <td>4</td>\n",
       "      <td>5653753.0</td>\n",
       "      <td>1999</td>\n",
       "      <td>Summer</td>\n",
       "    </tr>\n",
       "    <tr>\n",
       "      <th>1</th>\n",
       "      <td>Big Cities</td>\n",
       "      <td>FC</td>\n",
       "      <td>4</td>\n",
       "      <td>5.0</td>\n",
       "      <td>4.0</td>\n",
       "      <td>4.0</td>\n",
       "      <td>1</td>\n",
       "      <td>2</td>\n",
       "      <td>5</td>\n",
       "      <td>5</td>\n",
       "      <td>...</td>\n",
       "      <td>0</td>\n",
       "      <td>0</td>\n",
       "      <td>0</td>\n",
       "      <td>0</td>\n",
       "      <td>0</td>\n",
       "      <td>0</td>\n",
       "      <td>0</td>\n",
       "      <td>6923131.0</td>\n",
       "      <td>2008</td>\n",
       "      <td>Spring</td>\n",
       "    </tr>\n",
       "    <tr>\n",
       "      <th>2</th>\n",
       "      <td>Other</td>\n",
       "      <td>IL</td>\n",
       "      <td>2</td>\n",
       "      <td>4.0</td>\n",
       "      <td>2.0</td>\n",
       "      <td>5.0</td>\n",
       "      <td>2</td>\n",
       "      <td>3</td>\n",
       "      <td>5</td>\n",
       "      <td>5</td>\n",
       "      <td>...</td>\n",
       "      <td>0</td>\n",
       "      <td>0</td>\n",
       "      <td>0</td>\n",
       "      <td>0</td>\n",
       "      <td>0</td>\n",
       "      <td>0</td>\n",
       "      <td>0</td>\n",
       "      <td>2055379.0</td>\n",
       "      <td>2013</td>\n",
       "      <td>Spring</td>\n",
       "    </tr>\n",
       "    <tr>\n",
       "      <th>3</th>\n",
       "      <td>Other</td>\n",
       "      <td>IL</td>\n",
       "      <td>6</td>\n",
       "      <td>4.5</td>\n",
       "      <td>6.0</td>\n",
       "      <td>6.0</td>\n",
       "      <td>4</td>\n",
       "      <td>4</td>\n",
       "      <td>10</td>\n",
       "      <td>8</td>\n",
       "      <td>...</td>\n",
       "      <td>12</td>\n",
       "      <td>10</td>\n",
       "      <td>6</td>\n",
       "      <td>18</td>\n",
       "      <td>12</td>\n",
       "      <td>12</td>\n",
       "      <td>6</td>\n",
       "      <td>2675511.0</td>\n",
       "      <td>2012</td>\n",
       "      <td>Spring</td>\n",
       "    </tr>\n",
       "    <tr>\n",
       "      <th>4</th>\n",
       "      <td>Other</td>\n",
       "      <td>IL</td>\n",
       "      <td>3</td>\n",
       "      <td>4.0</td>\n",
       "      <td>3.0</td>\n",
       "      <td>4.0</td>\n",
       "      <td>2</td>\n",
       "      <td>2</td>\n",
       "      <td>5</td>\n",
       "      <td>5</td>\n",
       "      <td>...</td>\n",
       "      <td>1</td>\n",
       "      <td>3</td>\n",
       "      <td>2</td>\n",
       "      <td>3</td>\n",
       "      <td>4</td>\n",
       "      <td>3</td>\n",
       "      <td>3</td>\n",
       "      <td>4316715.0</td>\n",
       "      <td>2009</td>\n",
       "      <td>Summer</td>\n",
       "    </tr>\n",
       "  </tbody>\n",
       "</table>\n",
       "<p>5 rows × 42 columns</p>\n",
       "</div>"
      ],
      "text/plain": [
       "   City Group Type  P1   P2   P3   P4  P5  P6  P7  P8  ...  P31  P32  P33  \\\n",
       "0  Big Cities   IL   4  5.0  4.0  4.0   2   2   5   4  ...    3    4    5   \n",
       "1  Big Cities   FC   4  5.0  4.0  4.0   1   2   5   5  ...    0    0    0   \n",
       "2       Other   IL   2  4.0  2.0  5.0   2   3   5   5  ...    0    0    0   \n",
       "3       Other   IL   6  4.5  6.0  6.0   4   4  10   8  ...   12   10    6   \n",
       "4       Other   IL   3  4.0  3.0  4.0   2   2   5   5  ...    1    3    2   \n",
       "\n",
       "   P34  P35  P36  P37    revenue  year  season  \n",
       "0    5    4    3    4  5653753.0  1999  Summer  \n",
       "1    0    0    0    0  6923131.0  2008  Spring  \n",
       "2    0    0    0    0  2055379.0  2013  Spring  \n",
       "3   18   12   12    6  2675511.0  2012  Spring  \n",
       "4    3    4    3    3  4316715.0  2009  Summer  \n",
       "\n",
       "[5 rows x 42 columns]"
      ]
     },
     "execution_count": 33,
     "metadata": {},
     "output_type": "execute_result"
    }
   ],
   "source": [
    "train.head()"
   ]
  },
  {
   "cell_type": "markdown",
   "id": "f35f5c2e-a844-4ded-8446-2815d9d6e887",
   "metadata": {},
   "source": [
    "### _EDA_"
   ]
  },
  {
   "cell_type": "code",
   "execution_count": 34,
   "id": "9dda8991-08f3-4946-acc2-fab15bc3dad8",
   "metadata": {},
   "outputs": [],
   "source": [
    "con_var = []\n",
    "dis_var = []\n",
    "var_unique = train.nunique()\n",
    "for var,var_num in enumerate(var_unique):\n",
    "    if var_num>50:\n",
    "        con_var.append(var)\n",
    "    else:\n",
    "        dis_var.append(var)\n",
    "\n",
    "con_columns=[train.columns[i] for i in con_var ]\n",
    "dis_columns=[train.columns[i] for i in dis_var ]"
   ]
  },
  {
   "cell_type": "code",
   "execution_count": 35,
   "id": "eaaa5e1a-0c2e-48b1-8b3d-3a6716685330",
   "metadata": {},
   "outputs": [
    {
     "data": {
      "text/plain": [
       "['City Group',\n",
       " 'Type',\n",
       " 'P1',\n",
       " 'P2',\n",
       " 'P3',\n",
       " 'P4',\n",
       " 'P5',\n",
       " 'P6',\n",
       " 'P7',\n",
       " 'P8',\n",
       " 'P9',\n",
       " 'P10',\n",
       " 'P11',\n",
       " 'P12',\n",
       " 'P13',\n",
       " 'P14',\n",
       " 'P15',\n",
       " 'P16',\n",
       " 'P17',\n",
       " 'P18',\n",
       " 'P19',\n",
       " 'P20',\n",
       " 'P21',\n",
       " 'P22',\n",
       " 'P23',\n",
       " 'P24',\n",
       " 'P25',\n",
       " 'P26',\n",
       " 'P27',\n",
       " 'P28',\n",
       " 'P29',\n",
       " 'P30',\n",
       " 'P31',\n",
       " 'P32',\n",
       " 'P33',\n",
       " 'P34',\n",
       " 'P35',\n",
       " 'P36',\n",
       " 'P37',\n",
       " 'year',\n",
       " 'season']"
      ]
     },
     "execution_count": 35,
     "metadata": {},
     "output_type": "execute_result"
    }
   ],
   "source": [
    "dis_columns"
   ]
  },
  {
   "cell_type": "code",
   "execution_count": 36,
   "id": "c6af7bdf-30e3-4bb0-955c-85695ab2f03c",
   "metadata": {},
   "outputs": [
    {
     "data": {
      "text/plain": [
       "<AxesSubplot:>"
      ]
     },
     "execution_count": 36,
     "metadata": {},
     "output_type": "execute_result"
    },
    {
     "data": {
      "image/png": "[encoded data removed]",
      "text/plain": [
       "<Figure size 432x288 with 2 Axes>"
      ]
     },
     "metadata": {
      "needs_background": "light"
     },
     "output_type": "display_data"
    }
   ],
   "source": [
    "sns.heatmap(train.corr()[['revenue']].sort_values(by = 'revenue', key = abs, ascending = False))"
   ]
  },
  {
   "cell_type": "code",
   "execution_count": 37,
   "id": "82adf393-35d2-4f59-9ba8-3cafe9173141",
   "metadata": {},
   "outputs": [
    {
     "data": {
      "image/png": "[encoded data removed]",
      "text/plain": [
       "<Figure size 720x504 with 1 Axes>"
      ]
     },
     "metadata": {
      "needs_background": "light"
     },
     "output_type": "display_data"
    }
   ],
   "source": [
    "revenue_corr = train.drop(['City Group','Type','year'],axis=1).corr()['revenue'].sort_values(ascending=False)\n",
    "plt.figure(figsize=(10,7))\n",
    "revenue_corr.drop('revenue').plot.bar(color = '#33415C')\n",
    "plt.show();"
   ]
  },
  {
   "cell_type": "code",
   "execution_count": null,
   "id": "c75a546c-8d97-4df3-ab3d-f259c4560fe1",
   "metadata": {},
   "outputs": [],
   "source": []
  },
  {
   "cell_type": "code",
   "execution_count": 38,
   "id": "b06b5420-c6c6-4cc2-9594-f671e97dbb5a",
   "metadata": {},
   "outputs": [],
   "source": [
    "dis_columns.append('revenue') "
   ]
  },
  {
   "cell_type": "code",
   "execution_count": 39,
   "id": "7eb7d180-8aca-4170-a218-0948d8e8df42",
   "metadata": {},
   "outputs": [
    {
     "data": {
      "text/plain": [
       "revenue    1.000000\n",
       "P28        0.312546\n",
       "P2         0.256816\n",
       "P1         0.231995\n",
       "P6         0.225137\n",
       "P21        0.205224\n",
       "P20        0.139311\n",
       "P17        0.124630\n",
       "P7         0.123679\n",
       "P23        0.120974\n",
       "P25        0.115898\n",
       "P19        0.106200\n",
       "P14        0.096887\n",
       "P24        0.094468\n",
       "P11        0.091662\n",
       "P36        0.089499\n",
       "P26        0.089063\n",
       "P18        0.086527\n",
       "P37        0.084253\n",
       "P15        0.081093\n",
       "P16        0.079581\n",
       "P35        0.077735\n",
       "P22        0.075532\n",
       "P31        0.075095\n",
       "P27        0.075008\n",
       "P34        0.072422\n",
       "P33        0.070216\n",
       "P30        0.060424\n",
       "P32        0.059489\n",
       "P4         0.043871\n",
       "P3         0.027661\n",
       "P9         0.019553\n",
       "P12        0.018897\n",
       "P5        -0.017929\n",
       "P8        -0.034094\n",
       "P13       -0.048885\n",
       "P29       -0.048981\n",
       "P10       -0.049512\n",
       "year      -0.330274\n",
       "Name: revenue, dtype: float64"
      ]
     },
     "execution_count": 39,
     "metadata": {},
     "output_type": "execute_result"
    }
   ],
   "source": [
    "spearman = train[dis_columns].corr(method ='spearman') # Spearman Corrlations. No Strong corrlations have been identified \n",
    "spearman_corr = spearman['revenue'].sort_values(ascending = False)\n",
    "spearman_corr"
   ]
  },
  {
   "cell_type": "code",
   "execution_count": 40,
   "id": "e1831a93-6273-4eac-b20e-2143c1b53c75",
   "metadata": {},
   "outputs": [
    {
     "data": {
      "text/plain": [
       "City Group      2\n",
       "Type            3\n",
       "P1              8\n",
       "P2              8\n",
       "P3              8\n",
       "P4              6\n",
       "P5              7\n",
       "P6              8\n",
       "P7              6\n",
       "P8              8\n",
       "P9              4\n",
       "P10             4\n",
       "P11             8\n",
       "P12             7\n",
       "P13             5\n",
       "P14            10\n",
       "P15             8\n",
       "P16             9\n",
       "P17             9\n",
       "P18             7\n",
       "P19             9\n",
       "P20             9\n",
       "P21             8\n",
       "P22             5\n",
       "P23             9\n",
       "P24             9\n",
       "P25             8\n",
       "P26            10\n",
       "P27             9\n",
       "P28             9\n",
       "P29             7\n",
       "P30             9\n",
       "P31            10\n",
       "P32            10\n",
       "P33             6\n",
       "P34             8\n",
       "P35             8\n",
       "P36             8\n",
       "P37             8\n",
       "year           17\n",
       "season          4\n",
       "revenue       137\n",
       "dtype: int64"
      ]
     },
     "execution_count": 40,
     "metadata": {},
     "output_type": "execute_result"
    }
   ],
   "source": [
    "train[dis_columns].apply(pd.Series.nunique, axis = 0) # defining number of unique values in each discrete column "
   ]
  },
  {
   "cell_type": "code",
   "execution_count": 41,
   "id": "cf1c0414-3384-4bc5-a038-66949e40e119",
   "metadata": {},
   "outputs": [
    {
     "data": {
      "image/png": "[encoded data removed]",
      "text/plain": [
       "<Figure size 2592x1440 with 42 Axes>"
      ]
     },
     "metadata": {
      "needs_background": "light"
     },
     "output_type": "display_data"
    }
   ],
   "source": [
    "test.hist(figsize = (36,20));"
   ]
  },
  {
   "cell_type": "code",
   "execution_count": 42,
   "id": "9cf73f3f-6702-4c46-9544-a07f867656e9",
   "metadata": {},
   "outputs": [],
   "source": [
    "#plt.figure(figsize = (20, 12))\n",
    "#sns.scatterplot(x=\"revenue\", y=\"City\",s=35, alpha = 0.6,data=train)"
   ]
  },
  {
   "cell_type": "code",
   "execution_count": 43,
   "id": "1e70751c-a2b9-4adf-8e53-797eca9e51fd",
   "metadata": {},
   "outputs": [
    {
     "data": {
      "text/plain": [
       "19696939.0"
      ]
     },
     "execution_count": 43,
     "metadata": {},
     "output_type": "execute_result"
    }
   ],
   "source": [
    "train['revenue'].max() # define the max which helps to find the outliers shows above "
   ]
  },
  {
   "cell_type": "code",
   "execution_count": 44,
   "id": "748554f0-0d12-4587-b831-15a7f4d8368e",
   "metadata": {},
   "outputs": [],
   "source": [
    "index_drop1 = train[train['revenue'] == 19696939.0].index # dropping outliers \n",
    "train.drop(index_drop1, inplace = True)"
   ]
  },
  {
   "cell_type": "code",
   "execution_count": 45,
   "id": "0f94f205-9232-47c3-ba07-d5ef46aa5daa",
   "metadata": {},
   "outputs": [],
   "source": [
    "index_drop2 = train[train['revenue'] == 16549064.0].index # dropping outliers \n",
    "train.drop(index_drop2, inplace = True)"
   ]
  },
  {
   "cell_type": "code",
   "execution_count": 46,
   "id": "71b8c820-ea5d-4d60-b44f-73508271f077",
   "metadata": {},
   "outputs": [],
   "source": [
    "index_drop3 = train[train['revenue'] == 13575224.0].index # dropping outliers\n",
    "train.drop(index_drop3, inplace = True)"
   ]
  },
  {
   "cell_type": "code",
   "execution_count": 47,
   "id": "aeae1347-ae75-456c-b479-00b914ad3bf7",
   "metadata": {},
   "outputs": [
    {
     "name": "stderr",
     "output_type": "stream",
     "text": [
      "/Users/jay/opt/anaconda3/lib/python3.8/site-packages/seaborn/distributions.py:2557: FutureWarning: `distplot` is a deprecated function and will be removed in a future version. Please adapt your code to use either `displot` (a figure-level function with similar flexibility) or `histplot` (an axes-level function for histograms).\n",
      "  warnings.warn(msg, FutureWarning)\n"
     ]
    },
    {
     "data": {
      "text/plain": [
       "Text(0.5, 1.0, 'Revenue Distribution (Train Data)')"
      ]
     },
     "execution_count": 47,
     "metadata": {},
     "output_type": "execute_result"
    },
    {
     "data": {
      "image/png": "[encoded data removed]",
      "text/plain": [
       "<Figure size 1152x648 with 1 Axes>"
      ]
     },
     "metadata": {
      "needs_background": "light"
     },
     "output_type": "display_data"
    }
   ],
   "source": [
    "plt.figure (figsize = (16, 9))\n",
    "sns.distplot(train['revenue'] )\n",
    "plt.title('Revenue Distribution (Train Data)', fontdict={'fontsize':20})"
   ]
  },
  {
   "cell_type": "code",
   "execution_count": 48,
   "id": "c45d7aec-2d1f-4a93-8a70-f96f8aacc63f",
   "metadata": {},
   "outputs": [],
   "source": [
    "train['revenue'] = np.log1p(train['revenue']) # log transformation. "
   ]
  },
  {
   "cell_type": "code",
   "execution_count": 49,
   "id": "c13a8716-9621-4ebb-8737-fd1f9c4a664a",
   "metadata": {},
   "outputs": [
    {
     "name": "stderr",
     "output_type": "stream",
     "text": [
      "/Users/jay/opt/anaconda3/lib/python3.8/site-packages/seaborn/distributions.py:2557: FutureWarning: `distplot` is a deprecated function and will be removed in a future version. Please adapt your code to use either `displot` (a figure-level function with similar flexibility) or `histplot` (an axes-level function for histograms).\n",
      "  warnings.warn(msg, FutureWarning)\n"
     ]
    },
    {
     "data": {
      "text/plain": [
       "Text(0.5, 1.0, 'Log Transformation Revenue Distribution (Train Data)')"
      ]
     },
     "execution_count": 49,
     "metadata": {},
     "output_type": "execute_result"
    },
    {
     "data": {
      "image/png": "[encoded data removed]",
      "text/plain": [
       "<Figure size 1152x648 with 1 Axes>"
      ]
     },
     "metadata": {
      "needs_background": "light"
     },
     "output_type": "display_data"
    }
   ],
   "source": [
    "plt.figure (figsize = (16, 9))\n",
    "sns.distplot(train['revenue'])\n",
    "plt.title('Log Transformation Revenue Distribution (Train Data)', fontdict={'fontsize':20})"
   ]
  },
  {
   "cell_type": "code",
   "execution_count": 50,
   "id": "78b350f0-38ad-4bac-8ea1-6677fb01175f",
   "metadata": {},
   "outputs": [
    {
     "data": {
      "image/png": "[encoded data removed]",
      "text/plain": [
       "<Figure size 1152x648 with 1 Axes>"
      ]
     },
     "metadata": {
      "needs_background": "light"
     },
     "output_type": "display_data"
    }
   ],
   "source": [
    "plt.figure (figsize = (16, 9))\n",
    "fig = sns.scatterplot(x=\"Type\", y=\"revenue\",s=50, alpha = 0.6,data=train);"
   ]
  },
  {
   "cell_type": "code",
   "execution_count": 51,
   "id": "6b0c37e0-f490-4dbf-a3ea-519509e2dec4",
   "metadata": {},
   "outputs": [
    {
     "data": {
      "image/png": "[encoded data removed]",
      "text/plain": [
       "<Figure size 1152x648 with 1 Axes>"
      ]
     },
     "metadata": {
      "needs_background": "light"
     },
     "output_type": "display_data"
    }
   ],
   "source": [
    "plt.figure (figsize = (16, 9))\n",
    "fig = sns.scatterplot(x=\"season\", y=\"revenue\",s=50, alpha = 0.6,data=train);"
   ]
  },
  {
   "cell_type": "code",
   "execution_count": 52,
   "id": "f74ad239-338f-4880-84a3-3a890f1875a9",
   "metadata": {},
   "outputs": [
    {
     "data": {
      "image/png": "[encoded data removed]",
      "text/plain": [
       "<Figure size 1152x648 with 1 Axes>"
      ]
     },
     "metadata": {
      "needs_background": "light"
     },
     "output_type": "display_data"
    }
   ],
   "source": [
    "plt.figure (figsize = (16, 9))\n",
    "fig = sns.scatterplot(x=\"P28\", y=\"revenue\",s=50,hue=\"Type\", size = 'Type', alpha = 0.6,data=train);"
   ]
  },
  {
   "cell_type": "code",
   "execution_count": 53,
   "id": "4e7b6dea-f13d-42d8-bdf3-5e39c0c5fc1f",
   "metadata": {},
   "outputs": [
    {
     "data": {
      "image/png": "[encoded data removed]",
      "text/plain": [
       "<Figure size 1152x648 with 1 Axes>"
      ]
     },
     "metadata": {
      "needs_background": "light"
     },
     "output_type": "display_data"
    }
   ],
   "source": [
    "plt.figure (figsize = (16, 9))\n",
    "fig = sns.scatterplot(x=\"year\", y=\"revenue\",s=50,hue=\"Type\", size = 'revenue', alpha = 0.6,data=train);"
   ]
  },
  {
   "cell_type": "code",
   "execution_count": 54,
   "id": "9f4f08ab-7e9d-499d-b97d-dd5be006a0f4",
   "metadata": {},
   "outputs": [
    {
     "data": {
      "text/plain": [
       "Text(0.5, 1.0, 'Train Number of Restaurant in each Restaurant Type (by City Group)')"
      ]
     },
     "execution_count": 54,
     "metadata": {},
     "output_type": "execute_result"
    },
    {
     "data": {
      "image/png": "[encoded data removed]",
      "text/plain": [
       "<Figure size 1152x648 with 1 Axes>"
      ]
     },
     "metadata": {
      "needs_background": "light"
     },
     "output_type": "display_data"
    }
   ],
   "source": [
    "plt.figure (figsize = (16, 9))\n",
    "sns.countplot(x = 'Type',hue ='City Group', data = train, palette='Set3')\n",
    "plt.title('Train Number of Restaurant in each Restaurant Type (by City Group)', fontdict={'fontsize':20})"
   ]
  },
  {
   "cell_type": "code",
   "execution_count": 55,
   "id": "0b4010ac-c5ff-44b9-a11f-0fe08ede734f",
   "metadata": {},
   "outputs": [
    {
     "data": {
      "text/plain": [
       "Text(0.5, 1.0, 'Test Data Number of Restaurant in each Restaurant Type (by City Group)')"
      ]
     },
     "execution_count": 55,
     "metadata": {},
     "output_type": "execute_result"
    },
    {
     "data": {
      "image/png": "[encoded data removed]",
      "text/plain": [
       "<Figure size 1152x648 with 1 Axes>"
      ]
     },
     "metadata": {
      "needs_background": "light"
     },
     "output_type": "display_data"
    }
   ],
   "source": [
    "plt.figure (figsize = (16, 9))\n",
    "sns.countplot(x = 'Type',hue ='City Group', data = test, palette='Set3')\n",
    "plt.title('Test Data Number of Restaurant in each Restaurant Type (by City Group)', fontdict={'fontsize':20})"
   ]
  },
  {
   "cell_type": "code",
   "execution_count": 56,
   "id": "a0580499-bbdf-420a-b396-a1f8924ccdc8",
   "metadata": {},
   "outputs": [
    {
     "data": {
      "text/plain": [
       "Text(0.5, 1.0, 'Number of Restaurants Opened in each Season (by City Group / Train Data)')"
      ]
     },
     "execution_count": 56,
     "metadata": {},
     "output_type": "execute_result"
    },
    {
     "data": {
      "image/png": "[encoded data removed]",
      "text/plain": [
       "<Figure size 1152x648 with 1 Axes>"
      ]
     },
     "metadata": {
      "needs_background": "light"
     },
     "output_type": "display_data"
    }
   ],
   "source": [
    "plt.figure (figsize = (16, 9))\n",
    "sns.countplot(x = 'season',hue ='City Group', data = train, palette='Set1')\n",
    "plt.title('Number of Restaurants Opened in each Season (by City Group / Train Data)', fontdict={'fontsize':20})"
   ]
  },
  {
   "cell_type": "code",
   "execution_count": 57,
   "id": "5ee4f655-fc20-4ae3-9c5c-d2eebdc54016",
   "metadata": {},
   "outputs": [
    {
     "data": {
      "text/plain": [
       "Text(0.5, 1.0, 'Number of Restaurants Opened in each Season (by City Group / Test Data)')"
      ]
     },
     "execution_count": 57,
     "metadata": {},
     "output_type": "execute_result"
    },
    {
     "data": {
      "image/png": "[encoded data removed]",
      "text/plain": [
       "<Figure size 1152x648 with 1 Axes>"
      ]
     },
     "metadata": {
      "needs_background": "light"
     },
     "output_type": "display_data"
    }
   ],
   "source": [
    "plt.figure (figsize = (16, 9))\n",
    "sns.countplot(x = 'season',hue ='City Group', data = test, palette='Set1')\n",
    "plt.title('Number of Restaurants Opened in each Season (by City Group / Test Data)', fontdict={'fontsize':20})"
   ]
  },
  {
   "cell_type": "markdown",
   "id": "80b9c332-bc22-4a96-9285-17a447df14a9",
   "metadata": {},
   "source": [
    "### _Modeling_ "
   ]
  },
  {
   "cell_type": "markdown",
   "id": "5ae200a1-4600-4c9c-b439-13b20b3a01fd",
   "metadata": {},
   "source": [
    "##### _Pre-Processing_"
   ]
  },
  {
   "cell_type": "code",
   "execution_count": 58,
   "id": "c8594c0b-cd43-4855-8e86-9e762b799885",
   "metadata": {},
   "outputs": [],
   "source": [
    "columns_to_dummy = train.select_dtypes(include = ['object']).columns\n",
    "train = pd.get_dummies(train, columns = columns_to_dummy, drop_first = False)\n",
    "test = pd.get_dummies(test, columns = columns_to_dummy, drop_first = False)"
   ]
  },
  {
   "cell_type": "code",
   "execution_count": 59,
   "id": "6f802783-34a1-4a0f-b688-0b1b87b25bb6",
   "metadata": {},
   "outputs": [
    {
     "data": {
      "text/html": [
       "<div>\n",
       "<style scoped>\n",
       "    .dataframe tbody tr th:only-of-type {\n",
       "        vertical-align: middle;\n",
       "    }\n",
       "\n",
       "    .dataframe tbody tr th {\n",
       "        vertical-align: top;\n",
       "    }\n",
       "\n",
       "    .dataframe thead th {\n",
       "        text-align: right;\n",
       "    }\n",
       "</style>\n",
       "<table border=\"1\" class=\"dataframe\">\n",
       "  <thead>\n",
       "    <tr style=\"text-align: right;\">\n",
       "      <th></th>\n",
       "      <th>P1</th>\n",
       "      <th>P2</th>\n",
       "      <th>P3</th>\n",
       "      <th>P4</th>\n",
       "      <th>P5</th>\n",
       "      <th>P6</th>\n",
       "      <th>P7</th>\n",
       "      <th>P8</th>\n",
       "      <th>P9</th>\n",
       "      <th>P10</th>\n",
       "      <th>...</th>\n",
       "      <th>year</th>\n",
       "      <th>City Group_Big Cities</th>\n",
       "      <th>City Group_Other</th>\n",
       "      <th>Type_DT</th>\n",
       "      <th>Type_FC</th>\n",
       "      <th>Type_IL</th>\n",
       "      <th>season_Fall</th>\n",
       "      <th>season_Spring</th>\n",
       "      <th>season_Summer</th>\n",
       "      <th>season_Winter</th>\n",
       "    </tr>\n",
       "  </thead>\n",
       "  <tbody>\n",
       "    <tr>\n",
       "      <th>0</th>\n",
       "      <td>4</td>\n",
       "      <td>5.0</td>\n",
       "      <td>4.0</td>\n",
       "      <td>4.0</td>\n",
       "      <td>2</td>\n",
       "      <td>2</td>\n",
       "      <td>5</td>\n",
       "      <td>4</td>\n",
       "      <td>5</td>\n",
       "      <td>5</td>\n",
       "      <td>...</td>\n",
       "      <td>1999</td>\n",
       "      <td>1</td>\n",
       "      <td>0</td>\n",
       "      <td>0</td>\n",
       "      <td>0</td>\n",
       "      <td>1</td>\n",
       "      <td>0</td>\n",
       "      <td>0</td>\n",
       "      <td>1</td>\n",
       "      <td>0</td>\n",
       "    </tr>\n",
       "    <tr>\n",
       "      <th>1</th>\n",
       "      <td>4</td>\n",
       "      <td>5.0</td>\n",
       "      <td>4.0</td>\n",
       "      <td>4.0</td>\n",
       "      <td>1</td>\n",
       "      <td>2</td>\n",
       "      <td>5</td>\n",
       "      <td>5</td>\n",
       "      <td>5</td>\n",
       "      <td>5</td>\n",
       "      <td>...</td>\n",
       "      <td>2008</td>\n",
       "      <td>1</td>\n",
       "      <td>0</td>\n",
       "      <td>0</td>\n",
       "      <td>1</td>\n",
       "      <td>0</td>\n",
       "      <td>0</td>\n",
       "      <td>1</td>\n",
       "      <td>0</td>\n",
       "      <td>0</td>\n",
       "    </tr>\n",
       "    <tr>\n",
       "      <th>2</th>\n",
       "      <td>2</td>\n",
       "      <td>4.0</td>\n",
       "      <td>2.0</td>\n",
       "      <td>5.0</td>\n",
       "      <td>2</td>\n",
       "      <td>3</td>\n",
       "      <td>5</td>\n",
       "      <td>5</td>\n",
       "      <td>5</td>\n",
       "      <td>5</td>\n",
       "      <td>...</td>\n",
       "      <td>2013</td>\n",
       "      <td>0</td>\n",
       "      <td>1</td>\n",
       "      <td>0</td>\n",
       "      <td>0</td>\n",
       "      <td>1</td>\n",
       "      <td>0</td>\n",
       "      <td>1</td>\n",
       "      <td>0</td>\n",
       "      <td>0</td>\n",
       "    </tr>\n",
       "    <tr>\n",
       "      <th>3</th>\n",
       "      <td>6</td>\n",
       "      <td>4.5</td>\n",
       "      <td>6.0</td>\n",
       "      <td>6.0</td>\n",
       "      <td>4</td>\n",
       "      <td>4</td>\n",
       "      <td>10</td>\n",
       "      <td>8</td>\n",
       "      <td>10</td>\n",
       "      <td>10</td>\n",
       "      <td>...</td>\n",
       "      <td>2012</td>\n",
       "      <td>0</td>\n",
       "      <td>1</td>\n",
       "      <td>0</td>\n",
       "      <td>0</td>\n",
       "      <td>1</td>\n",
       "      <td>0</td>\n",
       "      <td>1</td>\n",
       "      <td>0</td>\n",
       "      <td>0</td>\n",
       "    </tr>\n",
       "    <tr>\n",
       "      <th>4</th>\n",
       "      <td>3</td>\n",
       "      <td>4.0</td>\n",
       "      <td>3.0</td>\n",
       "      <td>4.0</td>\n",
       "      <td>2</td>\n",
       "      <td>2</td>\n",
       "      <td>5</td>\n",
       "      <td>5</td>\n",
       "      <td>5</td>\n",
       "      <td>5</td>\n",
       "      <td>...</td>\n",
       "      <td>2009</td>\n",
       "      <td>0</td>\n",
       "      <td>1</td>\n",
       "      <td>0</td>\n",
       "      <td>0</td>\n",
       "      <td>1</td>\n",
       "      <td>0</td>\n",
       "      <td>0</td>\n",
       "      <td>1</td>\n",
       "      <td>0</td>\n",
       "    </tr>\n",
       "  </tbody>\n",
       "</table>\n",
       "<p>5 rows × 48 columns</p>\n",
       "</div>"
      ],
      "text/plain": [
       "   P1   P2   P3   P4  P5  P6  P7  P8  P9  P10  ...  year  \\\n",
       "0   4  5.0  4.0  4.0   2   2   5   4   5    5  ...  1999   \n",
       "1   4  5.0  4.0  4.0   1   2   5   5   5    5  ...  2008   \n",
       "2   2  4.0  2.0  5.0   2   3   5   5   5    5  ...  2013   \n",
       "3   6  4.5  6.0  6.0   4   4  10   8  10   10  ...  2012   \n",
       "4   3  4.0  3.0  4.0   2   2   5   5   5    5  ...  2009   \n",
       "\n",
       "   City Group_Big Cities  City Group_Other  Type_DT  Type_FC  Type_IL  \\\n",
       "0                      1                 0        0        0        1   \n",
       "1                      1                 0        0        1        0   \n",
       "2                      0                 1        0        0        1   \n",
       "3                      0                 1        0        0        1   \n",
       "4                      0                 1        0        0        1   \n",
       "\n",
       "   season_Fall  season_Spring  season_Summer  season_Winter  \n",
       "0            0              0              1              0  \n",
       "1            0              1              0              0  \n",
       "2            0              1              0              0  \n",
       "3            0              1              0              0  \n",
       "4            0              0              1              0  \n",
       "\n",
       "[5 rows x 48 columns]"
      ]
     },
     "execution_count": 59,
     "metadata": {},
     "output_type": "execute_result"
    }
   ],
   "source": [
    "train.head()"
   ]
  },
  {
   "cell_type": "code",
   "execution_count": 60,
   "id": "eececccd-977a-41ab-8169-d0840f3d2e94",
   "metadata": {},
   "outputs": [
    {
     "data": {
      "text/plain": [
       "(134, 48)"
      ]
     },
     "execution_count": 60,
     "metadata": {},
     "output_type": "execute_result"
    }
   ],
   "source": [
    "train.shape"
   ]
  },
  {
   "cell_type": "code",
   "execution_count": 61,
   "id": "91bd3526-a3df-48a7-a16f-48765f766f25",
   "metadata": {},
   "outputs": [
    {
     "data": {
      "text/plain": [
       "(100000, 47)"
      ]
     },
     "execution_count": 61,
     "metadata": {},
     "output_type": "execute_result"
    }
   ],
   "source": [
    "test.shape"
   ]
  },
  {
   "cell_type": "code",
   "execution_count": 62,
   "id": "474324fb-831d-4663-87b4-9fad54d96ac9",
   "metadata": {},
   "outputs": [],
   "source": [
    "X, y = train.drop('revenue', axis=1), train['revenue']\n",
    "X_train, X_test, y_train, y_test = train_test_split(X, y, test_size=0.30, random_state=42)"
   ]
  },
  {
   "cell_type": "markdown",
   "id": "ba29f89d-0f78-42ff-8f59-f1cda9ba7e0b",
   "metadata": {},
   "source": [
    "#### _Baseline Model - Linear Regression_"
   ]
  },
  {
   "cell_type": "code",
   "execution_count": 63,
   "id": "c066c559-cf40-40e9-b728-3ea5265dbbbd",
   "metadata": {},
   "outputs": [],
   "source": [
    "lr = LinearRegression ()"
   ]
  },
  {
   "cell_type": "code",
   "execution_count": 64,
   "id": "414f1de8-3b62-4d4c-b8a2-71c16bd72266",
   "metadata": {},
   "outputs": [
    {
     "data": {
      "text/plain": [
       "LinearRegression()"
      ]
     },
     "execution_count": 64,
     "metadata": {},
     "output_type": "execute_result"
    }
   ],
   "source": [
    "lr.fit(X_train, y_train)"
   ]
  },
  {
   "cell_type": "code",
   "execution_count": 65,
   "id": "592da6e8-1a03-4815-a514-f3ef8b0dee93",
   "metadata": {},
   "outputs": [
    {
     "data": {
      "text/plain": [
       "0.5741578207986677"
      ]
     },
     "execution_count": 65,
     "metadata": {},
     "output_type": "execute_result"
    }
   ],
   "source": [
    "lr.score(X_train, y_train)"
   ]
  },
  {
   "cell_type": "code",
   "execution_count": 66,
   "id": "880bcca3-e125-4d97-902e-b4872097cef6",
   "metadata": {},
   "outputs": [
    {
     "data": {
      "text/plain": [
       "-0.9253147916721596"
      ]
     },
     "execution_count": 66,
     "metadata": {},
     "output_type": "execute_result"
    }
   ],
   "source": [
    "lr.score(X_test, y_test)"
   ]
  },
  {
   "cell_type": "code",
   "execution_count": 67,
   "id": "d40ecb4a-c261-4b36-bb92-2694682139c4",
   "metadata": {},
   "outputs": [
    {
     "data": {
      "text/plain": [
       "0.07727318342558294"
      ]
     },
     "execution_count": 67,
     "metadata": {},
     "output_type": "execute_result"
    }
   ],
   "source": [
    "mean_squared_error(y_train, lr.predict(X_train))"
   ]
  },
  {
   "cell_type": "code",
   "execution_count": 68,
   "id": "efe973a0-19b1-42bc-922a-100ff24db956",
   "metadata": {},
   "outputs": [
    {
     "data": {
      "text/plain": [
       "0.3866812600764032"
      ]
     },
     "execution_count": 68,
     "metadata": {},
     "output_type": "execute_result"
    }
   ],
   "source": [
    "mean_squared_error(y_test, lr.predict(X_test))"
   ]
  },
  {
   "cell_type": "code",
   "execution_count": 69,
   "id": "a4634122-a021-4ebc-a89a-ca65085af40f",
   "metadata": {},
   "outputs": [],
   "source": [
    "y_pred = lr.predict(X_test)"
   ]
  },
  {
   "cell_type": "code",
   "execution_count": 70,
   "id": "579889d7-a376-498b-945c-c50cae9585de",
   "metadata": {},
   "outputs": [
    {
     "name": "stdout",
     "output_type": "stream",
     "text": [
      "Explained variance score -0.9218765327162437 \n",
      " Mean absolute error      : 0.48808435158160846 \n",
      " Mean squared error       : 0.3866812600764032 \n",
      " R² score            : -0.9253147916721596\n"
     ]
    }
   ],
   "source": [
    "print('Explained variance score',explained_variance_score(y_test, y_pred),'\\n',\n",
    "   'Mean absolute error      :',mean_absolute_error(y_test, y_pred),'\\n',\n",
    "   'Mean squared error       :',mean_squared_error(y_test, y_pred),'\\n',\n",
    "   'R² score            :',r2_score(y_test, y_pred))"
   ]
  },
  {
   "cell_type": "markdown",
   "id": "f0356ee5-a8fa-441c-86ae-20374d65a7ce",
   "metadata": {},
   "source": [
    "#### _Lasso Regression_"
   ]
  },
  {
   "cell_type": "code",
   "execution_count": 71,
   "id": "d279047f-6945-4826-979b-65db98a0cdd7",
   "metadata": {},
   "outputs": [],
   "source": [
    "params_lasso = {\n",
    "    'alpha' : [.01, .1, .5, .7, .9, .95, .99, 1, 5, 10, 20],}"
   ]
  },
  {
   "cell_type": "code",
   "execution_count": 72,
   "id": "fb5fd020-4abd-4837-97e7-becc62e303f7",
   "metadata": {},
   "outputs": [],
   "source": [
    "lasso = Lasso()"
   ]
  },
  {
   "cell_type": "code",
   "execution_count": 73,
   "id": "2f7d3335-c5f6-445d-a279-9eb4ecf99c70",
   "metadata": {},
   "outputs": [],
   "source": [
    "lasso = GridSearchCV(lasso, params_lasso, cv=5, n_jobs=8)"
   ]
  },
  {
   "cell_type": "code",
   "execution_count": 74,
   "id": "524cb4e5-09a8-4ad8-9c94-bc7149871058",
   "metadata": {},
   "outputs": [
    {
     "data": {
      "text/plain": [
       "GridSearchCV(cv=5, estimator=Lasso(), n_jobs=8,\n",
       "             param_grid={'alpha': [0.01, 0.1, 0.5, 0.7, 0.9, 0.95, 0.99, 1, 5,\n",
       "                                   10, 20]})"
      ]
     },
     "execution_count": 74,
     "metadata": {},
     "output_type": "execute_result"
    }
   ],
   "source": [
    "lasso.fit(X_train, y_train)"
   ]
  },
  {
   "cell_type": "code",
   "execution_count": 75,
   "id": "37be6657-fbe6-4036-af81-d3cf5bf85bba",
   "metadata": {},
   "outputs": [
    {
     "data": {
      "text/plain": [
       "0.0"
      ]
     },
     "execution_count": 75,
     "metadata": {},
     "output_type": "execute_result"
    }
   ],
   "source": [
    "lasso.score(X_train, y_train)"
   ]
  },
  {
   "cell_type": "code",
   "execution_count": 76,
   "id": "4164d43a-ba01-472c-9e61-a5aaa7c51d9a",
   "metadata": {},
   "outputs": [
    {
     "data": {
      "text/plain": [
       "-0.0007943878764755663"
      ]
     },
     "execution_count": 76,
     "metadata": {},
     "output_type": "execute_result"
    }
   ],
   "source": [
    "lasso.score(X_test, y_test)"
   ]
  },
  {
   "cell_type": "code",
   "execution_count": 77,
   "id": "464ac753-a800-4237-a42f-976fe0bbf308",
   "metadata": {},
   "outputs": [
    {
     "data": {
      "text/plain": [
       "{'alpha': 0.5}"
      ]
     },
     "execution_count": 77,
     "metadata": {},
     "output_type": "execute_result"
    }
   ],
   "source": [
    "lasso.best_params_"
   ]
  },
  {
   "cell_type": "code",
   "execution_count": 78,
   "id": "7986acba-dd81-416c-aa61-5b570bdca356",
   "metadata": {},
   "outputs": [],
   "source": [
    "y_pred = lasso.predict(X_test)"
   ]
  },
  {
   "cell_type": "code",
   "execution_count": 79,
   "id": "369575b5-f754-4e33-b1f4-07e0c8ca257b",
   "metadata": {},
   "outputs": [
    {
     "name": "stdout",
     "output_type": "stream",
     "text": [
      "Explained variance score 0.0 \n",
      " Mean absolute error      : 0.34410784208789436 \n",
      " Mean squared error       : 0.2010000840669613 \n",
      " R² score            : -0.0007943878764755663\n"
     ]
    }
   ],
   "source": [
    "print('Explained variance score',explained_variance_score(y_test, y_pred),'\\n',\n",
    "   'Mean absolute error      :',mean_absolute_error(y_test, y_pred),'\\n',\n",
    "   'Mean squared error       :',mean_squared_error(y_test, y_pred),'\\n',\n",
    "   'R² score            :',r2_score(y_test, y_pred))"
   ]
  },
  {
   "cell_type": "markdown",
   "id": "683cba50-e581-4544-82ea-7cee4a779771",
   "metadata": {},
   "source": [
    "#### _Ridge Regression_"
   ]
  },
  {
   "cell_type": "code",
   "execution_count": 80,
   "id": "7a2488f7-64ab-4ecc-ad92-0bdeeab108f0",
   "metadata": {},
   "outputs": [],
   "source": [
    "ridge = Ridge()"
   ]
  },
  {
   "cell_type": "code",
   "execution_count": 81,
   "id": "227923d8-1f04-45b7-9672-9ffadc8b118f",
   "metadata": {},
   "outputs": [],
   "source": [
    "params_ridge = {\n",
    "    'alpha' : [.01, .1, .5, .7, .9, .95, .99, 1, 5, 10, 20],\n",
    "    'solver' : ['svd', 'cholesky', 'lsqr', 'sparse_cg', 'sag', 'saga']\n",
    "}"
   ]
  },
  {
   "cell_type": "code",
   "execution_count": 82,
   "id": "2d74021d-85e3-4f21-b142-a6bbd602a2a6",
   "metadata": {},
   "outputs": [],
   "source": [
    "ridge = GridSearchCV(ridge, params_ridge,cv=5, n_jobs=-1)"
   ]
  },
  {
   "cell_type": "code",
   "execution_count": 83,
   "id": "1426a489-4e6f-435d-86a0-161cca59833e",
   "metadata": {},
   "outputs": [
    {
     "data": {
      "text/plain": [
       "GridSearchCV(cv=5, estimator=Ridge(), n_jobs=-1,\n",
       "             param_grid={'alpha': [0.01, 0.1, 0.5, 0.7, 0.9, 0.95, 0.99, 1, 5,\n",
       "                                   10, 20],\n",
       "                         'solver': ['svd', 'cholesky', 'lsqr', 'sparse_cg',\n",
       "                                    'sag', 'saga']})"
      ]
     },
     "execution_count": 83,
     "metadata": {},
     "output_type": "execute_result"
    }
   ],
   "source": [
    "ridge.fit(X_train, y_train)"
   ]
  },
  {
   "cell_type": "code",
   "execution_count": 84,
   "id": "4865aad8-3126-4384-bf91-11ebd60ccc0f",
   "metadata": {},
   "outputs": [
    {
     "data": {
      "text/plain": [
       "0.4371616019831813"
      ]
     },
     "execution_count": 84,
     "metadata": {},
     "output_type": "execute_result"
    }
   ],
   "source": [
    "ridge.score(X_train, y_train)"
   ]
  },
  {
   "cell_type": "code",
   "execution_count": 85,
   "id": "58a471d8-e0df-429d-92cd-545d167c5057",
   "metadata": {},
   "outputs": [
    {
     "data": {
      "text/plain": [
       "-0.08308067160512023"
      ]
     },
     "execution_count": 85,
     "metadata": {},
     "output_type": "execute_result"
    }
   ],
   "source": [
    "ridge.score(X_test, y_test)"
   ]
  },
  {
   "cell_type": "code",
   "execution_count": 86,
   "id": "8b1d5059-caf4-42bd-aa6a-5c15bd828175",
   "metadata": {},
   "outputs": [],
   "source": [
    "y_pred = ridge.predict(X_test)"
   ]
  },
  {
   "cell_type": "code",
   "execution_count": 87,
   "id": "59bb666e-7e41-4d97-bdb0-07b35979349e",
   "metadata": {},
   "outputs": [
    {
     "name": "stdout",
     "output_type": "stream",
     "text": [
      "Explained variance score -0.06999998974403865 \n",
      " Mean absolute error      : 0.37717813224895425 \n",
      " Mean squared error       : 0.21752650562504944 \n",
      " R² score            : -0.08308067160512023\n"
     ]
    }
   ],
   "source": [
    "print('Explained variance score',explained_variance_score(y_test, y_pred),'\\n',\n",
    "   'Mean absolute error      :',mean_absolute_error(y_test, y_pred),'\\n',\n",
    "   'Mean squared error       :',mean_squared_error(y_test, y_pred),'\\n',\n",
    "   'R² score            :',r2_score(y_test, y_pred))"
   ]
  },
  {
   "cell_type": "markdown",
   "id": "70e6f7da-d455-4130-a9bd-99b56b5bd53b",
   "metadata": {},
   "source": [
    "#### _Random Forest_"
   ]
  },
  {
   "cell_type": "code",
   "execution_count": 88,
   "id": "752bf009-15fa-4b24-ad02-ce3ecb6fb2a3",
   "metadata": {},
   "outputs": [],
   "source": [
    "params_rf = {\n",
    "    'max_depth': [None, 1, 5, 10, 30, 35, 50, 65, 75, 100],\n",
    "    'max_features': [.3, .4, .5, .6],\n",
    "    'n_estimators': [30, 50, 100, 200]\n",
    "}"
   ]
  },
  {
   "cell_type": "code",
   "execution_count": 89,
   "id": "e34a88a9-9841-4fd6-9da6-99c5304217cb",
   "metadata": {},
   "outputs": [],
   "source": [
    "rf = RandomForestRegressor()"
   ]
  },
  {
   "cell_type": "code",
   "execution_count": 90,
   "id": "a4ffe00f-14be-43c0-81c3-0f8492834d68",
   "metadata": {},
   "outputs": [],
   "source": [
    "rf_regressor = GridSearchCV(rf, params_rf,cv = 10, n_jobs = -1)"
   ]
  },
  {
   "cell_type": "code",
   "execution_count": 91,
   "id": "7ebd25cc-6aee-498a-899b-a886aea228c5",
   "metadata": {},
   "outputs": [
    {
     "data": {
      "text/plain": [
       "GridSearchCV(cv=10, estimator=RandomForestRegressor(), n_jobs=-1,\n",
       "             param_grid={'max_depth': [None, 1, 5, 10, 30, 35, 50, 65, 75, 100],\n",
       "                         'max_features': [0.3, 0.4, 0.5, 0.6],\n",
       "                         'n_estimators': [30, 50, 100, 200]})"
      ]
     },
     "execution_count": 91,
     "metadata": {},
     "output_type": "execute_result"
    }
   ],
   "source": [
    "rf_regressor.fit(X_train, y_train)"
   ]
  },
  {
   "cell_type": "code",
   "execution_count": 92,
   "id": "9b4e6da3-2928-4ff4-b5a5-fd0489ecaba7",
   "metadata": {},
   "outputs": [
    {
     "data": {
      "text/plain": [
       "{'max_depth': 10, 'max_features': 0.4, 'n_estimators': 50}"
      ]
     },
     "execution_count": 92,
     "metadata": {},
     "output_type": "execute_result"
    }
   ],
   "source": [
    "rf_regressor.best_params_"
   ]
  },
  {
   "cell_type": "code",
   "execution_count": 93,
   "id": "d4109ede-34b5-4d76-9df5-454ae624f0ee",
   "metadata": {},
   "outputs": [],
   "source": [
    "rf_model = RandomForestRegressor(max_depth = 100,\n",
    "                                 max_features = 0.3,\n",
    "                                 n_estimators = 50)"
   ]
  },
  {
   "cell_type": "code",
   "execution_count": 94,
   "id": "9dac95a2-a56f-4c3d-94c3-116c506df1bb",
   "metadata": {},
   "outputs": [
    {
     "data": {
      "text/plain": [
       "RandomForestRegressor(max_depth=100, max_features=0.3, n_estimators=50)"
      ]
     },
     "execution_count": 94,
     "metadata": {},
     "output_type": "execute_result"
    }
   ],
   "source": [
    "rf_model.fit(X_train, y_train)"
   ]
  },
  {
   "cell_type": "code",
   "execution_count": 95,
   "id": "b291c80c-56f9-4c90-b90c-eae443e35de6",
   "metadata": {},
   "outputs": [
    {
     "data": {
      "text/plain": [
       "0.8732744769363938"
      ]
     },
     "execution_count": 95,
     "metadata": {},
     "output_type": "execute_result"
    }
   ],
   "source": [
    "rf_model.score(X_train, y_train)"
   ]
  },
  {
   "cell_type": "code",
   "execution_count": 96,
   "id": "e46c205e-1d32-4589-a183-2d6036ab7167",
   "metadata": {},
   "outputs": [
    {
     "data": {
      "text/plain": [
       "0.27839849894648827"
      ]
     },
     "execution_count": 96,
     "metadata": {},
     "output_type": "execute_result"
    }
   ],
   "source": [
    "rf_model.score(X_test, y_test)"
   ]
  },
  {
   "cell_type": "code",
   "execution_count": 97,
   "id": "f458cd99-e9d5-4dc2-9b2e-bac4acd72362",
   "metadata": {},
   "outputs": [],
   "source": [
    "y_pred = rf_model.predict(X_test)"
   ]
  },
  {
   "cell_type": "code",
   "execution_count": 98,
   "id": "d2f8ca6b-bf61-4f43-a78a-a1d4da980a82",
   "metadata": {},
   "outputs": [
    {
     "name": "stdout",
     "output_type": "stream",
     "text": [
      "Explained variance score 0.27871554192089243 \n",
      " Mean absolute error      : 0.3049264083405611 \n",
      " Mean squared error       : 0.14492683425449357 \n",
      " R² score            : 0.27839849894648827\n"
     ]
    }
   ],
   "source": [
    "print('Explained variance score',explained_variance_score(y_test, y_pred),'\\n',\n",
    "   'Mean absolute error      :',mean_absolute_error(y_test, y_pred),'\\n',\n",
    "   'Mean squared error       :',mean_squared_error(y_test, y_pred),'\\n',\n",
    "   'R² score            :',r2_score(y_test, y_pred))"
   ]
  },
  {
   "cell_type": "code",
   "execution_count": 99,
   "id": "9b0011eb-4a1e-4ad4-aab4-45a818f0d141",
   "metadata": {},
   "outputs": [
    {
     "data": {
      "text/plain": [
       "array([5.67887768e-02, 3.99854135e-02, 2.03123787e-02, 2.00468504e-02,\n",
       "       2.92984704e-02, 3.17414892e-02, 7.82074369e-03, 2.12512942e-02,\n",
       "       1.26913032e-02, 1.37422280e-02, 3.08709892e-02, 2.97857320e-02,\n",
       "       1.45586882e-02, 1.01657993e-02, 1.03665234e-02, 5.25534274e-03,\n",
       "       1.88383184e-02, 6.62586100e-03, 3.61355720e-02, 5.45466127e-02,\n",
       "       3.10687245e-02, 2.84129987e-02, 2.99442388e-02, 2.10282209e-02,\n",
       "       1.12470697e-02, 2.11365389e-02, 1.00641525e-02, 7.85862752e-02,\n",
       "       2.09956223e-02, 1.07717989e-02, 1.26766251e-02, 9.78997167e-03,\n",
       "       4.66863624e-03, 6.30448779e-03, 7.76710651e-03, 1.37551405e-02,\n",
       "       7.30942716e-03, 1.17776469e-01, 1.66787162e-02, 1.28949665e-02,\n",
       "       4.28746657e-05, 4.89858551e-03, 3.66973830e-03, 1.47803429e-02,\n",
       "       1.12380091e-02, 7.46375219e-03, 1.42011234e-02])"
      ]
     },
     "execution_count": 99,
     "metadata": {},
     "output_type": "execute_result"
    }
   ],
   "source": [
    "rf_model.feature_importances_"
   ]
  },
  {
   "cell_type": "code",
   "execution_count": 100,
   "id": "feae4047-d270-4cbc-99d0-a87928929182",
   "metadata": {},
   "outputs": [],
   "source": [
    "rf_feature = pd.Series(index = X_train.columns, data = np.abs(rf_model.feature_importances_))"
   ]
  },
  {
   "cell_type": "code",
   "execution_count": 103,
   "id": "ebd2bfbc-16ba-4315-8e88-d1ec69598cb7",
   "metadata": {},
   "outputs": [
    {
     "data": {
      "text/plain": [
       "<AxesSubplot:>"
      ]
     },
     "execution_count": 103,
     "metadata": {},
     "output_type": "execute_result"
    },
    {
     "data": {
      "image/png": "[encoded data removed]",
      "text/plain": [
       "<Figure size 1152x576 with 1 Axes>"
      ]
     },
     "metadata": {
      "needs_background": "light"
     },
     "output_type": "display_data"
    }
   ],
   "source": [
    "rf_feature.sort_values().plot(kind = 'bar', figsize = (16, 8))"
   ]
  },
  {
   "cell_type": "code",
   "execution_count": null,
   "id": "f77711c8-6247-4233-8d1f-6c77b51a94a2",
   "metadata": {},
   "outputs": [],
   "source": []
  }
 ],
 "metadata": {
  "kernelspec": {
   "display_name": "Python 3",
   "language": "python",
   "name": "python3"
  },
  "language_info": {
   "codemirror_mode": {
    "name": "ipython",
    "version": 3
   },
   "file_extension": ".py",
   "mimetype": "text/x-python",
   "name": "python",
   "nbconvert_exporter": "python",
   "pygments_lexer": "ipython3",
   "version": "3.8.8"
  },
  "widgets": {
   "application/vnd.jupyter.widget-state+json": {
    "state": {},
    "version_major": 2,
    "version_minor": 0
   }
  }
 },
 "nbformat": 4,
 "nbformat_minor": 5
}
