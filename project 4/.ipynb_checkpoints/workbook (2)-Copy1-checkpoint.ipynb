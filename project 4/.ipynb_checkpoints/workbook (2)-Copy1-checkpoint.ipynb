{
 "cells": [
  {
   "cell_type": "markdown",
   "id": "8646238d-8fd3-4d13-9ea3-2ec989c64ca4",
   "metadata": {},
   "source": [
    "## Problem Statement\n",
    "What should the TFI company take into consideration when investing on a new restaurant that is highly profitable."
   ]
  },
  {
   "cell_type": "markdown",
   "id": "415da071-981b-49c2-98e1-906478617d5d",
   "metadata": {},
   "source": [
    "### _Imports_"
   ]
  },
  {
   "cell_type": "code",
   "execution_count": 53,
   "id": "5160bafb-736e-40c0-a2a8-79542988353d",
   "metadata": {},
   "outputs": [],
   "source": [
    "import pandas as pd\n",
    "import matplotlib.pyplot as plt\n",
    "import seaborn as sns\n",
    "import numpy as np\n",
    "from scipy.stats import ttest_ind\n",
    "from sklearn.model_selection import train_test_split\n",
    "import statsmodels.api as sm\n",
    "from sklearn.linear_model import LinearRegression\n",
    "from sklearn.linear_model import LogisticRegression"
   ]
  },
  {
   "cell_type": "code",
   "execution_count": 2,
   "id": "dec4ef5e-2aca-425a-b6de-9a487ec419f2",
   "metadata": {},
   "outputs": [],
   "source": [
    "data = pd.read_csv('./data/train.csv')"
   ]
  },
  {
   "cell_type": "code",
   "execution_count": 3,
   "id": "5ef9887d-11d9-46e0-8312-ecd94c54356d",
   "metadata": {},
   "outputs": [],
   "source": [
    "test = pd.read_csv('./data/test.csv')"
   ]
  },
  {
   "cell_type": "markdown",
   "id": "9ed819a5-7a79-42f0-80a6-77c645d87b57",
   "metadata": {},
   "source": [
    "### _Reading the Data_"
   ]
  },
  {
   "cell_type": "code",
   "execution_count": 4,
   "id": "8c5e614a-a51d-4682-abc2-a9527a47ab8c",
   "metadata": {},
   "outputs": [
    {
     "data": {
      "text/html": [
       "<div>\n",
       "<style scoped>\n",
       "    .dataframe tbody tr th:only-of-type {\n",
       "        vertical-align: middle;\n",
       "    }\n",
       "\n",
       "    .dataframe tbody tr th {\n",
       "        vertical-align: top;\n",
       "    }\n",
       "\n",
       "    .dataframe thead th {\n",
       "        text-align: right;\n",
       "    }\n",
       "</style>\n",
       "<table border=\"1\" class=\"dataframe\">\n",
       "  <thead>\n",
       "    <tr style=\"text-align: right;\">\n",
       "      <th></th>\n",
       "      <th>Id</th>\n",
       "      <th>Open Date</th>\n",
       "      <th>City</th>\n",
       "      <th>City Group</th>\n",
       "      <th>Type</th>\n",
       "      <th>P1</th>\n",
       "      <th>P2</th>\n",
       "      <th>P3</th>\n",
       "      <th>P4</th>\n",
       "      <th>P5</th>\n",
       "      <th>...</th>\n",
       "      <th>P29</th>\n",
       "      <th>P30</th>\n",
       "      <th>P31</th>\n",
       "      <th>P32</th>\n",
       "      <th>P33</th>\n",
       "      <th>P34</th>\n",
       "      <th>P35</th>\n",
       "      <th>P36</th>\n",
       "      <th>P37</th>\n",
       "      <th>revenue</th>\n",
       "    </tr>\n",
       "  </thead>\n",
       "  <tbody>\n",
       "    <tr>\n",
       "      <th>0</th>\n",
       "      <td>0</td>\n",
       "      <td>07/17/1999</td>\n",
       "      <td>İstanbul</td>\n",
       "      <td>Big Cities</td>\n",
       "      <td>IL</td>\n",
       "      <td>4</td>\n",
       "      <td>5.0</td>\n",
       "      <td>4.0</td>\n",
       "      <td>4.0</td>\n",
       "      <td>2</td>\n",
       "      <td>...</td>\n",
       "      <td>3.0</td>\n",
       "      <td>5</td>\n",
       "      <td>3</td>\n",
       "      <td>4</td>\n",
       "      <td>5</td>\n",
       "      <td>5</td>\n",
       "      <td>4</td>\n",
       "      <td>3</td>\n",
       "      <td>4</td>\n",
       "      <td>5653753.0</td>\n",
       "    </tr>\n",
       "    <tr>\n",
       "      <th>1</th>\n",
       "      <td>1</td>\n",
       "      <td>02/14/2008</td>\n",
       "      <td>Ankara</td>\n",
       "      <td>Big Cities</td>\n",
       "      <td>FC</td>\n",
       "      <td>4</td>\n",
       "      <td>5.0</td>\n",
       "      <td>4.0</td>\n",
       "      <td>4.0</td>\n",
       "      <td>1</td>\n",
       "      <td>...</td>\n",
       "      <td>3.0</td>\n",
       "      <td>0</td>\n",
       "      <td>0</td>\n",
       "      <td>0</td>\n",
       "      <td>0</td>\n",
       "      <td>0</td>\n",
       "      <td>0</td>\n",
       "      <td>0</td>\n",
       "      <td>0</td>\n",
       "      <td>6923131.0</td>\n",
       "    </tr>\n",
       "    <tr>\n",
       "      <th>2</th>\n",
       "      <td>2</td>\n",
       "      <td>03/09/2013</td>\n",
       "      <td>Diyarbakır</td>\n",
       "      <td>Other</td>\n",
       "      <td>IL</td>\n",
       "      <td>2</td>\n",
       "      <td>4.0</td>\n",
       "      <td>2.0</td>\n",
       "      <td>5.0</td>\n",
       "      <td>2</td>\n",
       "      <td>...</td>\n",
       "      <td>3.0</td>\n",
       "      <td>0</td>\n",
       "      <td>0</td>\n",
       "      <td>0</td>\n",
       "      <td>0</td>\n",
       "      <td>0</td>\n",
       "      <td>0</td>\n",
       "      <td>0</td>\n",
       "      <td>0</td>\n",
       "      <td>2055379.0</td>\n",
       "    </tr>\n",
       "    <tr>\n",
       "      <th>3</th>\n",
       "      <td>3</td>\n",
       "      <td>02/02/2012</td>\n",
       "      <td>Tokat</td>\n",
       "      <td>Other</td>\n",
       "      <td>IL</td>\n",
       "      <td>6</td>\n",
       "      <td>4.5</td>\n",
       "      <td>6.0</td>\n",
       "      <td>6.0</td>\n",
       "      <td>4</td>\n",
       "      <td>...</td>\n",
       "      <td>7.5</td>\n",
       "      <td>25</td>\n",
       "      <td>12</td>\n",
       "      <td>10</td>\n",
       "      <td>6</td>\n",
       "      <td>18</td>\n",
       "      <td>12</td>\n",
       "      <td>12</td>\n",
       "      <td>6</td>\n",
       "      <td>2675511.0</td>\n",
       "    </tr>\n",
       "    <tr>\n",
       "      <th>4</th>\n",
       "      <td>4</td>\n",
       "      <td>05/09/2009</td>\n",
       "      <td>Gaziantep</td>\n",
       "      <td>Other</td>\n",
       "      <td>IL</td>\n",
       "      <td>3</td>\n",
       "      <td>4.0</td>\n",
       "      <td>3.0</td>\n",
       "      <td>4.0</td>\n",
       "      <td>2</td>\n",
       "      <td>...</td>\n",
       "      <td>3.0</td>\n",
       "      <td>5</td>\n",
       "      <td>1</td>\n",
       "      <td>3</td>\n",
       "      <td>2</td>\n",
       "      <td>3</td>\n",
       "      <td>4</td>\n",
       "      <td>3</td>\n",
       "      <td>3</td>\n",
       "      <td>4316715.0</td>\n",
       "    </tr>\n",
       "  </tbody>\n",
       "</table>\n",
       "<p>5 rows × 43 columns</p>\n",
       "</div>"
      ],
      "text/plain": [
       "   Id   Open Date        City  City Group Type  P1   P2   P3   P4  P5  ...  \\\n",
       "0   0  07/17/1999    İstanbul  Big Cities   IL   4  5.0  4.0  4.0   2  ...   \n",
       "1   1  02/14/2008      Ankara  Big Cities   FC   4  5.0  4.0  4.0   1  ...   \n",
       "2   2  03/09/2013  Diyarbakır       Other   IL   2  4.0  2.0  5.0   2  ...   \n",
       "3   3  02/02/2012       Tokat       Other   IL   6  4.5  6.0  6.0   4  ...   \n",
       "4   4  05/09/2009   Gaziantep       Other   IL   3  4.0  3.0  4.0   2  ...   \n",
       "\n",
       "   P29  P30  P31  P32  P33  P34  P35  P36  P37    revenue  \n",
       "0  3.0    5    3    4    5    5    4    3    4  5653753.0  \n",
       "1  3.0    0    0    0    0    0    0    0    0  6923131.0  \n",
       "2  3.0    0    0    0    0    0    0    0    0  2055379.0  \n",
       "3  7.5   25   12   10    6   18   12   12    6  2675511.0  \n",
       "4  3.0    5    1    3    2    3    4    3    3  4316715.0  \n",
       "\n",
       "[5 rows x 43 columns]"
      ]
     },
     "execution_count": 4,
     "metadata": {},
     "output_type": "execute_result"
    }
   ],
   "source": [
    "data.head()"
   ]
  },
  {
   "cell_type": "code",
   "execution_count": null,
   "id": "e7dcb832-a297-4c7f-b91c-6f1d7849cf8a",
   "metadata": {},
   "outputs": [],
   "source": []
  },
  {
   "cell_type": "code",
   "execution_count": 5,
   "id": "ffc9446d-4213-4583-9368-45e178847a3a",
   "metadata": {},
   "outputs": [
    {
     "data": {
      "text/plain": [
       "(100000, 42)"
      ]
     },
     "execution_count": 5,
     "metadata": {},
     "output_type": "execute_result"
    }
   ],
   "source": [
    "test.shape"
   ]
  },
  {
   "cell_type": "code",
   "execution_count": 5,
   "id": "1f42d8a3-f029-4434-9e3f-75a55fb2662c",
   "metadata": {},
   "outputs": [
    {
     "data": {
      "text/html": [
       "<div>\n",
       "<style scoped>\n",
       "    .dataframe tbody tr th:only-of-type {\n",
       "        vertical-align: middle;\n",
       "    }\n",
       "\n",
       "    .dataframe tbody tr th {\n",
       "        vertical-align: top;\n",
       "    }\n",
       "\n",
       "    .dataframe thead th {\n",
       "        text-align: right;\n",
       "    }\n",
       "</style>\n",
       "<table border=\"1\" class=\"dataframe\">\n",
       "  <thead>\n",
       "    <tr style=\"text-align: right;\">\n",
       "      <th></th>\n",
       "      <th>Id</th>\n",
       "      <th>Open Date</th>\n",
       "      <th>City</th>\n",
       "      <th>City Group</th>\n",
       "      <th>Type</th>\n",
       "      <th>P1</th>\n",
       "      <th>P2</th>\n",
       "      <th>P3</th>\n",
       "      <th>P4</th>\n",
       "      <th>P5</th>\n",
       "      <th>...</th>\n",
       "      <th>P28</th>\n",
       "      <th>P29</th>\n",
       "      <th>P30</th>\n",
       "      <th>P31</th>\n",
       "      <th>P32</th>\n",
       "      <th>P33</th>\n",
       "      <th>P34</th>\n",
       "      <th>P35</th>\n",
       "      <th>P36</th>\n",
       "      <th>P37</th>\n",
       "    </tr>\n",
       "  </thead>\n",
       "  <tbody>\n",
       "    <tr>\n",
       "      <th>0</th>\n",
       "      <td>0</td>\n",
       "      <td>01/22/2011</td>\n",
       "      <td>Niğde</td>\n",
       "      <td>Other</td>\n",
       "      <td>FC</td>\n",
       "      <td>1</td>\n",
       "      <td>4.0</td>\n",
       "      <td>4.0</td>\n",
       "      <td>4.0</td>\n",
       "      <td>1</td>\n",
       "      <td>...</td>\n",
       "      <td>2.0</td>\n",
       "      <td>3.0</td>\n",
       "      <td>0</td>\n",
       "      <td>0</td>\n",
       "      <td>0</td>\n",
       "      <td>0</td>\n",
       "      <td>0</td>\n",
       "      <td>0</td>\n",
       "      <td>0</td>\n",
       "      <td>0</td>\n",
       "    </tr>\n",
       "    <tr>\n",
       "      <th>1</th>\n",
       "      <td>1</td>\n",
       "      <td>03/18/2011</td>\n",
       "      <td>Konya</td>\n",
       "      <td>Other</td>\n",
       "      <td>IL</td>\n",
       "      <td>3</td>\n",
       "      <td>4.0</td>\n",
       "      <td>4.0</td>\n",
       "      <td>4.0</td>\n",
       "      <td>2</td>\n",
       "      <td>...</td>\n",
       "      <td>1.0</td>\n",
       "      <td>3.0</td>\n",
       "      <td>0</td>\n",
       "      <td>0</td>\n",
       "      <td>0</td>\n",
       "      <td>0</td>\n",
       "      <td>0</td>\n",
       "      <td>0</td>\n",
       "      <td>0</td>\n",
       "      <td>0</td>\n",
       "    </tr>\n",
       "    <tr>\n",
       "      <th>2</th>\n",
       "      <td>2</td>\n",
       "      <td>10/30/2013</td>\n",
       "      <td>Ankara</td>\n",
       "      <td>Big Cities</td>\n",
       "      <td>FC</td>\n",
       "      <td>3</td>\n",
       "      <td>4.0</td>\n",
       "      <td>4.0</td>\n",
       "      <td>4.0</td>\n",
       "      <td>2</td>\n",
       "      <td>...</td>\n",
       "      <td>2.0</td>\n",
       "      <td>3.0</td>\n",
       "      <td>0</td>\n",
       "      <td>0</td>\n",
       "      <td>0</td>\n",
       "      <td>0</td>\n",
       "      <td>0</td>\n",
       "      <td>0</td>\n",
       "      <td>0</td>\n",
       "      <td>0</td>\n",
       "    </tr>\n",
       "    <tr>\n",
       "      <th>3</th>\n",
       "      <td>3</td>\n",
       "      <td>05/06/2013</td>\n",
       "      <td>Kocaeli</td>\n",
       "      <td>Other</td>\n",
       "      <td>IL</td>\n",
       "      <td>2</td>\n",
       "      <td>4.0</td>\n",
       "      <td>4.0</td>\n",
       "      <td>4.0</td>\n",
       "      <td>2</td>\n",
       "      <td>...</td>\n",
       "      <td>2.0</td>\n",
       "      <td>3.0</td>\n",
       "      <td>0</td>\n",
       "      <td>4</td>\n",
       "      <td>0</td>\n",
       "      <td>0</td>\n",
       "      <td>0</td>\n",
       "      <td>0</td>\n",
       "      <td>0</td>\n",
       "      <td>0</td>\n",
       "    </tr>\n",
       "    <tr>\n",
       "      <th>4</th>\n",
       "      <td>4</td>\n",
       "      <td>07/31/2013</td>\n",
       "      <td>Afyonkarahisar</td>\n",
       "      <td>Other</td>\n",
       "      <td>FC</td>\n",
       "      <td>2</td>\n",
       "      <td>4.0</td>\n",
       "      <td>4.0</td>\n",
       "      <td>4.0</td>\n",
       "      <td>1</td>\n",
       "      <td>...</td>\n",
       "      <td>5.0</td>\n",
       "      <td>3.0</td>\n",
       "      <td>0</td>\n",
       "      <td>0</td>\n",
       "      <td>0</td>\n",
       "      <td>0</td>\n",
       "      <td>0</td>\n",
       "      <td>0</td>\n",
       "      <td>0</td>\n",
       "      <td>0</td>\n",
       "    </tr>\n",
       "  </tbody>\n",
       "</table>\n",
       "<p>5 rows × 42 columns</p>\n",
       "</div>"
      ],
      "text/plain": [
       "   Id   Open Date            City  City Group Type  P1   P2   P3   P4  P5  \\\n",
       "0   0  01/22/2011           Niğde       Other   FC   1  4.0  4.0  4.0   1   \n",
       "1   1  03/18/2011           Konya       Other   IL   3  4.0  4.0  4.0   2   \n",
       "2   2  10/30/2013          Ankara  Big Cities   FC   3  4.0  4.0  4.0   2   \n",
       "3   3  05/06/2013         Kocaeli       Other   IL   2  4.0  4.0  4.0   2   \n",
       "4   4  07/31/2013  Afyonkarahisar       Other   FC   2  4.0  4.0  4.0   1   \n",
       "\n",
       "   ...  P28  P29  P30  P31  P32  P33  P34  P35  P36  P37  \n",
       "0  ...  2.0  3.0    0    0    0    0    0    0    0    0  \n",
       "1  ...  1.0  3.0    0    0    0    0    0    0    0    0  \n",
       "2  ...  2.0  3.0    0    0    0    0    0    0    0    0  \n",
       "3  ...  2.0  3.0    0    4    0    0    0    0    0    0  \n",
       "4  ...  5.0  3.0    0    0    0    0    0    0    0    0  \n",
       "\n",
       "[5 rows x 42 columns]"
      ]
     },
     "execution_count": 5,
     "metadata": {},
     "output_type": "execute_result"
    }
   ],
   "source": [
    "test.head()"
   ]
  },
  {
   "cell_type": "code",
   "execution_count": 7,
   "id": "e57901f1-6087-4072-9bc0-830b1ff93273",
   "metadata": {},
   "outputs": [
    {
     "data": {
      "text/plain": [
       "(137, 43)"
      ]
     },
     "execution_count": 7,
     "metadata": {},
     "output_type": "execute_result"
    }
   ],
   "source": [
    "data.shape"
   ]
  },
  {
   "cell_type": "code",
   "execution_count": 6,
   "id": "0ca27476-c029-4617-ba84-ad5a782772a8",
   "metadata": {},
   "outputs": [
    {
     "data": {
      "text/plain": [
       "array(['Big Cities', 'Other'], dtype=object)"
      ]
     },
     "execution_count": 6,
     "metadata": {},
     "output_type": "execute_result"
    }
   ],
   "source": [
    "data['City Group'].unique() "
   ]
  },
  {
   "cell_type": "code",
   "execution_count": 7,
   "id": "32eae051-07b3-4162-86df-7637fbe631ef",
   "metadata": {},
   "outputs": [],
   "source": [
    "def missing_values(data): # function to check missing value \n",
    "        mis_total = data.isnull().sum()\n",
    "        mis_pct = 100 * data.isnull().sum() / len(data)\n",
    "        mis_value_table = pd.concat([mis_total, mis_pct], axis = 1)\n",
    "        mis_value_table_columns = mis_value_table.rename(columns = {0 : 'No. of Missing Value', 1 : '% of Total Missing Value'})\n",
    "        \n",
    "        mis_value_table_columns = mis_value_table_columns[mis_value_table_columns.iloc[:,1] != 0].sort_values('% of Total Missing Value', ascending = False).round(2)\n",
    "        return mis_value_table_columns"
   ]
  },
  {
   "cell_type": "code",
   "execution_count": 10,
   "id": "b6c2fe33-a81a-4f6c-9f83-665f0183fc1b",
   "metadata": {},
   "outputs": [
    {
     "data": {
      "text/html": [
       "<div>\n",
       "<style scoped>\n",
       "    .dataframe tbody tr th:only-of-type {\n",
       "        vertical-align: middle;\n",
       "    }\n",
       "\n",
       "    .dataframe tbody tr th {\n",
       "        vertical-align: top;\n",
       "    }\n",
       "\n",
       "    .dataframe thead th {\n",
       "        text-align: right;\n",
       "    }\n",
       "</style>\n",
       "<table border=\"1\" class=\"dataframe\">\n",
       "  <thead>\n",
       "    <tr style=\"text-align: right;\">\n",
       "      <th></th>\n",
       "      <th>No. of Missing Value</th>\n",
       "      <th>% of Total Missing Value</th>\n",
       "    </tr>\n",
       "  </thead>\n",
       "  <tbody>\n",
       "  </tbody>\n",
       "</table>\n",
       "</div>"
      ],
      "text/plain": [
       "Empty DataFrame\n",
       "Columns: [No. of Missing Value, % of Total Missing Value]\n",
       "Index: []"
      ]
     },
     "execution_count": 10,
     "metadata": {},
     "output_type": "execute_result"
    }
   ],
   "source": [
    "missing_values(data) # No missing values on training data. (No NaNs)"
   ]
  },
  {
   "cell_type": "code",
   "execution_count": 8,
   "id": "0fd200ec-2680-4670-b824-3f20e4163ab9",
   "metadata": {},
   "outputs": [
    {
     "data": {
      "text/html": [
       "<div>\n",
       "<style scoped>\n",
       "    .dataframe tbody tr th:only-of-type {\n",
       "        vertical-align: middle;\n",
       "    }\n",
       "\n",
       "    .dataframe tbody tr th {\n",
       "        vertical-align: top;\n",
       "    }\n",
       "\n",
       "    .dataframe thead th {\n",
       "        text-align: right;\n",
       "    }\n",
       "</style>\n",
       "<table border=\"1\" class=\"dataframe\">\n",
       "  <thead>\n",
       "    <tr style=\"text-align: right;\">\n",
       "      <th></th>\n",
       "      <th>No. of Missing Value</th>\n",
       "      <th>% of Total Missing Value</th>\n",
       "    </tr>\n",
       "  </thead>\n",
       "  <tbody>\n",
       "  </tbody>\n",
       "</table>\n",
       "</div>"
      ],
      "text/plain": [
       "Empty DataFrame\n",
       "Columns: [No. of Missing Value, % of Total Missing Value]\n",
       "Index: []"
      ]
     },
     "execution_count": 8,
     "metadata": {},
     "output_type": "execute_result"
    }
   ],
   "source": [
    "missing_values(test) # No missing values on testing data. "
   ]
  },
  {
   "cell_type": "code",
   "execution_count": 9,
   "id": "e166af98-abfd-4a2e-bca0-196f8355ef1f",
   "metadata": {},
   "outputs": [
    {
     "data": {
      "text/plain": [
       "Id              int64\n",
       "Open Date      object\n",
       "City           object\n",
       "City Group     object\n",
       "Type           object\n",
       "P1              int64\n",
       "P2            float64\n",
       "P3            float64\n",
       "P4            float64\n",
       "P5              int64\n",
       "P6              int64\n",
       "P7              int64\n",
       "P8              int64\n",
       "P9              int64\n",
       "P10             int64\n",
       "P11             int64\n",
       "P12             int64\n",
       "P13           float64\n",
       "P14             int64\n",
       "P15             int64\n",
       "P16             int64\n",
       "P17             int64\n",
       "P18             int64\n",
       "P19             int64\n",
       "P20             int64\n",
       "P21             int64\n",
       "P22             int64\n",
       "P23             int64\n",
       "P24             int64\n",
       "P25             int64\n",
       "P26           float64\n",
       "P27           float64\n",
       "P28           float64\n",
       "P29           float64\n",
       "P30             int64\n",
       "P31             int64\n",
       "P32             int64\n",
       "P33             int64\n",
       "P34             int64\n",
       "P35             int64\n",
       "P36             int64\n",
       "P37             int64\n",
       "revenue       float64\n",
       "dtype: object"
      ]
     },
     "execution_count": 9,
     "metadata": {},
     "output_type": "execute_result"
    }
   ],
   "source": [
    "data.dtypes"
   ]
  },
  {
   "cell_type": "code",
   "execution_count": 13,
   "id": "a38bb07b-ffd2-4590-a893-5f7026e601a4",
   "metadata": {},
   "outputs": [
    {
     "data": {
      "text/plain": [
       "array(['İstanbul', 'Ankara', 'Diyarbakır', 'Tokat', 'Gaziantep',\n",
       "       'Afyonkarahisar', 'Edirne', 'Kocaeli', 'Bursa', 'İzmir', 'Sakarya',\n",
       "       'Elazığ', 'Kayseri', 'Eskişehir', 'Şanlıurfa', 'Samsun', 'Adana',\n",
       "       'Antalya', 'Kastamonu', 'Uşak', 'Muğla', 'Kırklareli', 'Konya',\n",
       "       'Karabük', 'Tekirdağ', 'Denizli', 'Balıkesir', 'Aydın', 'Amasya',\n",
       "       'Kütahya', 'Bolu', 'Trabzon', 'Isparta', 'Osmaniye'], dtype=object)"
      ]
     },
     "execution_count": 13,
     "metadata": {},
     "output_type": "execute_result"
    }
   ],
   "source": [
    "data['City'].unique()"
   ]
  },
  {
   "cell_type": "code",
   "execution_count": 14,
   "id": "f8e1d9eb-4ade-47e0-a2b3-7478b46545e5",
   "metadata": {},
   "outputs": [
    {
     "data": {
      "text/plain": [
       "array(['FC', 'IL', 'DT', 'MB'], dtype=object)"
      ]
     },
     "execution_count": 14,
     "metadata": {},
     "output_type": "execute_result"
    }
   ],
   "source": [
    "test['Type'].unique()"
   ]
  },
  {
   "cell_type": "code",
   "execution_count": 10,
   "id": "8d1dbd2b-5745-4d6a-b45e-337454d3247f",
   "metadata": {},
   "outputs": [
    {
     "data": {
      "image/png": "[encoded data removed]",
      "text/plain": [
       "<Figure size 1152x720 with 1 Axes>"
      ]
     },
     "metadata": {
      "needs_background": "light"
     },
     "output_type": "display_data"
    }
   ],
   "source": [
    "plt.figure (figsize = (16, 10))\n",
    "test['City'].value_counts().plot(kind = 'barh')\n",
    "plt.show()"
   ]
  },
  {
   "cell_type": "code",
   "execution_count": 11,
   "id": "aae2b1ed-3d32-4d51-bff9-d305209706c0",
   "metadata": {},
   "outputs": [],
   "source": [
    "data = data.drop('Id', axis = 1)"
   ]
  },
  {
   "cell_type": "code",
   "execution_count": 12,
   "id": "e0f4ded5-be58-43bf-a54b-995176b6739b",
   "metadata": {},
   "outputs": [
    {
     "data": {
      "text/html": [
       "<div>\n",
       "<style scoped>\n",
       "    .dataframe tbody tr th:only-of-type {\n",
       "        vertical-align: middle;\n",
       "    }\n",
       "\n",
       "    .dataframe tbody tr th {\n",
       "        vertical-align: top;\n",
       "    }\n",
       "\n",
       "    .dataframe thead th {\n",
       "        text-align: right;\n",
       "    }\n",
       "</style>\n",
       "<table border=\"1\" class=\"dataframe\">\n",
       "  <thead>\n",
       "    <tr style=\"text-align: right;\">\n",
       "      <th></th>\n",
       "      <th>Open Date</th>\n",
       "      <th>City</th>\n",
       "      <th>City Group</th>\n",
       "      <th>Type</th>\n",
       "      <th>P1</th>\n",
       "      <th>P2</th>\n",
       "      <th>P3</th>\n",
       "      <th>P4</th>\n",
       "      <th>P5</th>\n",
       "      <th>P6</th>\n",
       "      <th>...</th>\n",
       "      <th>P29</th>\n",
       "      <th>P30</th>\n",
       "      <th>P31</th>\n",
       "      <th>P32</th>\n",
       "      <th>P33</th>\n",
       "      <th>P34</th>\n",
       "      <th>P35</th>\n",
       "      <th>P36</th>\n",
       "      <th>P37</th>\n",
       "      <th>revenue</th>\n",
       "    </tr>\n",
       "  </thead>\n",
       "  <tbody>\n",
       "    <tr>\n",
       "      <th>0</th>\n",
       "      <td>07/17/1999</td>\n",
       "      <td>İstanbul</td>\n",
       "      <td>Big Cities</td>\n",
       "      <td>IL</td>\n",
       "      <td>4</td>\n",
       "      <td>5.0</td>\n",
       "      <td>4.0</td>\n",
       "      <td>4.0</td>\n",
       "      <td>2</td>\n",
       "      <td>2</td>\n",
       "      <td>...</td>\n",
       "      <td>3.0</td>\n",
       "      <td>5</td>\n",
       "      <td>3</td>\n",
       "      <td>4</td>\n",
       "      <td>5</td>\n",
       "      <td>5</td>\n",
       "      <td>4</td>\n",
       "      <td>3</td>\n",
       "      <td>4</td>\n",
       "      <td>5653753.0</td>\n",
       "    </tr>\n",
       "    <tr>\n",
       "      <th>1</th>\n",
       "      <td>02/14/2008</td>\n",
       "      <td>Ankara</td>\n",
       "      <td>Big Cities</td>\n",
       "      <td>FC</td>\n",
       "      <td>4</td>\n",
       "      <td>5.0</td>\n",
       "      <td>4.0</td>\n",
       "      <td>4.0</td>\n",
       "      <td>1</td>\n",
       "      <td>2</td>\n",
       "      <td>...</td>\n",
       "      <td>3.0</td>\n",
       "      <td>0</td>\n",
       "      <td>0</td>\n",
       "      <td>0</td>\n",
       "      <td>0</td>\n",
       "      <td>0</td>\n",
       "      <td>0</td>\n",
       "      <td>0</td>\n",
       "      <td>0</td>\n",
       "      <td>6923131.0</td>\n",
       "    </tr>\n",
       "    <tr>\n",
       "      <th>2</th>\n",
       "      <td>03/09/2013</td>\n",
       "      <td>Diyarbakır</td>\n",
       "      <td>Other</td>\n",
       "      <td>IL</td>\n",
       "      <td>2</td>\n",
       "      <td>4.0</td>\n",
       "      <td>2.0</td>\n",
       "      <td>5.0</td>\n",
       "      <td>2</td>\n",
       "      <td>3</td>\n",
       "      <td>...</td>\n",
       "      <td>3.0</td>\n",
       "      <td>0</td>\n",
       "      <td>0</td>\n",
       "      <td>0</td>\n",
       "      <td>0</td>\n",
       "      <td>0</td>\n",
       "      <td>0</td>\n",
       "      <td>0</td>\n",
       "      <td>0</td>\n",
       "      <td>2055379.0</td>\n",
       "    </tr>\n",
       "    <tr>\n",
       "      <th>3</th>\n",
       "      <td>02/02/2012</td>\n",
       "      <td>Tokat</td>\n",
       "      <td>Other</td>\n",
       "      <td>IL</td>\n",
       "      <td>6</td>\n",
       "      <td>4.5</td>\n",
       "      <td>6.0</td>\n",
       "      <td>6.0</td>\n",
       "      <td>4</td>\n",
       "      <td>4</td>\n",
       "      <td>...</td>\n",
       "      <td>7.5</td>\n",
       "      <td>25</td>\n",
       "      <td>12</td>\n",
       "      <td>10</td>\n",
       "      <td>6</td>\n",
       "      <td>18</td>\n",
       "      <td>12</td>\n",
       "      <td>12</td>\n",
       "      <td>6</td>\n",
       "      <td>2675511.0</td>\n",
       "    </tr>\n",
       "    <tr>\n",
       "      <th>4</th>\n",
       "      <td>05/09/2009</td>\n",
       "      <td>Gaziantep</td>\n",
       "      <td>Other</td>\n",
       "      <td>IL</td>\n",
       "      <td>3</td>\n",
       "      <td>4.0</td>\n",
       "      <td>3.0</td>\n",
       "      <td>4.0</td>\n",
       "      <td>2</td>\n",
       "      <td>2</td>\n",
       "      <td>...</td>\n",
       "      <td>3.0</td>\n",
       "      <td>5</td>\n",
       "      <td>1</td>\n",
       "      <td>3</td>\n",
       "      <td>2</td>\n",
       "      <td>3</td>\n",
       "      <td>4</td>\n",
       "      <td>3</td>\n",
       "      <td>3</td>\n",
       "      <td>4316715.0</td>\n",
       "    </tr>\n",
       "  </tbody>\n",
       "</table>\n",
       "<p>5 rows × 42 columns</p>\n",
       "</div>"
      ],
      "text/plain": [
       "    Open Date        City  City Group Type  P1   P2   P3   P4  P5  P6  ...  \\\n",
       "0  07/17/1999    İstanbul  Big Cities   IL   4  5.0  4.0  4.0   2   2  ...   \n",
       "1  02/14/2008      Ankara  Big Cities   FC   4  5.0  4.0  4.0   1   2  ...   \n",
       "2  03/09/2013  Diyarbakır       Other   IL   2  4.0  2.0  5.0   2   3  ...   \n",
       "3  02/02/2012       Tokat       Other   IL   6  4.5  6.0  6.0   4   4  ...   \n",
       "4  05/09/2009   Gaziantep       Other   IL   3  4.0  3.0  4.0   2   2  ...   \n",
       "\n",
       "   P29  P30  P31  P32  P33  P34  P35  P36  P37    revenue  \n",
       "0  3.0    5    3    4    5    5    4    3    4  5653753.0  \n",
       "1  3.0    0    0    0    0    0    0    0    0  6923131.0  \n",
       "2  3.0    0    0    0    0    0    0    0    0  2055379.0  \n",
       "3  7.5   25   12   10    6   18   12   12    6  2675511.0  \n",
       "4  3.0    5    1    3    2    3    4    3    3  4316715.0  \n",
       "\n",
       "[5 rows x 42 columns]"
      ]
     },
     "execution_count": 12,
     "metadata": {},
     "output_type": "execute_result"
    }
   ],
   "source": [
    "data.head()"
   ]
  },
  {
   "cell_type": "code",
   "execution_count": 18,
   "id": "c6af7bdf-30e3-4bb0-955c-85695ab2f03c",
   "metadata": {},
   "outputs": [
    {
     "data": {
      "text/plain": [
       "<AxesSubplot:>"
      ]
     },
     "execution_count": 18,
     "metadata": {},
     "output_type": "execute_result"
    },
    {
     "data": {
      "image/png": "[encoded data removed]",
      "text/plain": [
       "<Figure size 432x288 with 2 Axes>"
      ]
     },
     "metadata": {
      "needs_background": "light"
     },
     "output_type": "display_data"
    }
   ],
   "source": [
    "sns.heatmap(data.corr()[['revenue']].sort_values(by = 'revenue', key = abs, ascending = False))"
   ]
  },
  {
   "cell_type": "code",
   "execution_count": 13,
   "id": "ec415a8e-6cc5-4b4c-b5af-c2c3ca58f661",
   "metadata": {},
   "outputs": [],
   "source": [
    "con_var = []\n",
    "dis_var = []\n",
    "var_unique = data.nunique()\n",
    "for var,var_num in enumerate(var_unique):\n",
    "    if var_num>50:\n",
    "        con_var.append(var)\n",
    "    else:\n",
    "        dis_var.append(var)\n",
    "\n",
    "con_columns=[data.columns[i] for i in con_var ]\n",
    "dis_columns=[data.columns[i] for i in dis_var ]"
   ]
  },
  {
   "cell_type": "code",
   "execution_count": 14,
   "id": "fad2fbef-b9ab-4b4c-98c0-37104bbdd05f",
   "metadata": {},
   "outputs": [
    {
     "data": {
      "text/plain": [
       "['City',\n",
       " 'City Group',\n",
       " 'Type',\n",
       " 'P1',\n",
       " 'P2',\n",
       " 'P3',\n",
       " 'P4',\n",
       " 'P5',\n",
       " 'P6',\n",
       " 'P7',\n",
       " 'P8',\n",
       " 'P9',\n",
       " 'P10',\n",
       " 'P11',\n",
       " 'P12',\n",
       " 'P13',\n",
       " 'P14',\n",
       " 'P15',\n",
       " 'P16',\n",
       " 'P17',\n",
       " 'P18',\n",
       " 'P19',\n",
       " 'P20',\n",
       " 'P21',\n",
       " 'P22',\n",
       " 'P23',\n",
       " 'P24',\n",
       " 'P25',\n",
       " 'P26',\n",
       " 'P27',\n",
       " 'P28',\n",
       " 'P29',\n",
       " 'P30',\n",
       " 'P31',\n",
       " 'P32',\n",
       " 'P33',\n",
       " 'P34',\n",
       " 'P35',\n",
       " 'P36',\n",
       " 'P37']"
      ]
     },
     "execution_count": 14,
     "metadata": {},
     "output_type": "execute_result"
    }
   ],
   "source": [
    "dis_columns"
   ]
  },
  {
   "cell_type": "code",
   "execution_count": 15,
   "id": "b06b5420-c6c6-4cc2-9594-f671e97dbb5a",
   "metadata": {},
   "outputs": [],
   "source": [
    "dis_columns.append('revenue')"
   ]
  },
  {
   "cell_type": "code",
   "execution_count": 16,
   "id": "7eb7d180-8aca-4170-a218-0948d8e8df42",
   "metadata": {},
   "outputs": [
    {
     "data": {
      "text/plain": [
       "revenue    1.000000\n",
       "P28        0.312546\n",
       "P2         0.256816\n",
       "P1         0.231995\n",
       "P6         0.225137\n",
       "P21        0.205224\n",
       "P20        0.139311\n",
       "P17        0.124630\n",
       "P7         0.123679\n",
       "P23        0.120974\n",
       "P25        0.115898\n",
       "P19        0.106200\n",
       "P14        0.096887\n",
       "P24        0.094468\n",
       "P11        0.091662\n",
       "P36        0.089499\n",
       "P26        0.089063\n",
       "P18        0.086527\n",
       "P37        0.084253\n",
       "P15        0.081093\n",
       "P16        0.079581\n",
       "P35        0.077735\n",
       "P22        0.075532\n",
       "P31        0.075095\n",
       "P27        0.075008\n",
       "P34        0.072422\n",
       "P33        0.070216\n",
       "P30        0.060424\n",
       "P32        0.059489\n",
       "P4         0.043871\n",
       "P3         0.027661\n",
       "P9         0.019553\n",
       "P12        0.018897\n",
       "P5        -0.017929\n",
       "P8        -0.034094\n",
       "P13       -0.048885\n",
       "P29       -0.048981\n",
       "P10       -0.049512\n",
       "Name: revenue, dtype: float64"
      ]
     },
     "execution_count": 16,
     "metadata": {},
     "output_type": "execute_result"
    }
   ],
   "source": [
    "spearman = data[dis_columns].corr(method ='spearman')\n",
    "spearman_corr = spearman['revenue'].sort_values(ascending = False)\n",
    "spearman_corr"
   ]
  },
  {
   "cell_type": "code",
   "execution_count": 20,
   "id": "e9b743c8",
   "metadata": {},
   "outputs": [
    {
     "data": {
      "text/plain": [
       "Ttest_indResult(statistic=-20.235161610541137, pvalue=3.5249391439496716e-56)"
      ]
     },
     "execution_count": 20,
     "metadata": {},
     "output_type": "execute_result"
    }
   ],
   "source": [
    "ttest_ind(data['P28'],data['revenue'])"
   ]
  },
  {
   "cell_type": "code",
   "execution_count": 23,
   "id": "e1831a93-6273-4eac-b20e-2143c1b53c75",
   "metadata": {},
   "outputs": [
    {
     "data": {
      "text/plain": [
       "City           34\n",
       "City Group      2\n",
       "Type            3\n",
       "P1              8\n",
       "P2              8\n",
       "P3              8\n",
       "P4              6\n",
       "P5              7\n",
       "P6              8\n",
       "P7              6\n",
       "P8              8\n",
       "P9              4\n",
       "P10             4\n",
       "P11             8\n",
       "P12             7\n",
       "P13             5\n",
       "P14            10\n",
       "P15             8\n",
       "P16             9\n",
       "P17             9\n",
       "P18             7\n",
       "P19             9\n",
       "P20             9\n",
       "P21             8\n",
       "P22             5\n",
       "P23             9\n",
       "P24             9\n",
       "P25             8\n",
       "P26            10\n",
       "P27             9\n",
       "P28             9\n",
       "P29             7\n",
       "P30             9\n",
       "P31            10\n",
       "P32            10\n",
       "P33             6\n",
       "P34             8\n",
       "P35             8\n",
       "P36             8\n",
       "P37             8\n",
       "revenue       137\n",
       "dtype: int64"
      ]
     },
     "execution_count": 23,
     "metadata": {},
     "output_type": "execute_result"
    }
   ],
   "source": [
    "data[dis_columns].apply(pd.Series.nunique, axis = 0)"
   ]
  },
  {
   "cell_type": "code",
   "execution_count": 24,
   "id": "cf1c0414-3384-4bc5-a038-66949e40e119",
   "metadata": {},
   "outputs": [
    {
     "data": {
      "image/png": "[encoded data removed]",
      "text/plain": [
       "<Figure size 2592x1440 with 42 Axes>"
      ]
     },
     "metadata": {
      "needs_background": "light"
     },
     "output_type": "display_data"
    }
   ],
   "source": [
    "test.hist(figsize = (36,20));"
   ]
  },
  {
   "cell_type": "code",
   "execution_count": 25,
   "id": "aeae1347-ae75-456c-b479-00b914ad3bf7",
   "metadata": {},
   "outputs": [
    {
     "name": "stderr",
     "output_type": "stream",
     "text": [
      "C:\\Users\\irene\\anaconda3\\envs\\dsirfx_py38\\lib\\site-packages\\seaborn\\distributions.py:2557: FutureWarning: `distplot` is a deprecated function and will be removed in a future version. Please adapt your code to use either `displot` (a figure-level function with similar flexibility) or `histplot` (an axes-level function for histograms).\n",
      "  warnings.warn(msg, FutureWarning)\n"
     ]
    },
    {
     "data": {
      "image/png": "[encoded data removed]",
      "text/plain": [
       "<Figure size 432x288 with 1 Axes>"
      ]
     },
     "metadata": {
      "needs_background": "light"
     },
     "output_type": "display_data"
    }
   ],
   "source": [
    "sns.distplot(data['revenue']);"
   ]
  },
  {
   "cell_type": "code",
   "execution_count": 26,
   "id": "c45d7aec-2d1f-4a93-8a70-f96f8aacc63f",
   "metadata": {},
   "outputs": [],
   "source": [
    " data['revenue'] = np.log1p(data['revenue']) # log transformation. "
   ]
  },
  {
   "cell_type": "code",
   "execution_count": 27,
   "id": "c13a8716-9621-4ebb-8737-fd1f9c4a664a",
   "metadata": {},
   "outputs": [
    {
     "name": "stderr",
     "output_type": "stream",
     "text": [
      "C:\\Users\\irene\\anaconda3\\envs\\dsirfx_py38\\lib\\site-packages\\seaborn\\distributions.py:2557: FutureWarning: `distplot` is a deprecated function and will be removed in a future version. Please adapt your code to use either `displot` (a figure-level function with similar flexibility) or `histplot` (an axes-level function for histograms).\n",
      "  warnings.warn(msg, FutureWarning)\n"
     ]
    },
    {
     "data": {
      "text/plain": [
       "<AxesSubplot:xlabel='revenue', ylabel='Density'>"
      ]
     },
     "execution_count": 27,
     "metadata": {},
     "output_type": "execute_result"
    },
    {
     "data": {
      "image/png": "[encoded data removed]",
      "text/plain": [
       "<Figure size 432x288 with 1 Axes>"
      ]
     },
     "metadata": {
      "needs_background": "light"
     },
     "output_type": "display_data"
    }
   ],
   "source": [
    "sns.distplot(data['revenue'])"
   ]
  },
  {
   "cell_type": "code",
   "execution_count": 28,
   "id": "78b350f0-38ad-4bac-8ea1-6677fb01175f",
   "metadata": {},
   "outputs": [
    {
     "data": {
      "image/png": "[encoded data removed]",
      "text/plain": [
       "<Figure size 1152x648 with 1 Axes>"
      ]
     },
     "metadata": {
      "needs_background": "light"
     },
     "output_type": "display_data"
    }
   ],
   "source": [
    "plt.figure (figsize = (16, 9))\n",
    "fig = sns.scatterplot(x=\"Type\", y=\"revenue\",s=50, alpha = 0.6,data=data);"
   ]
  },
  {
   "cell_type": "code",
   "execution_count": 29,
   "id": "9f4f08ab-7e9d-499d-b97d-dd5be006a0f4",
   "metadata": {},
   "outputs": [
    {
     "name": "stderr",
     "output_type": "stream",
     "text": [
      "C:\\Users\\irene\\anaconda3\\envs\\dsirfx_py38\\lib\\site-packages\\seaborn\\_decorators.py:36: FutureWarning: Pass the following variable as a keyword arg: x. From version 0.12, the only valid positional argument will be `data`, and passing other arguments without an explicit keyword will result in an error or misinterpretation.\n",
      "  warnings.warn(\n",
      "C:\\Users\\irene\\anaconda3\\envs\\dsirfx_py38\\lib\\site-packages\\seaborn\\_decorators.py:36: FutureWarning: Pass the following variable as a keyword arg: x. From version 0.12, the only valid positional argument will be `data`, and passing other arguments without an explicit keyword will result in an error or misinterpretation.\n",
      "  warnings.warn(\n",
      "<ipython-input-29-ad9c776c505d>:4: UserWarning: Matplotlib is currently using module://ipykernel.pylab.backend_inline, which is a non-GUI backend, so cannot show the figure.\n",
      "  fig.show();\n"
     ]
    },
    {
     "data": {
      "image/png": "[encoded data removed]",
      "text/plain": [
       "<Figure size 1152x576 with 2 Axes>"
      ]
     },
     "metadata": {
      "needs_background": "light"
     },
     "output_type": "display_data"
    }
   ],
   "source": [
    "fig, ax = plt.subplots(1, 2, figsize = (16,8))\n",
    "sns.countplot(data['Type'], ax = ax[0])\n",
    "sns.countplot(test['Type'], ax = ax[1])\n",
    "fig.show();"
   ]
  },
  {
   "cell_type": "code",
   "execution_count": 46,
   "id": "4a12d3e4-72a9-4ad8-b531-b658121a0dee",
   "metadata": {},
   "outputs": [],
   "source": [
    "X = data.drop(columns=['revenue','Open Date','City','City Group','Type'], axis=1)\n",
    "y= data['revenue']"
   ]
  },
  {
   "cell_type": "code",
   "execution_count": null,
   "id": "32020e25",
   "metadata": {},
   "outputs": [],
   "source": []
  },
  {
   "cell_type": "code",
   "execution_count": 47,
   "id": "7d2261ce-f760-4875-816b-3ff8893683e8",
   "metadata": {},
   "outputs": [],
   "source": [
    "X_train, X_test, y_train, y_test = train_test_split(X,y,test_size=0.2, random_state=42)"
   ]
  },
  {
   "cell_type": "code",
   "execution_count": 40,
   "id": "c6b35f73",
   "metadata": {},
   "outputs": [
    {
     "data": {
      "text/plain": [
       "(109, 40)"
      ]
     },
     "execution_count": 40,
     "metadata": {},
     "output_type": "execute_result"
    }
   ],
   "source": [
    "X_train.shape"
   ]
  },
  {
   "cell_type": "markdown",
   "id": "6a6f79d9",
   "metadata": {},
   "source": [
    "## Using Linear regression as a baseline"
   ]
  },
  {
   "cell_type": "code",
   "execution_count": 48,
   "id": "b0ac1a62",
   "metadata": {},
   "outputs": [
    {
     "data": {
      "text/plain": [
       "LinearRegression()"
      ]
     },
     "execution_count": 48,
     "metadata": {},
     "output_type": "execute_result"
    }
   ],
   "source": [
    "lr = LinearRegression()\n",
    "lr.fit(X_train,y_train)"
   ]
  },
  {
   "cell_type": "code",
   "execution_count": 51,
   "id": "d9817bee",
   "metadata": {},
   "outputs": [
    {
     "data": {
      "text/plain": [
       "0.4773320885972394"
      ]
     },
     "execution_count": 51,
     "metadata": {},
     "output_type": "execute_result"
    }
   ],
   "source": [
    "lr.score(X_train,y_train)"
   ]
  },
  {
   "cell_type": "code",
   "execution_count": 52,
   "id": "73602448",
   "metadata": {},
   "outputs": [
    {
     "data": {
      "text/plain": [
       "-0.6299432817467487"
      ]
     },
     "execution_count": 52,
     "metadata": {},
     "output_type": "execute_result"
    }
   ],
   "source": [
    "lr.score(X_test,y_test)"
   ]
  },
  {
   "cell_type": "code",
   "execution_count": 49,
   "id": "35c09cd3",
   "metadata": {},
   "outputs": [],
   "source": [
    "X = X_train\n",
    "X = sm.add_constant(X_train)\n",
    "y = y_train\n",
    "ols = sm.OLS(y, X).fit()"
   ]
  },
  {
   "cell_type": "code",
   "execution_count": 50,
   "id": "f57b0efc",
   "metadata": {
    "scrolled": true
   },
   "outputs": [
    {
     "data": {
      "text/html": [
       "<table class=\"simpletable\">\n",
       "<caption>OLS Regression Results</caption>\n",
       "<tr>\n",
       "  <th>Dep. Variable:</th>         <td>revenue</td>     <th>  R-squared:         </th> <td>   0.477</td>\n",
       "</tr>\n",
       "<tr>\n",
       "  <th>Model:</th>                   <td>OLS</td>       <th>  Adj. R-squared:    </th> <td>   0.205</td>\n",
       "</tr>\n",
       "<tr>\n",
       "  <th>Method:</th>             <td>Least Squares</td>  <th>  F-statistic:       </th> <td>   1.752</td>\n",
       "</tr>\n",
       "<tr>\n",
       "  <th>Date:</th>             <td>Sat, 11 Dec 2021</td> <th>  Prob (F-statistic):</th>  <td>0.0215</td> \n",
       "</tr>\n",
       "<tr>\n",
       "  <th>Time:</th>                 <td>13:43:51</td>     <th>  Log-Likelihood:    </th> <td> -1714.1</td>\n",
       "</tr>\n",
       "<tr>\n",
       "  <th>No. Observations:</th>      <td>   109</td>      <th>  AIC:               </th> <td>   3504.</td>\n",
       "</tr>\n",
       "<tr>\n",
       "  <th>Df Residuals:</th>          <td>    71</td>      <th>  BIC:               </th> <td>   3606.</td>\n",
       "</tr>\n",
       "<tr>\n",
       "  <th>Df Model:</th>              <td>    37</td>      <th>                     </th>     <td> </td>   \n",
       "</tr>\n",
       "<tr>\n",
       "  <th>Covariance Type:</th>      <td>nonrobust</td>    <th>                     </th>     <td> </td>   \n",
       "</tr>\n",
       "</table>\n",
       "<table class=\"simpletable\">\n",
       "<tr>\n",
       "    <td></td>       <th>coef</th>     <th>std err</th>      <th>t</th>      <th>P>|t|</th>  <th>[0.025</th>    <th>0.975]</th>  \n",
       "</tr>\n",
       "<tr>\n",
       "  <th>const</th> <td> 6.903e+06</td> <td> 3.75e+06</td> <td>    1.840</td> <td> 0.070</td> <td>-5.76e+05</td> <td> 1.44e+07</td>\n",
       "</tr>\n",
       "<tr>\n",
       "  <th>P1</th>    <td>  2.34e+05</td> <td> 3.43e+05</td> <td>    0.683</td> <td> 0.497</td> <td>-4.49e+05</td> <td> 9.17e+05</td>\n",
       "</tr>\n",
       "<tr>\n",
       "  <th>P2</th>    <td>-9.836e+04</td> <td> 3.71e+05</td> <td>   -0.265</td> <td> 0.792</td> <td>-8.39e+05</td> <td> 6.42e+05</td>\n",
       "</tr>\n",
       "<tr>\n",
       "  <th>P3</th>    <td>-3.211e+05</td> <td>  3.6e+05</td> <td>   -0.892</td> <td> 0.375</td> <td>-1.04e+06</td> <td> 3.97e+05</td>\n",
       "</tr>\n",
       "<tr>\n",
       "  <th>P4</th>    <td> 3.309e+05</td> <td> 4.96e+05</td> <td>    0.667</td> <td> 0.507</td> <td>-6.59e+05</td> <td> 1.32e+06</td>\n",
       "</tr>\n",
       "<tr>\n",
       "  <th>P5</th>    <td>-4.475e+05</td> <td> 3.51e+05</td> <td>   -1.274</td> <td> 0.207</td> <td>-1.15e+06</td> <td> 2.53e+05</td>\n",
       "</tr>\n",
       "<tr>\n",
       "  <th>P6</th>    <td>  2.36e+05</td> <td> 2.19e+05</td> <td>    1.077</td> <td> 0.285</td> <td>-2.01e+05</td> <td> 6.73e+05</td>\n",
       "</tr>\n",
       "<tr>\n",
       "  <th>P7</th>    <td>-4.278e+04</td> <td> 2.61e+05</td> <td>   -0.164</td> <td> 0.870</td> <td>-5.63e+05</td> <td> 4.78e+05</td>\n",
       "</tr>\n",
       "<tr>\n",
       "  <th>P8</th>    <td>-1.199e+06</td> <td> 5.39e+05</td> <td>   -2.225</td> <td> 0.029</td> <td>-2.27e+06</td> <td>-1.24e+05</td>\n",
       "</tr>\n",
       "<tr>\n",
       "  <th>P9</th>    <td> 1.331e+06</td> <td> 9.96e+05</td> <td>    1.337</td> <td> 0.185</td> <td>-6.54e+05</td> <td> 3.32e+06</td>\n",
       "</tr>\n",
       "<tr>\n",
       "  <th>P10</th>   <td>-1.073e+05</td> <td> 1.47e+06</td> <td>   -0.073</td> <td> 0.942</td> <td>-3.03e+06</td> <td> 2.82e+06</td>\n",
       "</tr>\n",
       "<tr>\n",
       "  <th>P11</th>   <td>-2.068e+05</td> <td> 2.71e+05</td> <td>   -0.762</td> <td> 0.449</td> <td>-7.48e+05</td> <td> 3.34e+05</td>\n",
       "</tr>\n",
       "<tr>\n",
       "  <th>P12</th>   <td>-3.855e+05</td> <td> 6.07e+05</td> <td>   -0.635</td> <td> 0.528</td> <td> -1.6e+06</td> <td> 8.25e+05</td>\n",
       "</tr>\n",
       "<tr>\n",
       "  <th>P13</th>   <td>-5.985e+05</td> <td> 1.33e+06</td> <td>   -0.451</td> <td> 0.653</td> <td>-3.25e+06</td> <td> 2.05e+06</td>\n",
       "</tr>\n",
       "<tr>\n",
       "  <th>P14</th>   <td>-3.045e+05</td> <td> 3.09e+05</td> <td>   -0.986</td> <td> 0.328</td> <td> -9.2e+05</td> <td> 3.11e+05</td>\n",
       "</tr>\n",
       "<tr>\n",
       "  <th>P15</th>   <td>-9.075e+04</td> <td> 4.64e+05</td> <td>   -0.196</td> <td> 0.845</td> <td>-1.02e+06</td> <td> 8.34e+05</td>\n",
       "</tr>\n",
       "<tr>\n",
       "  <th>P16</th>   <td>-7.476e+05</td> <td> 4.91e+05</td> <td>   -1.522</td> <td> 0.132</td> <td>-1.73e+06</td> <td> 2.32e+05</td>\n",
       "</tr>\n",
       "<tr>\n",
       "  <th>P17</th>   <td> 8.271e+05</td> <td> 4.39e+05</td> <td>    1.883</td> <td> 0.064</td> <td>-4.87e+04</td> <td>  1.7e+06</td>\n",
       "</tr>\n",
       "<tr>\n",
       "  <th>P18</th>   <td> 3.756e+05</td> <td>  3.8e+05</td> <td>    0.987</td> <td> 0.327</td> <td>-3.83e+05</td> <td> 1.13e+06</td>\n",
       "</tr>\n",
       "<tr>\n",
       "  <th>P19</th>   <td>  1.02e+05</td> <td> 1.44e+05</td> <td>    0.711</td> <td> 0.480</td> <td>-1.84e+05</td> <td> 3.88e+05</td>\n",
       "</tr>\n",
       "<tr>\n",
       "  <th>P20</th>   <td>-5.341e+05</td> <td> 1.79e+05</td> <td>   -2.984</td> <td> 0.004</td> <td>-8.91e+05</td> <td>-1.77e+05</td>\n",
       "</tr>\n",
       "<tr>\n",
       "  <th>P21</th>   <td> 1.786e+05</td> <td> 2.46e+05</td> <td>    0.727</td> <td> 0.470</td> <td>-3.12e+05</td> <td> 6.69e+05</td>\n",
       "</tr>\n",
       "<tr>\n",
       "  <th>P22</th>   <td>-2.984e+04</td> <td> 2.55e+05</td> <td>   -0.117</td> <td> 0.907</td> <td>-5.37e+05</td> <td> 4.78e+05</td>\n",
       "</tr>\n",
       "<tr>\n",
       "  <th>P23</th>   <td>-1.369e+05</td> <td> 1.44e+05</td> <td>   -0.950</td> <td> 0.345</td> <td>-4.24e+05</td> <td>  1.5e+05</td>\n",
       "</tr>\n",
       "<tr>\n",
       "  <th>P24</th>   <td> 9.904e+05</td> <td> 6.61e+05</td> <td>    1.498</td> <td> 0.138</td> <td>-3.28e+05</td> <td> 2.31e+06</td>\n",
       "</tr>\n",
       "<tr>\n",
       "  <th>P25</th>   <td>  6.66e+05</td> <td> 5.94e+05</td> <td>    1.120</td> <td> 0.266</td> <td>-5.19e+05</td> <td> 1.85e+06</td>\n",
       "</tr>\n",
       "<tr>\n",
       "  <th>P26</th>   <td>-2.004e+06</td> <td> 8.28e+05</td> <td>   -2.421</td> <td> 0.018</td> <td>-3.66e+06</td> <td>-3.54e+05</td>\n",
       "</tr>\n",
       "<tr>\n",
       "  <th>P27</th>   <td> 3068.2083</td> <td> 2.43e+05</td> <td>    0.013</td> <td> 0.990</td> <td>-4.81e+05</td> <td> 4.87e+05</td>\n",
       "</tr>\n",
       "<tr>\n",
       "  <th>P28</th>   <td> 1.106e+06</td> <td> 3.01e+05</td> <td>    3.669</td> <td> 0.000</td> <td> 5.05e+05</td> <td> 1.71e+06</td>\n",
       "</tr>\n",
       "<tr>\n",
       "  <th>P29</th>   <td> 2.431e+05</td> <td> 3.28e+05</td> <td>    0.740</td> <td> 0.462</td> <td>-4.12e+05</td> <td> 8.98e+05</td>\n",
       "</tr>\n",
       "<tr>\n",
       "  <th>P30</th>   <td> 3243.7235</td> <td> 1.63e+05</td> <td>    0.020</td> <td> 0.984</td> <td>-3.21e+05</td> <td> 3.27e+05</td>\n",
       "</tr>\n",
       "<tr>\n",
       "  <th>P31</th>   <td>  1.25e+05</td> <td> 2.44e+05</td> <td>    0.512</td> <td> 0.610</td> <td>-3.62e+05</td> <td> 6.12e+05</td>\n",
       "</tr>\n",
       "<tr>\n",
       "  <th>P32</th>   <td>-1.547e+05</td> <td> 2.79e+05</td> <td>   -0.555</td> <td> 0.581</td> <td>-7.11e+05</td> <td> 4.01e+05</td>\n",
       "</tr>\n",
       "<tr>\n",
       "  <th>P33</th>   <td>-2.759e+05</td> <td> 5.14e+05</td> <td>   -0.537</td> <td> 0.593</td> <td> -1.3e+06</td> <td> 7.48e+05</td>\n",
       "</tr>\n",
       "<tr>\n",
       "  <th>P34</th>   <td> 1.435e+04</td> <td> 4.18e+05</td> <td>    0.034</td> <td> 0.973</td> <td>-8.19e+05</td> <td> 8.48e+05</td>\n",
       "</tr>\n",
       "<tr>\n",
       "  <th>P35</th>   <td> 8.383e+04</td> <td>  3.4e+05</td> <td>    0.247</td> <td> 0.806</td> <td>-5.94e+05</td> <td> 7.61e+05</td>\n",
       "</tr>\n",
       "<tr>\n",
       "  <th>P36</th>   <td> 5.917e+05</td> <td> 6.05e+05</td> <td>    0.979</td> <td> 0.331</td> <td>-6.14e+05</td> <td>  1.8e+06</td>\n",
       "</tr>\n",
       "<tr>\n",
       "  <th>P37</th>   <td> 1.303e+05</td> <td> 4.36e+05</td> <td>    0.299</td> <td> 0.766</td> <td>-7.38e+05</td> <td> 9.99e+05</td>\n",
       "</tr>\n",
       "</table>\n",
       "<table class=\"simpletable\">\n",
       "<tr>\n",
       "  <th>Omnibus:</th>       <td>46.895</td> <th>  Durbin-Watson:     </th> <td>   2.023</td>\n",
       "</tr>\n",
       "<tr>\n",
       "  <th>Prob(Omnibus):</th> <td> 0.000</td> <th>  Jarque-Bera (JB):  </th> <td> 147.925</td>\n",
       "</tr>\n",
       "<tr>\n",
       "  <th>Skew:</th>          <td> 1.517</td> <th>  Prob(JB):          </th> <td>7.56e-33</td>\n",
       "</tr>\n",
       "<tr>\n",
       "  <th>Kurtosis:</th>      <td> 7.833</td> <th>  Cond. No.          </th> <td>    484.</td>\n",
       "</tr>\n",
       "</table><br/><br/>Notes:<br/>[1] Standard Errors assume that the covariance matrix of the errors is correctly specified."
      ],
      "text/plain": [
       "<class 'statsmodels.iolib.summary.Summary'>\n",
       "\"\"\"\n",
       "                            OLS Regression Results                            \n",
       "==============================================================================\n",
       "Dep. Variable:                revenue   R-squared:                       0.477\n",
       "Model:                            OLS   Adj. R-squared:                  0.205\n",
       "Method:                 Least Squares   F-statistic:                     1.752\n",
       "Date:                Sat, 11 Dec 2021   Prob (F-statistic):             0.0215\n",
       "Time:                        13:43:51   Log-Likelihood:                -1714.1\n",
       "No. Observations:                 109   AIC:                             3504.\n",
       "Df Residuals:                      71   BIC:                             3606.\n",
       "Df Model:                          37                                         \n",
       "Covariance Type:            nonrobust                                         \n",
       "==============================================================================\n",
       "                 coef    std err          t      P>|t|      [0.025      0.975]\n",
       "------------------------------------------------------------------------------\n",
       "const       6.903e+06   3.75e+06      1.840      0.070   -5.76e+05    1.44e+07\n",
       "P1           2.34e+05   3.43e+05      0.683      0.497   -4.49e+05    9.17e+05\n",
       "P2         -9.836e+04   3.71e+05     -0.265      0.792   -8.39e+05    6.42e+05\n",
       "P3         -3.211e+05    3.6e+05     -0.892      0.375   -1.04e+06    3.97e+05\n",
       "P4          3.309e+05   4.96e+05      0.667      0.507   -6.59e+05    1.32e+06\n",
       "P5         -4.475e+05   3.51e+05     -1.274      0.207   -1.15e+06    2.53e+05\n",
       "P6           2.36e+05   2.19e+05      1.077      0.285   -2.01e+05    6.73e+05\n",
       "P7         -4.278e+04   2.61e+05     -0.164      0.870   -5.63e+05    4.78e+05\n",
       "P8         -1.199e+06   5.39e+05     -2.225      0.029   -2.27e+06   -1.24e+05\n",
       "P9          1.331e+06   9.96e+05      1.337      0.185   -6.54e+05    3.32e+06\n",
       "P10        -1.073e+05   1.47e+06     -0.073      0.942   -3.03e+06    2.82e+06\n",
       "P11        -2.068e+05   2.71e+05     -0.762      0.449   -7.48e+05    3.34e+05\n",
       "P12        -3.855e+05   6.07e+05     -0.635      0.528    -1.6e+06    8.25e+05\n",
       "P13        -5.985e+05   1.33e+06     -0.451      0.653   -3.25e+06    2.05e+06\n",
       "P14        -3.045e+05   3.09e+05     -0.986      0.328    -9.2e+05    3.11e+05\n",
       "P15        -9.075e+04   4.64e+05     -0.196      0.845   -1.02e+06    8.34e+05\n",
       "P16        -7.476e+05   4.91e+05     -1.522      0.132   -1.73e+06    2.32e+05\n",
       "P17         8.271e+05   4.39e+05      1.883      0.064   -4.87e+04     1.7e+06\n",
       "P18         3.756e+05    3.8e+05      0.987      0.327   -3.83e+05    1.13e+06\n",
       "P19          1.02e+05   1.44e+05      0.711      0.480   -1.84e+05    3.88e+05\n",
       "P20        -5.341e+05   1.79e+05     -2.984      0.004   -8.91e+05   -1.77e+05\n",
       "P21         1.786e+05   2.46e+05      0.727      0.470   -3.12e+05    6.69e+05\n",
       "P22        -2.984e+04   2.55e+05     -0.117      0.907   -5.37e+05    4.78e+05\n",
       "P23        -1.369e+05   1.44e+05     -0.950      0.345   -4.24e+05     1.5e+05\n",
       "P24         9.904e+05   6.61e+05      1.498      0.138   -3.28e+05    2.31e+06\n",
       "P25          6.66e+05   5.94e+05      1.120      0.266   -5.19e+05    1.85e+06\n",
       "P26        -2.004e+06   8.28e+05     -2.421      0.018   -3.66e+06   -3.54e+05\n",
       "P27         3068.2083   2.43e+05      0.013      0.990   -4.81e+05    4.87e+05\n",
       "P28         1.106e+06   3.01e+05      3.669      0.000    5.05e+05    1.71e+06\n",
       "P29         2.431e+05   3.28e+05      0.740      0.462   -4.12e+05    8.98e+05\n",
       "P30         3243.7235   1.63e+05      0.020      0.984   -3.21e+05    3.27e+05\n",
       "P31          1.25e+05   2.44e+05      0.512      0.610   -3.62e+05    6.12e+05\n",
       "P32        -1.547e+05   2.79e+05     -0.555      0.581   -7.11e+05    4.01e+05\n",
       "P33        -2.759e+05   5.14e+05     -0.537      0.593    -1.3e+06    7.48e+05\n",
       "P34         1.435e+04   4.18e+05      0.034      0.973   -8.19e+05    8.48e+05\n",
       "P35         8.383e+04    3.4e+05      0.247      0.806   -5.94e+05    7.61e+05\n",
       "P36         5.917e+05   6.05e+05      0.979      0.331   -6.14e+05     1.8e+06\n",
       "P37         1.303e+05   4.36e+05      0.299      0.766   -7.38e+05    9.99e+05\n",
       "==============================================================================\n",
       "Omnibus:                       46.895   Durbin-Watson:                   2.023\n",
       "Prob(Omnibus):                  0.000   Jarque-Bera (JB):              147.925\n",
       "Skew:                           1.517   Prob(JB):                     7.56e-33\n",
       "Kurtosis:                       7.833   Cond. No.                         484.\n",
       "==============================================================================\n",
       "\n",
       "Notes:\n",
       "[1] Standard Errors assume that the covariance matrix of the errors is correctly specified.\n",
       "\"\"\""
      ]
     },
     "execution_count": 50,
     "metadata": {},
     "output_type": "execute_result"
    }
   ],
   "source": [
    "# using ols we can statisticaly using at a= 0.05 most of the features are irrelevant to the revenues.\n",
    "ols.summary()"
   ]
  },
  {
   "cell_type": "markdown",
   "id": "c1506c7c",
   "metadata": {},
   "source": [
    "## using logistic regression(Lasso)"
   ]
  },
  {
   "cell_type": "code",
   "execution_count": 54,
   "id": "ce3d5c37",
   "metadata": {},
   "outputs": [
    {
     "data": {
      "text/plain": [
       "LogisticRegression(C=1, penalty='l1', solver='liblinear')"
      ]
     },
     "execution_count": 54,
     "metadata": {},
     "output_type": "execute_result"
    }
   ],
   "source": [
    "logreg_ls1 = LogisticRegression(C=1,penalty='l1',solver='liblinear')\n",
    "logreg_ls1.fit(X_train, y_train)"
   ]
  },
  {
   "cell_type": "code",
   "execution_count": 55,
   "id": "7ba3805f",
   "metadata": {},
   "outputs": [
    {
     "name": "stdout",
     "output_type": "stream",
     "text": [
      "0.926605504587156\n",
      "0.0\n"
     ]
    }
   ],
   "source": [
    "print (logreg_ls1.score(X_train, y_train))\n",
    "print(logreg_ls1.score(X_test,y_test))"
   ]
  },
  {
   "cell_type": "code",
   "execution_count": 56,
   "id": "23439776",
   "metadata": {},
   "outputs": [
    {
     "data": {
      "text/plain": [
       "array([[0.00135174, 0.02365912, 0.01909927, ..., 0.00018505, 0.00090538,\n",
       "        0.0022661 ],\n",
       "       [0.00506504, 0.00463568, 0.00118753, ..., 0.00640858, 0.00160767,\n",
       "        0.00062366],\n",
       "       [0.00316757, 0.00763938, 0.03384629, ..., 0.00147257, 0.00109153,\n",
       "        0.00184353],\n",
       "       ...,\n",
       "       [0.00739282, 0.00143866, 0.00078644, ..., 0.00178898, 0.00343781,\n",
       "        0.00438647],\n",
       "       [0.0110158 , 0.0110672 , 0.00050101, ..., 0.00161887, 0.00384386,\n",
       "        0.00703039],\n",
       "       [0.00767719, 0.0025698 , 0.00246401, ..., 0.01483381, 0.00650723,\n",
       "        0.00097824]])"
      ]
     },
     "execution_count": 56,
     "metadata": {},
     "output_type": "execute_result"
    }
   ],
   "source": [
    "logreg_ls1.predict_proba(X_test)"
   ]
  },
  {
   "cell_type": "code",
   "execution_count": 57,
   "id": "8362b5a5",
   "metadata": {},
   "outputs": [
    {
     "data": {
      "text/plain": [
       "array([[ 0.48602584,  0.        ,  0.        , ...,  0.        ,\n",
       "         0.        ,  0.        ],\n",
       "       [ 0.        ,  0.        ,  0.        , ...,  0.        ,\n",
       "         0.        ,  0.        ],\n",
       "       [ 0.        , -0.62697795,  0.        , ...,  0.        ,\n",
       "         0.        ,  0.        ],\n",
       "       ...,\n",
       "       [ 0.        ,  0.        , -0.83163916, ...,  0.        ,\n",
       "         0.        ,  0.        ],\n",
       "       [ 0.        ,  0.        ,  0.        , ...,  0.        ,\n",
       "         0.        ,  0.        ],\n",
       "       [ 0.        ,  0.        ,  0.        , ..., -0.06450332,\n",
       "         0.        ,  0.        ]])"
      ]
     },
     "execution_count": 57,
     "metadata": {},
     "output_type": "execute_result"
    }
   ],
   "source": [
    "logreg_ls1.coef_"
   ]
  },
  {
   "cell_type": "code",
   "execution_count": null,
   "id": "7accc7ea",
   "metadata": {},
   "outputs": [],
   "source": []
  }
 ],
 "metadata": {
  "kernelspec": {
   "display_name": "Python 3",
   "language": "python",
   "name": "python3"
  },
  "language_info": {
   "codemirror_mode": {
    "name": "ipython",
    "version": 3
   },
   "file_extension": ".py",
   "mimetype": "text/x-python",
   "name": "python",
   "nbconvert_exporter": "python",
   "pygments_lexer": "ipython3",
   "version": "3.8.8"
  },
  "widgets": {
   "application/vnd.jupyter.widget-state+json": {
    "state": {},
    "version_major": 2,
    "version_minor": 0
   }
  }
 },
 "nbformat": 4,
 "nbformat_minor": 5
}
